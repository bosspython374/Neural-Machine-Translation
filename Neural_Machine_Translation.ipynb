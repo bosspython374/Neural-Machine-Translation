{
 "cells": [
  {
   "cell_type": "code",
   "execution_count": 3,
   "metadata": {
    "colab": {},
    "colab_type": "code",
    "id": "c7lfC8moV4ht"
   },
   "outputs": [],
   "source": [
    "import tensorflow as tf\n",
    "import pandas as pd\n",
    "import numpy as np"
   ]
  },
  {
   "cell_type": "code",
   "execution_count": 4,
   "metadata": {
    "colab": {
     "base_uri": "https://localhost:8080/",
     "height": 204
    },
    "colab_type": "code",
    "id": "Ng-2M8HvWBIj",
    "outputId": "9b9aeccb-5e68-40e3-fad6-ca8486dee57c"
   },
   "outputs": [
    {
     "data": {
      "text/html": [
       "<div>\n",
       "<style scoped>\n",
       "    .dataframe tbody tr th:only-of-type {\n",
       "        vertical-align: middle;\n",
       "    }\n",
       "\n",
       "    .dataframe tbody tr th {\n",
       "        vertical-align: top;\n",
       "    }\n",
       "\n",
       "    .dataframe thead th {\n",
       "        text-align: right;\n",
       "    }\n",
       "</style>\n",
       "<table border=\"1\" class=\"dataframe\">\n",
       "  <thead>\n",
       "    <tr style=\"text-align: right;\">\n",
       "      <th></th>\n",
       "      <th>english</th>\n",
       "      <th>french</th>\n",
       "    </tr>\n",
       "  </thead>\n",
       "  <tbody>\n",
       "    <tr>\n",
       "      <th>That's hers.</th>\n",
       "      <td>C'est la sienne.</td>\n",
       "      <td>CC-BY 2.0 (France) Attribution: tatoeba.org #2...</td>\n",
       "    </tr>\n",
       "    <tr>\n",
       "      <th>Can you skate?</th>\n",
       "      <td>Sais-tu patiner ?</td>\n",
       "      <td>CC-BY 2.0 (France) Attribution: tatoeba.org #7...</td>\n",
       "    </tr>\n",
       "    <tr>\n",
       "      <th>How lovely!</th>\n",
       "      <td>Comme c'est charmant !</td>\n",
       "      <td>CC-BY 2.0 (France) Attribution: tatoeba.org #1...</td>\n",
       "    </tr>\n",
       "    <tr>\n",
       "      <th>Blindfold Tom.</th>\n",
       "      <td>Bandez les yeux de Tom.</td>\n",
       "      <td>CC-BY 2.0 (France) Attribution: tatoeba.org #8...</td>\n",
       "    </tr>\n",
       "    <tr>\n",
       "      <th>He pinched me!</th>\n",
       "      <td>Il m'a pincée !</td>\n",
       "      <td>CC-BY 2.0 (France) Attribution: tatoeba.org #2...</td>\n",
       "    </tr>\n",
       "  </tbody>\n",
       "</table>\n",
       "</div>"
      ],
      "text/plain": [
       "                                english  \\\n",
       "That's hers.           C'est la sienne.   \n",
       "Can you skate?        Sais-tu patiner ?   \n",
       "How lovely!      Comme c'est charmant !   \n",
       "Blindfold Tom.  Bandez les yeux de Tom.   \n",
       "He pinched me!          Il m'a pincée !   \n",
       "\n",
       "                                                           french  \n",
       "That's hers.    CC-BY 2.0 (France) Attribution: tatoeba.org #2...  \n",
       "Can you skate?  CC-BY 2.0 (France) Attribution: tatoeba.org #7...  \n",
       "How lovely!     CC-BY 2.0 (France) Attribution: tatoeba.org #1...  \n",
       "Blindfold Tom.  CC-BY 2.0 (France) Attribution: tatoeba.org #8...  \n",
       "He pinched me!  CC-BY 2.0 (France) Attribution: tatoeba.org #2...  "
      ]
     },
     "execution_count": 4,
     "metadata": {},
     "output_type": "execute_result"
    }
   ],
   "source": [
    "lines = pd.read_table(\"C:/Users/91897/Desktop/fra.txt\", names=['english', 'french'])\n",
    "lines = lines[:8000]\n",
    "lines.sample(5)"
   ]
  },
  {
   "cell_type": "code",
   "execution_count": 5,
   "metadata": {
    "colab": {
     "base_uri": "https://localhost:8080/",
     "height": 34
    },
    "colab_type": "code",
    "id": "sFkUQ51kWzGC",
    "outputId": "5a384df8-11d4-43a4-9ca6-67f21b73c6e1"
   },
   "outputs": [
    {
     "data": {
      "text/plain": [
       "(8000, 2)"
      ]
     },
     "execution_count": 5,
     "metadata": {},
     "output_type": "execute_result"
    }
   ],
   "source": [
    "lines.shape"
   ]
  },
  {
   "cell_type": "code",
   "execution_count": 6,
   "metadata": {
    "colab": {},
    "colab_type": "code",
    "id": "lzDoTrP_W8E8"
   },
   "outputs": [],
   "source": [
    "##converting to lowercase\n",
    "lines.english = lines.english.apply(lambda x: x.lower())\n",
    "lines.french = lines.french.apply(lambda x: x.lower())"
   ]
  },
  {
   "cell_type": "code",
   "execution_count": 7,
   "metadata": {
    "colab": {},
    "colab_type": "code",
    "id": "NLXNTYyuYv3T"
   },
   "outputs": [],
   "source": [
    "import re\n",
    "lines.english = lines.english.apply(lambda x: re.sub(\"'\", '', x)).apply(lambda x: re.sub(\",\", 'COMMA', x))\n",
    "lines.french = lines.french.apply(lambda x: re.sub(\"'\", '', x)).apply(lambda x: re.sub(\",\", 'COMMA', x))"
   ]
  },
  {
   "cell_type": "code",
   "execution_count": 8,
   "metadata": {
    "colab": {},
    "colab_type": "code",
    "id": "nxtXhh40ZN2M"
   },
   "outputs": [],
   "source": [
    "import string\n",
    "exclude = set(string.punctuation)\n",
    "lines.english = lines.english.apply(lambda x: ''.join(ch for ch in x if ch not in exclude))\n",
    "lines.french = lines.french.apply(lambda x: ''.join(ch for ch in x if ch not in exclude))"
   ]
  },
  {
   "cell_type": "code",
   "execution_count": 9,
   "metadata": {
    "colab": {},
    "colab_type": "code",
    "id": "PgH2sffxYzgV"
   },
   "outputs": [],
   "source": [
    "from string import digits\n",
    "remove_digits = str.maketrans('', '', digits)\n",
    "lines.english = lines.english.apply(lambda x: x.translate(remove_digits))\n",
    "lines.french = lines.french.apply(lambda x: x.translate(remove_digits))"
   ]
  },
  {
   "cell_type": "code",
   "execution_count": 10,
   "metadata": {
    "colab": {
     "base_uri": "https://localhost:8080/",
     "height": 204
    },
    "colab_type": "code",
    "id": "ypLm3he5adsx",
    "outputId": "891e16e8-d35b-4c5a-a127-4808b2967dca"
   },
   "outputs": [
    {
     "data": {
      "text/html": [
       "<div>\n",
       "<style scoped>\n",
       "    .dataframe tbody tr th:only-of-type {\n",
       "        vertical-align: middle;\n",
       "    }\n",
       "\n",
       "    .dataframe tbody tr th {\n",
       "        vertical-align: top;\n",
       "    }\n",
       "\n",
       "    .dataframe thead th {\n",
       "        text-align: right;\n",
       "    }\n",
       "</style>\n",
       "<table border=\"1\" class=\"dataframe\">\n",
       "  <thead>\n",
       "    <tr style=\"text-align: right;\">\n",
       "      <th></th>\n",
       "      <th>english</th>\n",
       "      <th>french</th>\n",
       "    </tr>\n",
       "  </thead>\n",
       "  <tbody>\n",
       "    <tr>\n",
       "      <th>I'm depressed.</th>\n",
       "      <td>je déprime</td>\n",
       "      <td>ccby  france attribution tatoebaorg  ck   mics...</td>\n",
       "    </tr>\n",
       "    <tr>\n",
       "      <th>Tom's afraid.</th>\n",
       "      <td>tom est effrayé</td>\n",
       "      <td>ccby  france attribution tatoebaorg  ck   piti...</td>\n",
       "    </tr>\n",
       "    <tr>\n",
       "      <th>It's easy.</th>\n",
       "      <td>cest simple</td>\n",
       "      <td>ccby  france attribution tatoebaorg  ck   sacr...</td>\n",
       "    </tr>\n",
       "    <tr>\n",
       "      <th>Ask Tom again.</th>\n",
       "      <td>demandez à nouveau à tom</td>\n",
       "      <td>ccby  france attribution tatoebaorg  ck   mics...</td>\n",
       "    </tr>\n",
       "    <tr>\n",
       "      <th>Let's move.</th>\n",
       "      <td>on met les voiles</td>\n",
       "      <td>ccby  france attribution tatoebaorg  meerkat  ...</td>\n",
       "    </tr>\n",
       "  </tbody>\n",
       "</table>\n",
       "</div>"
      ],
      "text/plain": [
       "                                 english  \\\n",
       "I'm depressed.                je déprime   \n",
       "Tom's afraid.            tom est effrayé   \n",
       "It's easy.                   cest simple   \n",
       "Ask Tom again.  demandez à nouveau à tom   \n",
       "Let's move.            on met les voiles   \n",
       "\n",
       "                                                           french  \n",
       "I'm depressed.  ccby  france attribution tatoebaorg  ck   mics...  \n",
       "Tom's afraid.   ccby  france attribution tatoebaorg  ck   piti...  \n",
       "It's easy.      ccby  france attribution tatoebaorg  ck   sacr...  \n",
       "Ask Tom again.  ccby  france attribution tatoebaorg  ck   mics...  \n",
       "Let's move.     ccby  france attribution tatoebaorg  meerkat  ...  "
      ]
     },
     "execution_count": 10,
     "metadata": {},
     "output_type": "execute_result"
    }
   ],
   "source": [
    "lines.sample(5)"
   ]
  },
  {
   "cell_type": "code",
   "execution_count": 11,
   "metadata": {
    "colab": {
     "base_uri": "https://localhost:8080/",
     "height": 204
    },
    "colab_type": "code",
    "id": "MCiRzf1lao5P",
    "outputId": "fa81ec69-ee13-4e55-b0f8-a6e63007fae4"
   },
   "outputs": [
    {
     "data": {
      "text/html": [
       "<div>\n",
       "<style scoped>\n",
       "    .dataframe tbody tr th:only-of-type {\n",
       "        vertical-align: middle;\n",
       "    }\n",
       "\n",
       "    .dataframe tbody tr th {\n",
       "        vertical-align: top;\n",
       "    }\n",
       "\n",
       "    .dataframe thead th {\n",
       "        text-align: right;\n",
       "    }\n",
       "</style>\n",
       "<table border=\"1\" class=\"dataframe\">\n",
       "  <thead>\n",
       "    <tr style=\"text-align: right;\">\n",
       "      <th></th>\n",
       "      <th>english</th>\n",
       "      <th>french</th>\n",
       "    </tr>\n",
       "  </thead>\n",
       "  <tbody>\n",
       "    <tr>\n",
       "      <th>Go.</th>\n",
       "      <td>va</td>\n",
       "      <td>START_ ccby  france attribution tatoebaorg  cm...</td>\n",
       "    </tr>\n",
       "    <tr>\n",
       "      <th>Go.</th>\n",
       "      <td>marche</td>\n",
       "      <td>START_ ccby  france attribution tatoebaorg  cm...</td>\n",
       "    </tr>\n",
       "    <tr>\n",
       "      <th>Go.</th>\n",
       "      <td>bouge</td>\n",
       "      <td>START_ ccby  france attribution tatoebaorg  cm...</td>\n",
       "    </tr>\n",
       "    <tr>\n",
       "      <th>Hi.</th>\n",
       "      <td>salut</td>\n",
       "      <td>START_ ccby  france attribution tatoebaorg  cm...</td>\n",
       "    </tr>\n",
       "    <tr>\n",
       "      <th>Hi.</th>\n",
       "      <td>salut</td>\n",
       "      <td>START_ ccby  france attribution tatoebaorg  cm...</td>\n",
       "    </tr>\n",
       "  </tbody>\n",
       "</table>\n",
       "</div>"
      ],
      "text/plain": [
       "    english                                             french\n",
       "Go.     va   START_ ccby  france attribution tatoebaorg  cm...\n",
       "Go.  marche  START_ ccby  france attribution tatoebaorg  cm...\n",
       "Go.  bouge   START_ ccby  france attribution tatoebaorg  cm...\n",
       "Hi.  salut   START_ ccby  france attribution tatoebaorg  cm...\n",
       "Hi.   salut  START_ ccby  france attribution tatoebaorg  cm..."
      ]
     },
     "execution_count": 11,
     "metadata": {},
     "output_type": "execute_result"
    }
   ],
   "source": [
    "# applying start and end tokens in french sentences\n",
    "lines.french = lines.french.apply(lambda x: 'START_' + ' ' + x + ' ' + '_END')\n",
    "lines.head()"
   ]
  },
  {
   "cell_type": "code",
   "execution_count": 12,
   "metadata": {
    "colab": {},
    "colab_type": "code",
    "id": "W2eyjaC1a2kb"
   },
   "outputs": [],
   "source": [
    "# collecting all unique english words to create a vocabulary\n",
    "all_english_words = set()\n",
    "for eng in lines.english:\n",
    "  for word in eng.split():\n",
    "    if word not in all_english_words:\n",
    "      all_english_words.add(word)\n",
    "\n",
    "# collecting all unique french words to create a vocabulary\n",
    "all_french_words = set()\n",
    "for fre in lines.french:\n",
    "  for word in fre.split():\n",
    "    if word not in all_french_words:\n",
    "      all_french_words.add(word)"
   ]
  },
  {
   "cell_type": "code",
   "execution_count": 13,
   "metadata": {
    "colab": {
     "base_uri": "https://localhost:8080/",
     "height": 51
    },
    "colab_type": "code",
    "id": "aaUiTdanb_De",
    "outputId": "2e6b7aab-51c0-495e-bb9b-a06c2c2b262e"
   },
   "outputs": [
    {
     "name": "stdout",
     "output_type": "stream",
     "text": [
      "length of english words:  3886\n",
      "length of french words:  427\n"
     ]
    }
   ],
   "source": [
    "# printing length of words in each language\n",
    "print('length of english words: ', len(all_english_words))\n",
    "print('length of french words: ', len(all_french_words))"
   ]
  },
  {
   "cell_type": "code",
   "execution_count": 14,
   "metadata": {
    "colab": {
     "base_uri": "https://localhost:8080/",
     "height": 34
    },
    "colab_type": "code",
    "id": "-zv4m3zEcHCT",
    "outputId": "d78c3f53-a7dc-42b1-a1b1-854f5d88c9fe"
   },
   "outputs": [
    {
     "name": "stdout",
     "output_type": "stream",
     "text": [
      "max_input_length:  10\n"
     ]
    }
   ],
   "source": [
    "# getting maximum sentence length of english sentences\n",
    "length_list = []\n",
    "for l in lines.english:\n",
    "  length_list.append(len(l.split(' ')))\n",
    "\n",
    "max_input_length = np.max(length_list)\n",
    "print('max_input_length: ', max_input_length)"
   ]
  },
  {
   "cell_type": "code",
   "execution_count": 15,
   "metadata": {
    "colab": {
     "base_uri": "https://localhost:8080/",
     "height": 34
    },
    "colab_type": "code",
    "id": "vI1Rv05BdNLo",
    "outputId": "ddcfaa3e-3b66-4ded-deab-83da480200bf"
   },
   "outputs": [
    {
     "name": "stdout",
     "output_type": "stream",
     "text": [
      "max_output_length:  12\n"
     ]
    }
   ],
   "source": [
    "# getting maximum sentence length of french sentences\n",
    "length_list = []\n",
    "for l in lines.french:\n",
    "  length_list.append(len(l.split(' ')))\n",
    "\n",
    "max_output_length = np.max(length_list)\n",
    "print('max_output_length: ', max_output_length)"
   ]
  },
  {
   "cell_type": "code",
   "execution_count": 16,
   "metadata": {
    "colab": {
     "base_uri": "https://localhost:8080/",
     "height": 105
    },
    "colab_type": "code",
    "id": "d07kZCnldnru",
    "outputId": "0ddc64f6-db85-4ae8-9af2-2c30f6de26b6"
   },
   "outputs": [
    {
     "name": "stdout",
     "output_type": "stream",
     "text": [
      "all input words:  ['a', 'aaah', 'abandonne', 'abandonner', 'abandonnez', 'abandonnons', 'abandonnèrent', 'abandonné', 'abattu', 'abattue', 'aboient', 'abruti', 'abrutie', 'absurdité', 'accepté', 'accises', 'accompagnemoi', 'accompli', 'accord', 'accordemoi', 'accro', 'accrochetoi', 'accrochezvous', 'accélère', 'accélérez', 'acheter', 'achetezla', 'achetezle', 'achetons', 'acheté', 'achètela', 'achètele', 'achètetoi', 'acquérir', 'actuellement', 'adieu', 'admirateurs', 'admire', 'adorable', 'adorait', 'adore', 'adoré', 'adulte', 'adultes', 'affaiblie', 'affaire', 'affaires', 'affairé', 'affairée', 'affamé', 'affolé', 'affolée', 'affreusement', 'affreux', 'affûtée', 'agent', 'agir', 'agriculteur', 'agréable', 'ah', 'aha', 'ahhh', 'ai', 'aida', 'aide', 'aidemoi', 'aidemoiCOMMA', 'aidenous', 'aidenousCOMMA', 'aident', 'aider', 'aidera', 'aiderai', 'aidetil', 'aidez', 'aidezmoi', 'aidezmoiCOMMA', 'aideznous', 'aideznousCOMMA', 'aidons', 'aidé', 'aije', 'aille', 'ailles', 'ailleurs', 'aima', 'aimable', 'aimait', 'aime', 'aimions', 'aimons', 'aimé', 'aimée', 'ainsi', 'alentour', 'alerte', 'alité', 'alitée', 'alitées', 'alités', 'aller', 'allez', 'allezCOMMA', 'allezvous', 'allezvousen', 'allezy', 'allongéCOMMA', 'allongéeCOMMA', 'allongéesCOMMA', 'allongésCOMMA', 'allons', 'allonsnous', 'allonsy', 'allumée', 'allé', 'alléCOMMA', 'allée', 'allées', 'allés', 'alors', 'ambitieuse', 'ambitieux', 'amende', 'amendé', 'amendée', 'ami', 'amical', 'amicale', 'amicales', 'amicaux', 'amie', 'amoureuse', 'amoureux', 'amusant', 'amusante', 'amusetoi', 'amusezvous', 'amusé', 'amusée', 'amène', 'amènemoi', 'américain', 'ancien', 'andouille', 'anglais', 'anguille', 'annule', 'annulez', 'annulé', 'annulée', 'années', 'ans', 'apeuré', 'apeurée', 'appartientil', 'appelez', 'appelezmoi', 'appeleznous', 'appelle', 'appellemoi', 'appellenous', 'appellera', 'appellerai', 'appelleront', 'appellez', 'appelé', 'appelée', 'appelées', 'appelés', 'applaudir', 'applaudisCOMMA', 'application', 'apporte', 'apportele', 'apporterons', 'apportez', 'apportezle', 'apprends', 'approche', 'approchez', 'approuvent', 'approuvé', 'apprécia', 'apprécie', 'apprécions', 'apprécié', 'apprêtées', 'apprêtés', 'appuie', 'appuyez', 'après', 'arabes', 'archaïque', 'arme', 'armes', 'armetoi', 'armezvous', 'armé', 'armée', 'armées', 'armés', 'arnaque', 'arnaqué', 'arnaquée', 'arrive', 'arriver', 'arrivera', 'arriverons', 'arrives', 'arrivestu', 'arrivezvous', 'arrivé', 'arrière', 'arrogance', 'arrête', 'arrêteCOMMA', 'arrêter', 'arrêtetoi', 'arrêtez', 'arrêtezCOMMA', 'arrêtezles', 'arrêtezvous', 'arrêtons', 'arrêté', 'artiste', 'as', 'asseoir', 'asseyezvous', 'asseyezvousCOMMA', 'assez', 'assiedstoi', 'assiette', 'assis', 'assise', 'assises', 'assisterai', 'assisterons', 'assoupi', 'assoupie', 'assure', 'assuré', 'assurée', 'assuétude', 'asthmatique', 'astu', 'astucieux', 'atil', 'attaque', 'attaquerons', 'attaquez', 'atteint', 'atteinte', 'attendez', 'attendeznous', 'attendons', 'attendra', 'attendre', 'attendrons', 'attends', 'attendsmoi', 'attendsnous', 'attendu', 'attendîmes', 'attentif', 'attention', 'attentive', 'attentivement', 'attirante', 'attrape', 'attrapele', 'attrapez', 'attrapezle', 'attrapé', 'attrapée', 'attristé', 'au', 'aucun', 'aucune', 'audessus', 'augmentele', 'augmentezle', 'aujourdhui', 'aura', 'aussi', 'autiste', 'autour', 'autre', 'aux', 'avais', 'avaisje', 'avait', 'avaitil', 'avance', 'avancez', 'avant', 'avec', 'avertis', 'aveugle', 'avez', 'avezvous', 'avion', 'avions', 'avis', 'avisemoi', 'avocat', 'avocate', 'avoir', 'avons', 'avonsnous', 'aère', 'aérez', 'aîné', 'bague', 'bagues', 'bailla', 'bailler', 'bain', 'baissai', 'baisse', 'baissetoi', 'baissezvous', 'baissé', 'balai', 'bananes', 'bande', 'bandez', 'barbant', 'barbare', 'barbarie', 'barbier', 'barretoi', 'barrezvous', 'bateau', 'bats', 'battez', 'battrai', 'battre', 'battu', 'battues', 'battus', 'bayer', 'beau', 'beaucoup', 'beaux', 'beignet', 'belle', 'besoin', 'besoins', 'biaisé', 'bibi', 'bidon', 'bien', 'bientôt', 'bienvenu', 'bienvenue', 'bigot', 'bilingue', 'binoclard', 'biscuit', 'biser', 'bizarre', 'bizarres', 'bière', 'bièreCOMMA', 'blaguais', 'blague', 'blagues', 'blanc', 'blesse', 'blessé', 'blessée', 'blessées', 'blessés', 'bleu', 'blindé', 'blême', 'boire', 'bois', 'boisle', 'boisson', 'boistu', 'boit', 'boite', 'bol', 'bombe', 'bon', 'bonjour', 'bonne', 'bonnes', 'bons', 'bonsoir', 'bord', 'bordel', 'boston', 'bouchon', 'bouchée', 'bouclezla', 'bouder', 'bouffée', 'bouge', 'bougea', 'bougeonsnous', 'bouger', 'bougez', 'bougé', 'boulanger', 'boulangère', 'boulet', 'boulot', 'bourré', 'bourrée', 'bouts', 'bowling', 'boîte', 'branche', 'bras', 'brave', 'bravo', 'bref', 'brefs', 'bretelles', 'briser', 'brisé', 'britannique', 'bronché', 'brouillard', 'bruyant', 'brève', 'brèves', 'brûle', 'brûlela', 'brûlele', 'brûler', 'brûlezla', 'brûlezle', 'brûlé', 'brûlée', 'brûlées', 'brûlés', 'bu', 'bus', 'but', 'buvais', 'buvant', 'buvez', 'buvezle', 'buvezvous', 'buvons', 'bâti', 'bâtie', 'bégaie', 'béni', 'bénie', 'bénisse', 'bête', 'bœuf', 'bœufCOMMA', 'cache', 'cacher', 'cachetoi', 'cachezvous', 'cachons', 'cadeau', 'cafard', 'café', 'calculé', 'calme', 'calmes', 'calmetoi', 'calmezvous', 'calmos', 'cambriolé', 'cambriolée', 'camouflezle', 'camp', 'caméra', 'canadien', 'canadienne', 'cancer', 'canular', 'capable', 'capitulé', 'captes', 'captez', 'capturezle', 'capté', 'carabine', 'carte', 'cas', 'casse', 'cassent', 'casser', 'cassetoi', 'cassettes', 'cassezvous', 'cassé', 'cassée', 'cassées', 'cassés', 'causé', 'caviar', 'cd', 'ce', 'ceci', 'cela', 'cellesci', 'celleslà', 'celuici', 'cercle', 'cerf', 'certain', 'certaine', 'cesse', 'cesser', 'cessez', 'cessé', 'cest', 'ceuxci', 'ceuxlà', 'chair', 'chaleureux', 'chambre', 'chameaux', 'chance', 'chanceuse', 'chanceux', 'changer', 'changerai', 'changetoi', 'changezvous', 'changé', 'chanson', 'chansons', 'chanta', 'chantait', 'chante', 'chanteCOMMA', 'chantent', 'chanter', 'chanterai', 'chanteur', 'chanteuse', 'chantez', 'chantezCOMMA', 'chanté', 'chançarde', 'chapeau', 'char', 'charlatan', 'charmant', 'charme', 'charrie', 'charriez', 'chat', 'chatouilleuse', 'chatouilleux', 'chats', 'chatte', 'chaud', 'chaudCOMMA', 'chaude', 'chauffeur', 'chaussettes', 'chaussures', 'chauve', 'chauves', 'chauvesouris', 'chef', 'chemin', 'cherchele', 'chercher', 'cheval', 'chevaux', 'cheveux', 'chez', 'chic', 'chien', 'chienne', 'chiens', 'chier', 'chiqué', 'chirurgien', 'choc', 'chocottes', 'choisis', 'choisisen', 'choisismoi', 'choisissait', 'choisissez', 'choisissezen', 'choisissezmoi', 'choqué', 'choquée', 'chose', 'choses', 'chouette', 'chrome', 'ciao', 'cidessous', 'cidessus', 'cinglé', 'cinglée', 'cinq', 'cinéma', 'clair', 'claire', 'claque', 'clef', 'cligne', 'cligné', 'cloué', 'clouée', 'clé', 'clément', 'clémente', 'clémentes', 'cléments', 'cochons', 'coin', 'coincée', 'coincées', 'coincés', 'collant', 'colle', 'collecte', 'collé', 'colère', 'combattrons', 'combien', 'commandement', 'commandes', 'comme', 'commence', 'commencer', 'commencerai', 'commencerons', 'commences', 'commencez', 'commencé', 'comment', 'commentaire', 'commençons', 'compatis', 'complexe', 'compliqué', 'comporte', 'comportetoi', 'comportezvous', 'comprends', 'compris', 'compte', 'compter', 'concentrer', 'concentré', 'concentrée', 'concentrées', 'concentrés', 'conclu', 'condamnés', 'conditionnelle', 'conduirai', 'conduire', 'conduirons', 'conduis', 'conduisez', 'conduisis', 'conduistoi', 'conduit', 'confectionné', 'confessé', 'confiance', 'confiant', 'confiante', 'confiantes', 'confiants', 'confus', 'confuse', 'conjure', 'connais', 'connaissance', 'connaissent', 'connaissons', 'connaît', 'conneries', 'connu', 'connue', 'consciencieuse', 'consciencieux', 'conseille', 'conseils', 'console', 'consolez', 'construit', 'construite', 'contemen', 'content', 'contente', 'contentes', 'contents', 'continuation', 'continue', 'continuer', 'continuerai', 'continuez', 'contrarié', 'contrariée', 'contrat', 'contravention', 'contredanse', 'contrefaçon', 'contribué', 'contrôle', 'contrôler', 'convaincu', 'convaincue', 'conçu', 'conçue', 'cool', 'coolCOMMA', 'copie', 'copine', 'corde', 'coriace', 'corneilles', 'corps', 'correct', 'corrigez', 'cou', 'couard', 'coucher', 'couillon', 'coule', 'coup', 'coupable', 'coupai', 'couper', 'coups', 'coupé', 'coupée', 'courage', 'courageuse', 'courageux', 'courait', 'courant', 'courent', 'coureur', 'courez', 'courir', 'courriel', 'cours', 'courses', 'court', 'courtise', 'couru', 'courus', 'cous', 'couvert', 'couvremoi', 'couvrezle', 'couvrezvous', 'craignez', 'crains', 'crainte', 'cran', 'craques', 'creuse', 'creuser', 'creusez', 'creusé', 'crevé', 'crevée', 'crevées', 'crevés', 'cria', 'crie', 'crierai', 'criminalité', 'criss', 'crié', 'crocs', 'crois', 'croissent', 'croisés', 'croque', 'croquez', 'croyable', 'cruel', 'cruelle', 'cruelles', 'cruels', 'crème', 'crève', 'créatif', 'créatifs', 'créative', 'créatives', 'crédule', 'cuillère', 'cuire', 'cuis', 'cuisez', 'cuisine', 'cuisiner', 'cuisinerai', 'cuisinez', 'cuisinier', 'cuisiné', 'cuit', 'cul', 'culot', 'culsec', 'cultivé', 'cultivée', 'cupide', 'curieuse', 'curieux', 'câlin', 'céda', 'céder', 'céderai', 'cédé', 'célibataire', 'célèbre', 'célébrons', 'cétait', 'côté', 'cœur', 'c’est', 'dabord', 'daccord', 'daccordCOMMA', 'daide', 'dair', 'dalle', 'daller', 'dames', 'danger', 'dans', 'danse', 'danser', 'danserons', 'danseur', 'danseuse', 'dansez', 'dansons', 'dapplaudir', 'dargent', 'darriver', 'darrêter', 'date', 'daube', 'davance', 'davancer', 'davantage', 'de', 'deau', 'debout', 'dedans', 'dehors', 'delles', 'demande', 'demandeleur', 'demandelui', 'demander', 'demanderai', 'demandez', 'demandezleur', 'demandons', 'demandé', 'demeure', 'demeurez', 'demie', 'demitour', 'dentaires', 'dentiste', 'dentrer', 'dernier', 'dernière', 'derrière', 'des', 'descendez', 'descendit', 'descends', 'despace', 'dessayer', 'dessiner', 'dessiné', 'dessous', 'dessus', 'deux', 'devais', 'devant', 'devenais', 'devenait', 'devenu', 'devenue', 'devez', 'deviens', 'devine', 'deviner', 'devinez', 'devins', 'devint', 'deviné', 'devoir', 'devons', 'devrais', 'devraisje', 'devriez', 'devrions', 'devrionsnous', 'diable', 'diabétique', 'dici', 'dicit', 'didentité', 'didiot', 'dieu', 'difficile', 'différente', 'dimbécile', 'dimmondices', 'dingue', 'dingues', 'dirai', 'dire', 'direct', 'directe', 'directs', 'dirent', 'dirigetoi', 'dirigezvous', 'dis', 'discret', 'discrets', 'discrète', 'discrètes', 'discussion', 'discute', 'discuter', 'discutez', 'discutions', 'discutons', 'discutâmes', 'discuté', 'disjoncté', 'disle', 'dismen', 'dismoi', 'disnous', 'disparais', 'disparu', 'disponible', 'dispose', 'disposer', 'disputer', 'distance', 'distrait', 'distraite', 'dit', 'dites', 'ditesmoi', 'ditesnous', 'divisonsnous', 'divorcé', 'divorcée', 'dixhuit', 'dixsept', 'diète', 'dj', 'dodo', 'dois', 'doisje', 'doit', 'doitil', 'dollars', 'domicile', 'dommage', 'donc', 'donna', 'donne', 'donnelamoi', 'donnelemoi', 'donnelui', 'donnemen', 'donnemoi', 'donner', 'donnezlamoi', 'donnezlemoi', 'donnezlui', 'donnezmoi', 'donné', 'dormentils', 'dormez', 'dormi', 'dormir', 'dors', 'doté', 'doucement', 'douleur', 'douloureux', 'doute', 'doutes', 'douté', 'doux', 'dressa', 'dressai', 'dressé', 'drogué', 'droguée', 'droit', 'droite', 'droits', 'drôle', 'du', 'dun', 'dune', 'dupa', 'dur', 'dure', 'dures', 'durs', 'dy', 'dyeux', 'débarras', 'débattu', 'débattue', 'débrouiller', 'débrouillerons', 'débrouillé', 'décalé', 'décampe', 'décampez', 'déchaîné', 'décide', 'déciderai', 'déciderons', 'décidez', 'décidé', 'décollé', 'décommandé', 'décommandée', 'décontracté', 'décrire', 'décris', 'décroché', 'décédé', 'décédées', 'décédés', 'défaites', 'défaits', 'défaut', 'défense', 'défoncé', 'dégage', 'dégagez', 'dégagezCOMMA', 'dégonflé', 'dégonflée', 'dégoûté', 'dégoûtée', 'déguerpissez', 'dégueulassé', 'déjeuner', 'déjeuné', 'déjà', 'délicieux', 'délires', 'démangent', 'démarré', 'démarrée', 'démissionna', 'démissionne', 'démissionner', 'démissionnons', 'démissionné', 'démontemoi', 'démontezmoi', 'déménager', 'dépasse', 'déplacetoi', 'déplacetoiCOMMA', 'déplacezvous', 'déplacezvousCOMMA', 'déplaît', 'dépressif', 'dépressive', 'déprime', 'déprimé', 'déprimée', 'dépêcher', 'dépêcherai', 'dépêcherons', 'dépêchetoi', 'dépêchezvous', 'dépêchonsnous', 'dépêché', 'dépêchée', 'déquerre', 'dérange', 'dérangez', 'dérangé', 'dérape', 'désaccord', 'désarmé', 'désarmée', 'désespère', 'désespérez', 'désespéré', 'désespérée', 'désolé', 'désolée', 'désolées', 'désolés', 'détendait', 'détendezvous', 'détendstoi', 'détendu', 'détendue', 'détendues', 'détendus', 'détestais', 'déteste', 'détestent', 'détesté', 'détient', 'détourne', 'détritus', 'détruisezla', 'détruisezle', 'détruisla', 'détruisle', 'détudier', 'déverrouillele', 'déverrouillezle', 'déverser', 'dévissele', 'dévissezle', 'dévoué', 'dévouée', 'dêtre', 'dîner', 'dû', 'd’accord', 'd’un', 'effarant', 'effectué', 'effet', 'efficace', 'effraction', 'effrayant', 'effrayé', 'elle', 'elles', 'embrasse', 'embrassemoi', 'embrassezmoi', 'embrassonsnous', 'embrassé', 'embrassés', 'embêtant', 'emmerdeur', 'emmerdeuse', 'emmène', 'empire', 'emploi', 'emploie', 'emplois', 'employez', 'emportele', 'emporter', 'emporté', 'emprunté', 'empruntée', 'en', 'encas', 'enceinte', 'encombrant', 'encore', 'encourage', 'encouragez', 'endommagé', 'endormezvous', 'endormi', 'endormie', 'endorstoi', 'endurant', 'endurante', 'enfant', 'enfants', 'enfoirée', 'enfuistoi', 'enfuit', 'enfuyezvous', 'engagé', 'engagée', 'engourdi', 'enlacée', 'enlacées', 'enlacés', 'ennuyez', 'ennuyezvous', 'ennuyons', 'enregistre', 'enregistrez', 'enrhumé', 'enrôlé', 'enseignante', 'enseignestu', 'ensemble', 'ensuite', 'entendons', 'entendre', 'entends', 'entendu', 'enterrela', 'enterrele', 'enterrezla', 'enterrezle', 'enterré', 'enterrée', 'entraîné', 'entraînée', 'entre', 'entreCOMMA', 'entrer', 'entretenues', 'entretenus', 'entretînmes', 'entrez', 'entrezCOMMA', 'entré', 'entrée', 'entrés', 'envie', 'environs', 'envoyez', 'envoyé', 'envoyée', 'erreur', 'es', 'espion', 'espèce', 'essaie', 'essaiele', 'essaiesen', 'essaye', 'essayer', 'essayerons', 'essayez', 'essayezen', 'essayons', 'essayonsla', 'essayonsle', 'essayé', 'esseulé', 'esseulée', 'essuie', 'est', 'estce', 'estelle', 'estil', 'estu', 'et', 'eu', 'eue', 'eues', 'eus', 'eut', 'eux', 'exact', 'exagéré', 'examen', 'examineles', 'examinezles', 'excellent', 'excentrique', 'excitant', 'excité', 'excitée', 'exclu', 'excursion', 'excursions', 'excusemoi', 'excuses', 'excusezmoi', 'existent', 'expert', 'expirait', 'expire', 'expirez', 'expiré', 'expliquer', 'exprimé', 'extra', 'face', 'facile', 'facilement', 'faible', 'faibles', 'failli', 'faim', 'fainéant', 'fainéante', 'fainéantes', 'faire', 'fais', 'faisait', 'faisaitil', 'faisle', 'faisleCOMMA', 'faismoi', 'faisons', 'faisonsle', 'faistoi', 'fait', 'faitce', 'faites', 'faitesle', 'faitesleCOMMA', 'faitesmoi', 'faitesvous', 'faitil', 'faits', 'fallait', 'fallu', 'fallut', 'fanatique', 'fantastique', 'fantômes', 'fatal', 'fatigue', 'fatigué', 'fatiguée', 'fatiguées', 'fatigués', 'fauché', 'fauchées', 'fauchés', 'faudra', 'faut', 'faute', 'faux', 'faveur', 'façons', 'femme', 'femmes', 'fer', 'fera', 'ferai', 'ferais', 'feraisje', 'ferme', 'fermela', 'fermez', 'fermier', 'fermé', 'fermés', 'ferons', 'fesses', 'feu', 'fiable', 'fiancé', 'fiancée', 'fiche', 'fichez', 'fidèle', 'fie', 'fiez', 'figé', 'figée', 'fil', 'file', 'filele', 'filez', 'fille', 'filles', 'filme', 'filmer', 'filmez', 'films', 'fils', 'filé', 'fin', 'fini', 'finie', 'finir', 'finis', 'finissez', 'firefox', 'fis', 'fit', 'fixe', 'fixer', 'fixez', 'fiça', 'fièvre', 'flaire', 'flan', 'flasque', 'flatté', 'flemmard', 'fleurs', 'flic', 'flics', 'flingue', 'flippé', 'floué', 'flouée', 'foies', 'foiré', 'fois', 'foisCOMMA', 'folle', 'fonctionne', 'fonctionnera', 'fonctionné', 'fonds', 'font', 'football', 'forces', 'forme', 'formidable', 'formuler', 'fort', 'forte', 'fortes', 'forts', 'fortuné', 'fortunée', 'fou', 'foules', 'fourbu', 'fous', 'fout', 'foutez', 'foutre', 'foutu', 'foutus', 'fracassé', 'français', 'frappa', 'frappé', 'frappée', 'fredonne', 'fredonner', 'freiné', 'fringale', 'froid', 'froides', 'froids', 'fromage', 'froncé', 'frousse', 'fruit', 'fruits', 'fui', 'fuis', 'fuit', 'fuite', 'fume', 'fumer', 'fumes', 'fumestu', 'fumez', 'fumezvous', 'fumée', 'furieux', 'fus', 'fusil', 'fut', 'futile', 'futon', 'fuyez', 'fuyons', 'fâché', 'fâchée', 'fête', 'fûmes', 'gaffe', 'gagnant', 'gagnante', 'gagne', 'gagner', 'gagnerons', 'gagnâmes', 'gagnèrent', 'gagné', 'galant', 'galère', 'gamin', 'gamine', 'gamins', 'garde', 'gardele', 'gardeles', 'gardes', 'gardez', 'gardezle', 'gardezles', 'gargarisé', 'garçon', 'garçons', 'gaspillage', 'gauche', 'gaules', 'gavé', 'gavée', 'gaz', 'geindre', 'gelé', 'genre', 'gens', 'gentil', 'gentille', 'gentilles', 'gentils', 'geste', 'givré', 'givrée', 'givrées', 'givrés', 'glace', 'glacée', 'glisse', 'glisser', 'gloussa', 'gloussé', 'gnangnan', 'goberais', 'golf', 'gosse', 'gourmand', 'gourmande', 'goûte', 'goûtela', 'goûtele', 'goûtez', 'goûtezla', 'goûtezle', 'grand', 'grande', 'grandes', 'grandiront', 'grands', 'gras', 'grassouillet', 'grassouillette', 'gratuit', 'gratuitement', 'grave', 'grimace', 'grimacé', 'grimaça', 'grogna', 'grognait', 'grogné', 'gros', 'grosse', 'grossier', 'grossiers', 'grossis', 'grossière', 'grossières', 'grossièreté', 'grouille', 'grouiller', 'grouilletoi', 'grève', 'guerre', 'guerreCOMMA', 'gueule', 'guéri', 'guérie', 'guérira', 'gâchis', 'gâteau', 'gâteaux', 'gémeaux', 'gémi', 'gémissait', 'génial', 'génie', 'généreuse', 'généreux', 'gérerons', 'géré', 'gênez', 'h', 'habilletoi', 'habillezvous', 'hache', 'hais', 'haleté', 'halte', 'hanche', 'haricots', 'hasarde', 'haussa', 'haussé', 'haut', 'haï', 'hein', 'helvète', 'heure', 'heures', 'heureuse', 'heureuses', 'heureux', 'heurté', 'hideux', 'hocha', 'hockey', 'homme', 'hommes', 'honnête', 'honnêtes', 'honte', 'horreur', 'horrible', 'hors', 'huit', 'humain', 'humble', 'humeur', 'hurla', 'hurlait', 'hurler', 'hurlé', 'hypothèse', 'hâte', 'hâter', 'héCOMMA', 'héros', 'héroïque', 'hésité', 'ici', 'iciCOMMA', 'identifiez', 'idiot', 'idiote', 'idiotes', 'idiots', 'idée', 'ignore', 'ignorele', 'ignoreles', 'ignorez', 'ignorezle', 'ignorezles', 'ignoré', 'ignorée', 'il', 'illuminé', 'ils', 'imbécile', 'imitation', 'immense', 'immobile', 'immobiles', 'immunisé', 'immunisée', 'immédiatement', 'impartial', 'impartiale', 'impatient', 'impatiente', 'impeccable', 'impertinent', 'impitoyable', 'impitoyables', 'impliqué', 'impliquée', 'impoli', 'impolie', 'important', 'importants', 'importe', 'importetil', 'impossible', 'impressionnée', 'improvisé', 'impulsif', 'impulsive', 'impôts', 'incapable', 'inclus', 'incluse', 'inconcevable', 'incroyable', 'indigné', 'indignée', 'indésirable', 'informe', 'informez', 'informezen', 'ingéniosité', 'ingénu', 'ingénue', 'inimaginable', 'initié', 'initiée', 'injuste', 'innocent', 'innocente', 'inoffensif', 'inquiète', 'inquiétez', 'inscristoi', 'inscrivezvous', 'insensible', 'insister', 'insisté', 'insolence', 'inspira', 'inspire', 'inspirez', 'inspiré', 'instant', 'intelligent', 'intelligentes', 'intelligents', 'interrogez', 'interrompre', 'intrigué', 'intriguée', 'intrépide', 'inutile', 'inventé', 'invité', 'invitée', 'ira', 'irastu', 'iratil', 'irezvous', 'ironique', 'irons', 'irruption', 'ivre', 'jabandonne', 'jabandonnerai', 'jaccepterais', 'jacclamais', 'jachète', 'jachèterai', 'jadmirais', 'jadmire', 'jadorais', 'jadore', 'jai', 'jaiderai', 'jaimais', 'jaime', 'jaimerais', 'jajoutais', 'jallais', 'jalouse', 'jamais', 'jambe', 'jambes', 'jambon', 'jannulerai', 'japonais', 'jappellerai', 'japprendrai', 'japprécie', 'jarrive', 'jarriverai', 'jarrête', 'jarrêterai', 'jattendrai', 'jattends', 'jaune', 'javais', 'jazz', 'je', 'jemmène', 'jen', 'jenseigne', 'jentends', 'jentrerai', 'jenvie', 'jespère', 'jessaie', 'jessaierai', 'jessayai', 'jessaye', 'jessayerai', 'jetez', 'jette', 'jeune', 'jeunes', 'jeus', 'jeux', 'jexpliquerai', 'jhabite', 'jhonore', 'jimagine', 'jinterdis', 'jirai', 'jobtiendrai', 'jobéirai', 'jogging', 'joignezvous', 'joindrai', 'joindre', 'joli', 'joue', 'jouela', 'jouer', 'joues', 'jouestu', 'jouets', 'jouez', 'jouezvous', 'jouis', 'journal', 'journée', 'joué', 'joyeux', 'jubile', 'jubilez', 'jubilé', 'jumeau', 'jumeaux', 'jumelle', 'jumelles', 'jure', 'juré', 'jusquici', 'juste', 'justes', 'justice', 'jutilise', 'jy', 'jécoute', 'jécris', 'jélève', 'jéprouve', 'jésuite', 'jésus', 'jétais', 'j’ai', 'j’aide', 'j’aime', 'j’en', 'j’y', 'j’étais', 'klaxonne', 'klaxonnez', 'la', 'labri', 'lachète', 'lachèterai', 'lachèterais', 'laddition', 'ladditionCOMMA', 'laffaire', 'lai', 'laid', 'laide', 'laids', 'laije', 'lail', 'laimait', 'laime', 'laimons', 'lair', 'laise', 'laissa', 'laisse', 'laissele', 'laissemoi', 'laissenous', 'laissetoi', 'laissez', 'laissezle', 'laissezmoi', 'laisseznous', 'laissezvous', 'laissé', 'laissée', 'laissées', 'laissés', 'lait', 'lalcool', 'lamour', 'lampe', 'lance', 'lancer', 'langue', 'lapidé', 'lappartement', 'lapprécia', 'lapprécie', 'lapprécions', 'largent', 'largué', 'larguée', 'larme', 'larmes', 'lart', 'las', 'lasses', 'lastu', 'lattaque', 'lattraperai', 'lautomne', 'lautre', 'lavais', 'lavetoi', 'lavez', 'lavezvous', 'lavons', 'lavé', 'lavée', 'le', 'leau', 'lemporte', 'lemporter', 'lemporterons', 'lemportâmes', 'lencre', 'lenfer', 'lenlaça', 'lent', 'lentement', 'lentraîneur', 'lenvie', 'lerreur', 'les', 'lespace', 'lespoir', 'lessayer', 'lessayerai', 'lest', 'lestomac', 'leurs', 'leva', 'lever', 'levez', 'levé', 'levée', 'levées', 'levés', 'lexercice', 'lextérieur', 'lheure', 'lhiver', 'lhorloge', 'liberté', 'libre', 'libres', 'libère', 'libérez', 'licencié', 'licite', 'lieu', 'lignore', 'lintérieur', 'lion', 'liquide', 'lirai', 'lire', 'lis', 'lisez', 'liste', 'lit', 'livre', 'livres', 'lodeur', 'logique', 'loi', 'loin', 'loiseau', 'long', 'lont', 'lopéra', 'lor', 'loubliez', 'loucha', 'louché', 'louest', 'loup', 'loupé', 'louve', 'louvre', 'louvrirai', 'loyal', 'loyale', 'lui', 'lumière', 'lunatique', 'lundi', 'lurticaire', 'lutilise', 'lutté', 'là', 'làbas', 'lâche', 'lâchemoi', 'lâchetoi', 'lâchez', 'lâchezmoi', 'lâchezvous', 'lève', 'lèverai', 'lèvetoi', 'lèvres', 'lécart', 'lécole', 'légal', 'létage', 'létreignis', 'lété', 'lévidence', 'l’acquisition', 'l’admets', 'l’ai', 'l’asthme', 'ma', 'mabstiens', 'madapte', 'magie', 'magnat', 'magnetoi', 'magnezvous', 'magnifique', 'maider', 'maigrichon', 'maigrichonne', 'maime', 'maiment', 'main', 'maintenant', 'maintenantCOMMA', 'mais', 'maison', 'maisonCOMMA', 'mal', 'malade', 'malaise', 'malandrin', 'malchanceuse', 'malchanceux', 'malheur', 'malheureuse', 'malheureux', 'malin', 'malpoli', 'malédiction', 'maman', 'mamuse', 'mamuses', 'mange', 'mangeCOMMA', 'mangele', 'mangeons', 'manger', 'mangerai', 'mangerons', 'manges', 'mangez', 'mangezCOMMA', 'mangezle', 'mangeâmes', 'mangions', 'mangé', 'manière', 'manières', 'manquant', 'manque', 'manquer', 'manques', 'manquez', 'manqué', 'manteau', 'mappelle', 'marche', 'marcher', 'marchera', 'marcherai', 'marcherons', 'marchez', 'marché', 'marie', 'marié', 'mariée', 'marqué', 'marrant', 'marrante', 'marrantes', 'marrants', 'marré', 'marrée', 'marrées', 'marrés', 'mary', 'mas', 'masque', 'massis', 'maths', 'matin', 'matinal', 'matinale', 'matures', 'matériel', 'mauvais', 'mauvaise', 'mauvaises', 'mavez', 'max', 'me', 'mec', 'mecs', 'meilleur', 'meilleure', 'membre', 'men', 'mennuie', 'mennuyais', 'mennuyer', 'menottezle', 'mens', 'mensonge', 'menstu', 'ment', 'mental', 'menteur', 'menteurs', 'mentez', 'mentezvous', 'menti', 'mentil', 'mentir', 'mentit', 'mentons', 'merci', 'mercis', 'merdé', 'merveille', 'merveilleux', 'mes', 'mesquin', 'mesquine', 'mest', 'mesure', 'met', 'mets', 'metsle', 'metstoi', 'mettez', 'mettezle', 'mettezvous', 'mettonsnousy', 'mettrai', 'mettre', 'meure', 'meurs', 'meurt', 'mexcuser', 'miel', 'mien', 'mienne', 'miennes', 'miens', 'mieux', 'mignon', 'mignonne', 'mignonnes', 'mignons', 'mignora', 'mille', 'minable', 'mince', 'minces', 'mineurs', 'mintrigue', 'minutieuse', 'minutieux', 'mis', 'mise', 'miséricordieuse', 'miséricordieuses', 'miséricordieux', 'mit', 'moches', 'mode', 'moi', 'moiCOMMA', 'moimême', 'moindre', 'moine', 'moins', 'moitié', 'moment', 'mon', 'monde', 'monte', 'montele', 'monter', 'montez', 'montezle', 'montre', 'montremoi', 'montrerai', 'montres', 'montretoi', 'montrez', 'montrezmoi', 'montrezvous', 'monté', 'montée', 'moque', 'moqué', 'moral', 'mordre', 'mords', 'mordu', 'mort', 'morte', 'mortes', 'morts', 'mot', 'motivé', 'motivée', 'mots', 'mouches', 'mouillé', 'mouillée', 'mourant', 'mourez', 'mourions', 'mourir', 'mourons', 'mourras', 'mourratil', 'mourrons', 'mouvement', 'moyen', 'musique', 'musulman', 'musulmane', 'muté', 'my', 'mèche', 'méchant', 'méchante', 'mécontent', 'mécontente', 'médecin', 'méfiant', 'méfie', 'mélange', 'mémorise', 'mémorisela', 'mémorisele', 'mémorisez', 'mémorisezla', 'mémorisezle', 'ménage', 'méprise', 'mérite', 'mérité', 'méticuleuse', 'méticuleux', 'métier', 'mévanouir', 'mévite', 'même', 'm’a', 'm’approuveton', 'm’entraîne', 'na', 'nabandonne', 'nabandonnez', 'nage', 'nageaient', 'nager', 'nagerai', 'nagerons', 'nagèrent', 'nagé', 'nai', 'naie', 'nallezvous', 'narrive', 'nattendez', 'nattends', 'nature', 'nausée', 'navais', 'navancez', 'navire', 'navons', 'nayez', 'naze', 'naïf', 'naïfs', 'naïve', 'naïves', 'ne', 'neige', 'neiger', 'neigé', 'nen', 'nentendîmes', 'nentrez', 'nerveuse', 'nerveux', 'nespère', 'nest', 'nestce', 'nestelle', 'nestil', 'net', 'nettoiele', 'nettoierai', 'nettoyez', 'nettoyezle', 'neuf', 'neufs', 'neutre', 'neuves', 'nez', 'nia', 'nickel', 'nie', 'niez', 'nimporte', 'ninsiste', 'ninsistez', 'nirai', 'nié', 'noir', 'nombre', 'non', 'nord', 'normal', 'normale', 'normales', 'normaux', 'nos', 'noteCOMMA', 'notes', 'notre', 'nourri', 'nourris', 'nourrissez', 'nourriture', 'nous', 'nousCOMMA', 'nouveau', 'nouveauCOMMA', 'nouveaux', 'nouvelle', 'nouvelles', 'noya', 'noyer', 'noyé', 'nu', 'nuageux', 'nue', 'nuit', 'ny', 'nétais', 'nétait', 'nôtre', 'n’arrive', 'n’importe', 'objectif', 'objectifs', 'objection', 'objective', 'objectives', 'observateur', 'observatrice', 'obstiné', 'obstinée', 'obtenu', 'obèse', 'obéi', 'obéir', 'obéirons', 'obéissant', 'obéit', 'occupé', 'occupée', 'occupées', 'occupés', 'offensé', 'offensée', 'oh', 'ohCOMMA', 'oiseaux', 'ok', 'okCOMMA', 'on', 'ont', 'oppose', 'opposé', 'ordonné', 'ordonnée', 'ordres', 'ordure', 'ordures', 'orphelin', 'osestu', 'osezvous', 'ou', 'ouais', 'oublia', 'oublie', 'oubliele', 'oubliemoi', 'oublier', 'oubliez', 'oubliezle', 'oubliezmoi', 'oublié', 'oui', 'oust', 'ouvert', 'ouvre', 'ouvrela', 'ouvrele', 'ouvremoi', 'ouvrezla', 'ouvrezle', 'ouïdire', 'ouïe', 'ovni', 'où', 'pagaille', 'paie', 'paiera', 'paierai', 'pain', 'palpitant', 'panique', 'paniquez', 'paniqué', 'papa', 'papier', 'par', 'parages', 'paralysé', 'pardi', 'pardon', 'pardonne', 'pardonnemoi', 'pardonnenous', 'pardonnez', 'pardonnezmoi', 'paresseuse', 'paresseuses', 'paresseux', 'parfait', 'parfois', 'pari', 'parie', 'parié', 'parla', 'parle', 'parlemoi', 'parler', 'parlerai', 'parlez', 'parlezmoi', 'parlé', 'parodie', 'parole', 'pars', 'parsCOMMA', 'part', 'partager', 'partagera', 'partagerons', 'partant', 'partez', 'parti', 'partie', 'parties', 'partir', 'partirai', 'partirais', 'partis', 'partit', 'partons', 'parvenir', 'parvenu', 'parvenue', 'parvenus', 'parviens', 'pas', 'passa', 'passade', 'passe', 'passeCOMMA', 'passelemoi', 'passer', 'passerai', 'passeratil', 'passes', 'passez', 'passons', 'passé', 'passée', 'pastiche', 'patent', 'pathétique', 'patient', 'patiente', 'patienter', 'patin', 'patine', 'patiner', 'patron', 'patronne', 'paumé', 'pause', 'pauvre', 'payai', 'payais', 'payait', 'paye', 'payer', 'pays', 'payé', 'peau', 'peinture', 'pense', 'pensesy', 'pensezy', 'pensionné', 'pensionnée', 'perdis', 'perdons', 'perdrai', 'perdre', 'perds', 'perdu', 'perdue', 'perdues', 'perdus', 'perdîmes', 'permettezmoi', 'permettrai', 'permission', 'perplexe', 'perruque', 'personne', 'perte', 'perturbée', 'pesé', 'petit', 'petite', 'petits', 'peu', 'peur', 'peut', 'peutil', 'peuton', 'peutêtre', 'peuvent', 'peux', 'peuxtu', 'phénomène', 'piano', 'pied', 'pieds', 'piges', 'pigez', 'pigezvous', 'pigé', 'pile', 'pinceaux', 'pincé', 'pincée', 'pioche', 'piochez', 'pipe', 'pipeau', 'piqué', 'piscine', 'pitié', 'pitoyable', 'pizza', 'pièce', 'pièces', 'piège', 'piégé', 'piégée', 'place', 'plaie', 'plais', 'plaisance', 'plaisante', 'plaisanterie', 'plaisanteries', 'plaisantons', 'plaisent', 'plaisez', 'plaisir', 'plait', 'plaitCOMMA', 'plaitil', 'plan', 'plane', 'plans', 'plante', 'plantes', 'planté', 'plantée', 'plantées', 'plantés', 'plané', 'plaquée', 'plat', 'plate', 'plaît', 'plaîtCOMMA', 'plaîtil', 'plein', 'pleura', 'pleurait', 'pleure', 'pleurentils', 'pleurer', 'pleurerai', 'pleuré', 'pleutil', 'pleuvait', 'pleuvoir', 'pliela', 'pliele', 'plierai', 'pliezla', 'pliezle', 'plissé', 'plombier', 'plombs', 'plongée', 'plumer', 'plus', 'poche', 'poids', 'poignarder', 'poignardé', 'poignardée', 'poil', 'point', 'pois', 'poison', 'poissard', 'poisson', 'poissons', 'poker', 'poli', 'pommes', 'ponctuel', 'ponctuelle', 'ponctuelles', 'ponctuels', 'poney', 'populaire', 'porc', 'porte', 'portele', 'porté', 'portée', 'posele', 'possible', 'possède', 'poste', 'pot', 'poulets', 'poupée', 'pour', 'pourquoi', 'pourrais', 'pourraisje', 'pourrait', 'pourrions', 'pourrionsnous', 'poursuis', 'poursuit', 'poursuivez', 'poursuivi', 'poursuivit', 'poursuivrai', 'pourvu', 'pousse', 'poussela', 'poussele', 'poussent', 'pousser', 'poussetoi', 'poussez', 'poussezla', 'poussezle', 'poussezvous', 'pouvais', 'pouvez', 'pouvezvous', 'pouvoir', 'pouvons', 'pouvonsnous', 'poèmes', 'poète', 'poésie', 'premier', 'première', 'prend', 'prendrai', 'prendre', 'prends', 'prendsen', 'prendsle', 'prendstoi', 'prenez', 'prenezen', 'prenezle', 'presque', 'pressezvous', 'preuve', 'preuves', 'prie', 'priez', 'prime', 'printemps', 'prions', 'priorité', 'pris', 'prise', 'privé', 'problème', 'prochaine', 'proche', 'procès', 'procédons', 'produit', 'professeur', 'profondeur', 'profondément', 'projets', 'promets', 'promis', 'promîmes', 'propre', 'propres', 'protestais', 'protesté', 'prouverai', 'proximité', 'prudemment', 'prudent', 'prudente', 'prudentes', 'prudents', 'prune', 'pruneaux', 'près', 'précipite', 'précipitez', 'précipité', 'précipitée', 'préfère', 'préjugés', 'préoccupe', 'préoccupé', 'préoccupée', 'préparetoi', 'préparezvous', 'préparé', 'préparée', 'préparées', 'préparés', 'présent', 'présente', 'présentons', 'présenté', 'préséance', 'prévenu', 'prévenue', 'préviendrai', 'préviens', 'prêt', 'prête', 'prêtes', 'prêtre', 'prêts', 'prêté', 'pue', 'pues', 'puis', 'puisje', 'puissant', 'puissante', 'puriste', 'pâle', 'pèse', 'pénétré', 'pépère', 'pétoche', 'pété', 'pêchez', 'qua', 'quant', 'quastu', 'quavezvous', 'que', 'quel', 'quelconques', 'quelle', 'quelque', 'quelquesuns', 'quelquun', 'quereller', 'quest', 'questce', 'question', 'questions', 'qui', 'quiCOMMA', 'quiconque', 'quil', 'quitte', 'quittes', 'quittez', 'quitté', 'quittée', 'quoi', 'quoiCOMMA', 'quon', 'quun', 'quy', 'quétaitce', 'raccrocha', 'raccroche', 'raccrochez', 'raccroché', 'raconte', 'raconté', 'radote', 'radotez', 'raisin', 'raison', 'raisonnable', 'raisonnables', 'ralentis', 'ralentissez', 'ramassele', 'raoul', 'rapide', 'rapidement', 'rapides', 'rappelezmoi', 'rappelle', 'rappelleCOMMA', 'rappellemoi', 'rapprochezvous', 'rare', 'rassasié', 'rationnel', 'rationnelle', 'rattrapele', 'raté', 'ravi', 'ravie', 'rb', 'rcp', 'rebelle', 'rebondissons', 'rebonjour', 'recommence', 'recommencez', 'reconnaissant', 'reconnaissante', 'recueille', 'recul', 'recule', 'reculetoi', 'reculez', 'reculezvous', 'redemande', 'redemandez', 'refaisle', 'refaitesle', 'refusa', 'refuse', 'refuser', 'refusé', 'regard', 'regarda', 'regarde', 'regardele', 'regardemoi', 'regardenous', 'regarder', 'regarderai', 'regardez', 'regardezle', 'regardezmoi', 'regardeznous', 'regardé', 'reine', 'rejoindre', 'relais', 'relaxe', 'relaxeCOMMA', 'relâchele', 'relâchezle', 'relève', 'remarqué', 'remercie', 'remetsle', 'remettezle', 'remis', 'remise', 'remonté', 'remplacela', 'remplacele', 'remplacemoi', 'remplacezla', 'remplacezle', 'remué', 'remuée', 'remuées', 'remués', 'renard', 'renaître', 'rencard', 'rencontra', 'rencontrai', 'rencontrer', 'rencontrées', 'rencontrés', 'rend', 'rendezmoi', 'rendezvous', 'rendons', 'rendrastu', 'rendre', 'rendrezvous', 'rends', 'rendsmoi', 'rendstoi', 'rendu', 'rendue', 'renforts', 'reniflé', 'renonce', 'renonçons', 'rentre', 'rentrer', 'rentrez', 'rentré', 'rentrée', 'renversé', 'renvoyé', 'repensesy', 'repos', 'reposa', 'reposait', 'reposer', 'reposetoi', 'reposezvous', 'reposé', 'reposée', 'reprises', 'repu', 'respecte', 'respectueuse', 'respectueuses', 'respectueux', 'respirait', 'ressenti', 'ressentiment', 'ressentir', 'reste', 'resteCOMMA', 'rester', 'resterai', 'restesy', 'restez', 'restezCOMMA', 'restezy', 'resté', 'restée', 'retard', 'retenez', 'retiens', 'retiretoi', 'retirezvous', 'retour', 'retrait', 'retraite', 'retraité', 'retraitée', 'revenez', 'revenu', 'reviendrai', 'reviens', 'revoilà', 'revoir', 'revoyure', 'revue', 'revérifie', 'reçu', 'rhume', 'ri', 'riait', 'ricanait', 'ricané', 'riche', 'riches', 'rien', 'riez', 'rigole', 'rigolo', 'rigolé', 'rigoureux', 'riposte', 'ripostez', 'rire', 'ris', 'risques', 'risquetil', 'rit', 'riz', 'robot', 'roche', 'rock', 'roi', 'romantique', 'romantisme', 'rompez', 'rompre', 'romps', 'rompu', 'ronfle', 'rose', 'rouge', 'rouges', 'rougi', 'roule', 'rouler', 'roulez', 'rouspéteur', 'route', 'rue', 'rugby', 'ruiné', 'ruinée', 'ruinées', 'ruinés', 'rumeur', 'râler', 'râlé', 'règle', 'réagi', 'réaliste', 'récréation', 'récrée', 'réfléchis', 'réfléchissezy', 'réfléchisy', 'régime', 'régnait', 'réparai', 'répare', 'réparer', 'réparez', 'réparé', 'réparée', 'répondez', 'répondezmoi', 'répondre', 'réponds', 'réservé', 'résiste', 'résister', 'rétablissement', 'réunissezvous', 'réussi', 'réussirons', 'réveil', 'réveille', 'réveilleles', 'réveilletoi', 'réveilletoiCOMMA', 'réveillezvous', 'réveillé', 'réveillée', 'réveillées', 'réveillés', 'réécrit', 'réécrivis', 'rêve', 'rêventils', 'rêver', 'rêves', 'rêvé', 'sa', 'sable', 'sac', 'sadapteratil', 'sage', 'sagesse', 'saggrave', 'sagissaitil', 'sagit', 'sagitil', 'saignait', 'saigne', 'saigner', 'sain', 'sainement', 'saint', 'sainte', 'sais', 'saisirai', 'saisismoi', 'saisissezmoi', 'saisissezvous', 'saisistoi', 'saistu', 'sait', 'saitil', 'sale', 'sales', 'sali', 'salue', 'salut', 'salutCOMMA', 'samedi', 'sang', 'sangfroid', 'sanglotait', 'sans', 'santé', 'saoul', 'saoule', 'saoules', 'saouls', 'saqué', 'sarrache', 'satisfait', 'satisfaite', 'satisfaites', 'satisfaits', 'sauf', 'saufs', 'saumon', 'saura', 'sauront', 'sauta', 'saute', 'sauter', 'sautez', 'sauté', 'sauve', 'sauverai', 'sauves', 'sauvetoi', 'sauvez', 'sauvezvous', 'sauvé', 'sauvée', 'sauvées', 'sauvés', 'savais', 'savait', 'savaitil', 'savent', 'savez', 'savezvous', 'savions', 'savoir', 'savons', 'sceptique', 'schcoumoune', 'scié', 'sciée', 'scorpion', 'se', 'seconde', 'secouetoi', 'secouezvous', 'secoué', 'secouée', 'secret', 'sectaire', 'sefforce', 'selon', 'semaine', 'semble', 'semmerde', 'sen', 'senfuit', 'sennuie', 'sens', 'sensCOMMA', 'sensass', 'sensible', 'sent', 'sentais', 'sentait', 'sentend', 'sentez', 'senti', 'sentie', 'sentir', 'sentis', 'senvole', 'sept', 'sera', 'serai', 'serais', 'seraisje', 'seraitce', 'serremoi', 'serrezmoi', 'sers', 'serstoi', 'sert', 'servante', 'servezvous', 'service', 'ses', 'sest', 'sestil', 'seul', 'seule', 'seules', 'seuls', 'sexy', 'si', 'sidéré', 'sidérée', 'sien', 'sienne', 'siennes', 'siens', 'sieste', 'siffla', 'sifflé', 'signe', 'signerai', 'signez', 'signé', 'sil', 'silencieux', 'simple', 'simplement', 'simulation', 'simule', 'sincère', 'sinistre', 'sirènes', 'siège', 'ski', 'skie', 'skier', 'sobre', 'soif', 'soigné', 'soin', 'soirée', 'sois', 'soit', 'soitil', 'sol', 'soldat', 'solidaire', 'solide', 'sombre', 'somme', 'sommeil', 'sommes', 'sommesnous', 'somnolent', 'son', 'sont', 'sontelles', 'sontils', 'sors', 'sortez', 'sorti', 'sortie', 'sortir', 'sortirai', 'sortit', 'sortons', 'sou', 'souci', 'souciait', 'soucie', 'soucier', 'soucions', 'soudoyées', 'soudoyés', 'souffle', 'souffre', 'souhait', 'souhaitemoi', 'souhaitezmoi', 'souhaits', 'souk', 'soulagement', 'soupe', 'soupira', 'soupiré', 'source', 'sourcils', 'sourd', 'sourde', 'souri', 'souriait', 'souriez', 'souriezCOMMA', 'sourire', 'souris', 'sourisCOMMA', 'sourit', 'sournois', 'sournoise', 'sournoises', 'sous', 'soutenez', 'soutiens', 'souvenezvousen', 'souvenons', 'souvent', 'souviens', 'souviensCOMMA', 'souviensentoi', 'soyez', 'soûl', 'spécial', 'spécifique', 'squash', 'stagiaire', 'stone', 'stop', 'stoppez', 'stoïque', 'strict', 'stricte', 'stricts', 'stupide', 'stupéfait', 'stylo', 'su', 'sucre', 'sucré', 'sud', 'suffit', 'suffitCOMMA', 'suicide', 'suis', 'suisje', 'suisle', 'suismoi', 'suisnous', 'suisse', 'suite', 'suivez', 'suivezle', 'suiveznous', 'suivi', 'suivrons', 'sujet', 'super', 'supplie', 'suppose', 'sur', 'surfeur', 'surfeuse', 'surprendsmoi', 'surprenezmoi', 'surpris', 'surprise', 'sursauté', 'surviendra', 'survis', 'survivre', 'survécu', 'survécûmes', 'sushis', 'sy', 'sympa', 'sympas', 'syncope', 'sèche', 'séché', 'sécurité', 'séparonsnous', 'séparâmes', 'séparées', 'séparés', 'sérieuse', 'sérieusement', 'sérieuses', 'sérieux', 'sévanouira', 'sûr', 'sûre', 'sûres', 'sûrs', 'ta', 'tabasser', 'tabou', 'tadmire', 'tadore', 'tai', 'taider', 'taiderai', 'tailletoi', 'taillezvous', 'taimais', 'taime', 'taimions', 'taisezvous', 'taistoi', 'talent', 'talons', 'tapproche', 'tapprécie', 'taquine', 'tard', 'tarrête', 'tarte', 'tas', 'tasseoir', 'tassures', 'tatillon', 'tatillonne', 'taudis', 'taureau', 'tavons', 'taxi', 'tchintchin', 'te', 'teint', 'tellement', 'temps', 'ten', 'tenace', 'tenais', 'tendu', 'tenez', 'tenezvous', 'tennuiestu', 'tentends', 'tenter', 'tenterai', 'tenterons', 'tenté', 'tentée', 'tenu', 'tenue', 'tenvie', 'terminer', 'terminé', 'terminée', 'terre', 'terrible', 'terrifié', 'terrifiée', 'tes', 'test', 'testu', 'thomas', 'thune', 'thé', 'théCOMMA', 'tien', 'tiendrai', 'tiendrons', 'tienne', 'tiens', 'tiensCOMMA', 'tienstoi', 'tient', 'timide', 'timides', 'tinquiète', 'tira', 'tire', 'tirer', 'tirerai', 'tirerons', 'tiretoi', 'tirez', 'tiré', 'tirées', 'tirés', 'titulaire', 'tocade', 'toi', 'toiCOMMA', 'toimême', 'tom', 'tomCOMMA', 'tombe', 'tomber', 'tombé', 'tombée', 'tombées', 'tombés', 'ton', 'tont', 'tort', 'toubib', 'touche', 'touchela', 'touchele', 'touchez', 'touchezla', 'touchezle', 'touché', 'touchée', 'toujours', 'toupet', 'tour', 'touriste', 'tournait', 'tourne', 'tous', 'tousse', 'toussota', 'tout', 'toute', 'toutes', 'tracasse', 'tracassez', 'trace', 'tracez', 'traduisezle', 'traduisle', 'tragique', 'tragédie', 'train', 'trains', 'tranchante', 'tranquille', 'tranquilles', 'tranquillisezvous', 'transpiré', 'travail', 'travaillais', 'travaille', 'travailler', 'travaillerai', 'travaillerons', 'travaillez', 'travaillons', 'travaillé', 'tremble', 'tremblé', 'tremper', 'trempée', 'trente', 'tressailli', 'trichait', 'triche', 'trichent', 'trichez', 'triché', 'tricote', 'tripe', 'tripes', 'triste', 'tristes', 'tristesse', 'trois', 'troisième', 'trompe', 'trompé', 'trompéje', 'trop', 'trou', 'trouille', 'trouva', 'trouvai', 'trouvais', 'trouve', 'trouverai', 'trouvez', 'trouvé', 'très', 'trébuché', 'trépasser', 'tu', 'tua', 'tue', 'tuela', 'tuele', 'tuer', 'tuerai', 'tuez', 'tuezla', 'tuezle', 'tué', 'ty', 'type', 'téchauffer', 'télé', 'téléphonai', 'téléphoner', 'téléphoné', 'tête', 'têtu', 'têtue', 'tôt', 't’adore', 't’ai', 't’as', 't’es', 'un', 'une', 'urgent', 'usage', 'utilise', 'utiliseles', 'utilisez', 'utilisezles', 'va', 'vaCOMMA', 'vague', 'vain', 'vaincu', 'vainqueurs', 'vais', 'valise', 'vaniteux', 'vanné', 'vannée', 'vas', 'vastu', 'vasy', 'vasyCOMMA', 'vaten', 'vatil', 'vat’en', 'veille', 'veillez', 'veillé', 'veinard', 'veinarde', 'veine', 'vend', 'vends', 'vendu', 'venez', 'venezCOMMA', 'venir', 'venons', 'venu', 'venue', 'verbaliser', 'verbalisé', 'verbalisée', 'verre', 'verreCOMMA', 'verrouillela', 'verrouillele', 'verrouillezla', 'verrouillezle', 'verrouillé', 'vers', 'verse', 'vert', 'vertige', 'vertiges', 'veuillez', 'veut', 'veuve', 'veux', 'veuxtu', 'vexé', 'viande', 'viandeCOMMA', 'vide', 'videla', 'videle', 'videz', 'videzla', 'videzle', 'vie', 'vieille', 'vieilles', 'viendra', 'viendrai', 'viendratelle', 'viendront', 'viens', 'viensCOMMA', 'vient', 'vientil', 'vieux', 'vigilant', 'vigilants', 'vilain', 'ville', 'villes', 'vin', 'vint', 'violon', 'viral', 'virez', 'viré', 'vis', 'visa', 'vise', 'visez', 'vite', 'vivant', 'vivante', 'vivons', 'vivrai', 'vivratil', 'vivre', 'voici', 'voiles', 'voilà', 'voir', 'vois', 'voistu', 'voiture', 'voitures', 'vole', 'volent', 'voler', 'voleur', 'volontaire', 'volé', 'vomi', 'vont', 'vos', 'vote', 'voter', 'votez', 'votons', 'votre', 'voté', 'voulais', 'voulons', 'vous', 'vousCOMMA', 'vousmême', 'voyages', 'voyais', 'voyait', 'voyant', 'voyante', 'voyez', 'voyezvous', 'voyons', 'vrai', 'vraiCOMMA', 'vraiment', 'vu', 'vuCOMMA', 'vue', 'vues', 'vus', 'végan', 'véhicule', 'véhiculé', 'véhiculée', 'vérifie', 'vérifieCOMMA', 'vérifier', 'vérifierai', 'vérifierons', 'vérifiez', 'vérifié', 'véritable', 'vérité', 'vôtre', 'wah', 'waouh', 'y', 'yen', 'yeux', 'zéro', '«', '»', '»COMMA', 'à', 'âge', 'âgé', 'ça', 'ébloui', 'éblouie', 'écartetoi', 'écartezvous', 'échappé', 'échappées', 'échappés', 'échauffer', 'échauffetoi', 'échauffezvous', 'échecs', 'échouerons', 'échoué', 'éclatâmes', 'éclaté', 'éclipsé', 'éclosent', 'écoulé', 'écouta', 'écoute', 'écoutemoi', 'écoutez', 'écoutons', 'écouté', 'écrasé', 'écrasée', 'écrasées', 'écrasés', 'écrire', 'écris', 'écrismoi', 'écrit', 'écrivez', 'écrivezmoi', 'égal', 'également', 'égalité', 'égard', 'égaré', 'égoïste', 'égoïstes', 'élaboré', 'élan', 'éloigné', 'élu', 'élue', 'émettre', 'ému', 'émue', 'énervé', 'énorme', 'épaté', 'épaules', 'épidémie', 'épousemoi', 'épousezmoi', 'épuisé', 'épuisée', 'équipage', 'équipe', 'équitable', 'équitables', 'étais', 'étaisje', 'était', 'étaitce', 'étaitil', 'éteignezle', 'éteinsle', 'étiez', 'étions', 'étoile', 'étourdi', 'étourdie', 'étrange', 'étudiant', 'étudie', 'étudier', 'étudiez', 'été', 'évanoui', 'évanouie', 'éveillé', 'évident', 'événement', 'êtes', 'êtesvous', 'être', 'œil', 'œufs']\n",
      "all output words:  ['START_', '_END', 'aandrusiak', 'abchessel', 'adelpa', 'adjusting', 'afeinberg', 'ag', 'ahmes', 'aiji', 'airvian', 'ajira', 'akaaj', 'akenaseryan', 'alanfus', 'alanrominger', 'alec', 'alexander', 'alexisslay', 'alexparrish', 'algideamygdale', 'alkrasnov', 'amarmecheri', 'amastan', 'amazighgirl', 'amazighsatlasblideen', 'amikema', 'anthaus', 'aperitero', 'apex', 'apollineb', 'aquatius', 'archibald', 'arnxy', 'arykiss', 'asliabbasi', 'asma', 'asveja', 'attribution', 'aurix', 'autobot', 'awael', 'baisong', 'balamax', 'barbiche', 'bart', 'beatminister', 'becs', 'belgavox', 'benbika', 'betsemes', 'blabla', 'blaypaul', 'bluelagoon', 'bluepie', 'bmaynard', 'boriqa', 'borkonall', 'boscowitch', 'bourdu', 'bout', 'bpeel', 'brauliobezerra', 'bravesentry', 'bruno', 'cairnhead', 'callmath', 'camilozeta', 'carpelanam', 'ccby', 'ccneko', 'ce', 'ch', 'chevere', 'chrikaru', 'christian', 'christiane', 'chtof', 'ck', 'clockworkbred', 'cm', 'cn', 'cntrational', 'cocorico', 'codl', 'corvus', 'couarail', 'cronos', 'cs', 'dafp', 'danepo', 'danquebec', 'darinmex', 'ddnktr', 'dejo', 'delapouite', 'deniko', 'despear', 'djino', 'djsaidez', 'djt', 'dolomitt', 'dominiko', 'donkirkby', 'doremi', 'dorenda', 'dreamk', 'dunbab', 'dzouras', 'eastasiastudent', 'eccles', 'eeyinn', 'elaichi', 'eldad', 'elgranjuego', 'elliv', 'emilykamalei', 'enteka', 'erikspen', 'espamatics', 'etala', 'etoile', 'evafranska', 'fanty', 'fatih', 'felix', 'felvideki', 'feudrenais', 'filcxjo', 'firez', 'fish', 'fishda', 'fleur', 'france', 'franlexcois', 'franzmimm', 'freddy', 'freyja', 'gabuliellu', 'gaeiie', 'gamalnemeri', 'garborg', 'gb', 'geez', 'gegeveggie', 'gianich', 'gillux', 'gleki', 'goofy', 'gorgmah', 'guilmaeire', 'gulliver', 'gustonrankin', 'halebopp', 'hamsolo', 'hautis', 'helloroto', 'hennebert', 'hertz', 'hikari', 'honestlang', 'hortusdei', 'hrin', 'human', 'hybrid', 'ichivivi', 'iris', 'itll', 'jackd', 'jakov', 'jamessilver', 'janejeanne', 'janfred', 'jared', 'jaxhere', 'jdonnarumma', 'jerom', 'jesse', 'jgauthier', 'jhomel', 'jio', 'joelle', 'joseph', 'js', 'jsakuragi', 'judithkiwi', 'juliemdm', 'julienpdc', 'kadwallon', 'kaiperkins', 'kamilla', 'kamillel', 'kareybh', 'kebukebu', 'keepyoureyespeeled', 'kerbear', 'khirthash', 'kieranjpball', 'kirschen', 'korekorin', 'kotobaboke', 'kotobaniko', 'kurisutofu', 'laghmanc', 'lamino', 'languageexpert', 'lapinhibou', 'lbdx', 'lebensfreude', 'lepetitanegris', 'lich', 'limegreenteknii', 'lindoula', 'littleben', 'littlejohn', 'lovasoa', 'lovewindpower', 'lucasmg', 'luciosp', 'ludoviko', 'lukaszpp', 'lulantis', 'lunamoonsilver', 'lunchmeat', 'magnificentgoddess', 'mailohilohi', 'mamat', 'manuk', 'marcelostockle', 'marcp', 'marieanne', 'mariezou', 'marioo', 'marloncori', 'marshmallowcat', 'martin', 'martinshadock', 'maxence', 'mayliu', 'mccarras', 'meerkat', 'megamanenm', 'melospawn', 'methodgt', 'michelnialon', 'micsmithel', 'mifonto', 'minshirui', 'minti', 'mkacfr', 'mofli', 'mouche', 'mouseneb', 'mrshoval', 'narnar', 'nasirbal', 'nava', 'nbrr', 'ngdongit', 'nibuen', 'nihonkage', 'nimfeo', 'nm', 'nomadsoul', 'nursemeeks', 'nylez', 'objectivesea', 'offdare', 'olivier', 'ooneykcall', 'orbpic', 'osohombre', 'ozzie', 'paiooooo', 'pandark', 'papabear', 'pasquetfernando', 'patgfisher', 'pauldhunt', 'paulina', 'paulp', 'perceneige', 'petermontgomercy', 'petro', 'petrus', 'pfif', 'pfpillon', 'phil', 'pierrephi', 'piksea', 'pinkyshoes', 'pititnatole', 'pjer', 'pkill', 'pne', 'popolon', 'ppjet', 'qdii', 'quazel', 'rabicat', 'raspakrusto', 'ravas', 'rawrren', 'rbbrbb', 'rene', 'ricardo', 'riccioberto', 'ritualesatanum', 'robbieheslop', 'rockaround', 'roggy', 'roiofthesuisse', 'romira', 'rovo', 'rpglover', 'rtomharper', 'rtroisgr', 'ryanthewired', 'saasmath', 'sacredceltic', 'sadhen', 'saeb', 'saksm', 'salikh', 'salutlolo', 'samm', 'sbamsbamsbam', 'sbgodin', 'sciuro', 'scorpionvenin', 'scotland', 'scott', 'sctld', 'seael', 'sebastien', 'sebcurti', 'selenyt', 'serhiy', 'serpico', 'sestersparrow', 'shanghainese', 'sharaf', 'sharptoothed', 'sharris', 'shazback', 'shekitten', 'shishir', 'sibelius', 'siggg', 'silvermane', 'sisyphe', 'sittelle', 'slomox', 'snout', 'sojl', 'songe', 'sorgan', 'sourcebenedict', 'sourcevoa', 'sowelielepanto', 'spacebadger', 'spamster', 'spenceryonce', 'stevegrant', 'sugoi', 'sundown', 'supercoolbeas', 'suzie', 'sweethoney', 'swift', 'sysko', 'talbotseb', 'tamnguyen', 'tamsanh', 'tamy', 'tanay', 'tanzoniteblack', 'tatoebaorg', 'tcha', 'theachaean', 'themiska', 'theocracy', 'thomsmells', 'thowas', 'thrash', 'thuret', 'tinacalysto', 'tomo', 'toynop', 'trailsend', 'trang', 'tras', 'tripbeetle', 'trotter', 'ufs', 'ulyssemc', 'undertoad', 'vanilla', 'verymuchso', 'vest', 'vgigregg', 'virtuoz', 'visionelf', 'vortarulo', 'wakano', 'wallebot', 'weihaiping', 'wemix', 'westofeden', 'whidou', 'witbrock', 'wittydev', 'wma', 'xellugis', 'xxyy', 'yemana', 'yessoos', 'yorickvidal', 'youmu', 'yuiyu', 'zaphod', 'zarisi', 'zifre', 'zipangu', 'zmoo', 'zurich', 'zwhzwh']\n",
      "encoder tokens:  3886\n",
      "decoder tokens:  3886\n"
     ]
    }
   ],
   "source": [
    "# making a list of all input and output words and sorting them out\n",
    "input_words = sorted(list(all_english_words))\n",
    "output_words = sorted(list(all_french_words))\n",
    "print('all input words: ', input_words)\n",
    "print('all output words: ', output_words)\n",
    "\n",
    "#getting total tokens(words) from input and output\n",
    "num_encoder_tokens = len(all_english_words)\n",
    "num_decoder_tokens = len(all_french_words)\n",
    "print('encoder tokens: ', num_encoder_tokens)\n",
    "print('decoder tokens: ', num_encoder_tokens)"
   ]
  },
  {
   "cell_type": "code",
   "execution_count": 17,
   "metadata": {
    "colab": {
     "base_uri": "https://localhost:8080/",
     "height": 71
    },
    "colab_type": "code",
    "id": "RlHIFSF3eTy_",
    "outputId": "28ff61b2-eb97-4e77-cd74-80ce24a498a3"
   },
   "outputs": [
    {
     "name": "stdout",
     "output_type": "stream",
     "text": [
      "input token index:  {'a': 0, 'aaah': 1, 'abandonne': 2, 'abandonner': 3, 'abandonnez': 4, 'abandonnons': 5, 'abandonnèrent': 6, 'abandonné': 7, 'abattu': 8, 'abattue': 9, 'aboient': 10, 'abruti': 11, 'abrutie': 12, 'absurdité': 13, 'accepté': 14, 'accises': 15, 'accompagnemoi': 16, 'accompli': 17, 'accord': 18, 'accordemoi': 19, 'accro': 20, 'accrochetoi': 21, 'accrochezvous': 22, 'accélère': 23, 'accélérez': 24, 'acheter': 25, 'achetezla': 26, 'achetezle': 27, 'achetons': 28, 'acheté': 29, 'achètela': 30, 'achètele': 31, 'achètetoi': 32, 'acquérir': 33, 'actuellement': 34, 'adieu': 35, 'admirateurs': 36, 'admire': 37, 'adorable': 38, 'adorait': 39, 'adore': 40, 'adoré': 41, 'adulte': 42, 'adultes': 43, 'affaiblie': 44, 'affaire': 45, 'affaires': 46, 'affairé': 47, 'affairée': 48, 'affamé': 49, 'affolé': 50, 'affolée': 51, 'affreusement': 52, 'affreux': 53, 'affûtée': 54, 'agent': 55, 'agir': 56, 'agriculteur': 57, 'agréable': 58, 'ah': 59, 'aha': 60, 'ahhh': 61, 'ai': 62, 'aida': 63, 'aide': 64, 'aidemoi': 65, 'aidemoiCOMMA': 66, 'aidenous': 67, 'aidenousCOMMA': 68, 'aident': 69, 'aider': 70, 'aidera': 71, 'aiderai': 72, 'aidetil': 73, 'aidez': 74, 'aidezmoi': 75, 'aidezmoiCOMMA': 76, 'aideznous': 77, 'aideznousCOMMA': 78, 'aidons': 79, 'aidé': 80, 'aije': 81, 'aille': 82, 'ailles': 83, 'ailleurs': 84, 'aima': 85, 'aimable': 86, 'aimait': 87, 'aime': 88, 'aimions': 89, 'aimons': 90, 'aimé': 91, 'aimée': 92, 'ainsi': 93, 'alentour': 94, 'alerte': 95, 'alité': 96, 'alitée': 97, 'alitées': 98, 'alités': 99, 'aller': 100, 'allez': 101, 'allezCOMMA': 102, 'allezvous': 103, 'allezvousen': 104, 'allezy': 105, 'allongéCOMMA': 106, 'allongéeCOMMA': 107, 'allongéesCOMMA': 108, 'allongésCOMMA': 109, 'allons': 110, 'allonsnous': 111, 'allonsy': 112, 'allumée': 113, 'allé': 114, 'alléCOMMA': 115, 'allée': 116, 'allées': 117, 'allés': 118, 'alors': 119, 'ambitieuse': 120, 'ambitieux': 121, 'amende': 122, 'amendé': 123, 'amendée': 124, 'ami': 125, 'amical': 126, 'amicale': 127, 'amicales': 128, 'amicaux': 129, 'amie': 130, 'amoureuse': 131, 'amoureux': 132, 'amusant': 133, 'amusante': 134, 'amusetoi': 135, 'amusezvous': 136, 'amusé': 137, 'amusée': 138, 'amène': 139, 'amènemoi': 140, 'américain': 141, 'ancien': 142, 'andouille': 143, 'anglais': 144, 'anguille': 145, 'annule': 146, 'annulez': 147, 'annulé': 148, 'annulée': 149, 'années': 150, 'ans': 151, 'apeuré': 152, 'apeurée': 153, 'appartientil': 154, 'appelez': 155, 'appelezmoi': 156, 'appeleznous': 157, 'appelle': 158, 'appellemoi': 159, 'appellenous': 160, 'appellera': 161, 'appellerai': 162, 'appelleront': 163, 'appellez': 164, 'appelé': 165, 'appelée': 166, 'appelées': 167, 'appelés': 168, 'applaudir': 169, 'applaudisCOMMA': 170, 'application': 171, 'apporte': 172, 'apportele': 173, 'apporterons': 174, 'apportez': 175, 'apportezle': 176, 'apprends': 177, 'approche': 178, 'approchez': 179, 'approuvent': 180, 'approuvé': 181, 'apprécia': 182, 'apprécie': 183, 'apprécions': 184, 'apprécié': 185, 'apprêtées': 186, 'apprêtés': 187, 'appuie': 188, 'appuyez': 189, 'après': 190, 'arabes': 191, 'archaïque': 192, 'arme': 193, 'armes': 194, 'armetoi': 195, 'armezvous': 196, 'armé': 197, 'armée': 198, 'armées': 199, 'armés': 200, 'arnaque': 201, 'arnaqué': 202, 'arnaquée': 203, 'arrive': 204, 'arriver': 205, 'arrivera': 206, 'arriverons': 207, 'arrives': 208, 'arrivestu': 209, 'arrivezvous': 210, 'arrivé': 211, 'arrière': 212, 'arrogance': 213, 'arrête': 214, 'arrêteCOMMA': 215, 'arrêter': 216, 'arrêtetoi': 217, 'arrêtez': 218, 'arrêtezCOMMA': 219, 'arrêtezles': 220, 'arrêtezvous': 221, 'arrêtons': 222, 'arrêté': 223, 'artiste': 224, 'as': 225, 'asseoir': 226, 'asseyezvous': 227, 'asseyezvousCOMMA': 228, 'assez': 229, 'assiedstoi': 230, 'assiette': 231, 'assis': 232, 'assise': 233, 'assises': 234, 'assisterai': 235, 'assisterons': 236, 'assoupi': 237, 'assoupie': 238, 'assure': 239, 'assuré': 240, 'assurée': 241, 'assuétude': 242, 'asthmatique': 243, 'astu': 244, 'astucieux': 245, 'atil': 246, 'attaque': 247, 'attaquerons': 248, 'attaquez': 249, 'atteint': 250, 'atteinte': 251, 'attendez': 252, 'attendeznous': 253, 'attendons': 254, 'attendra': 255, 'attendre': 256, 'attendrons': 257, 'attends': 258, 'attendsmoi': 259, 'attendsnous': 260, 'attendu': 261, 'attendîmes': 262, 'attentif': 263, 'attention': 264, 'attentive': 265, 'attentivement': 266, 'attirante': 267, 'attrape': 268, 'attrapele': 269, 'attrapez': 270, 'attrapezle': 271, 'attrapé': 272, 'attrapée': 273, 'attristé': 274, 'au': 275, 'aucun': 276, 'aucune': 277, 'audessus': 278, 'augmentele': 279, 'augmentezle': 280, 'aujourdhui': 281, 'aura': 282, 'aussi': 283, 'autiste': 284, 'autour': 285, 'autre': 286, 'aux': 287, 'avais': 288, 'avaisje': 289, 'avait': 290, 'avaitil': 291, 'avance': 292, 'avancez': 293, 'avant': 294, 'avec': 295, 'avertis': 296, 'aveugle': 297, 'avez': 298, 'avezvous': 299, 'avion': 300, 'avions': 301, 'avis': 302, 'avisemoi': 303, 'avocat': 304, 'avocate': 305, 'avoir': 306, 'avons': 307, 'avonsnous': 308, 'aère': 309, 'aérez': 310, 'aîné': 311, 'bague': 312, 'bagues': 313, 'bailla': 314, 'bailler': 315, 'bain': 316, 'baissai': 317, 'baisse': 318, 'baissetoi': 319, 'baissezvous': 320, 'baissé': 321, 'balai': 322, 'bananes': 323, 'bande': 324, 'bandez': 325, 'barbant': 326, 'barbare': 327, 'barbarie': 328, 'barbier': 329, 'barretoi': 330, 'barrezvous': 331, 'bateau': 332, 'bats': 333, 'battez': 334, 'battrai': 335, 'battre': 336, 'battu': 337, 'battues': 338, 'battus': 339, 'bayer': 340, 'beau': 341, 'beaucoup': 342, 'beaux': 343, 'beignet': 344, 'belle': 345, 'besoin': 346, 'besoins': 347, 'biaisé': 348, 'bibi': 349, 'bidon': 350, 'bien': 351, 'bientôt': 352, 'bienvenu': 353, 'bienvenue': 354, 'bigot': 355, 'bilingue': 356, 'binoclard': 357, 'biscuit': 358, 'biser': 359, 'bizarre': 360, 'bizarres': 361, 'bière': 362, 'bièreCOMMA': 363, 'blaguais': 364, 'blague': 365, 'blagues': 366, 'blanc': 367, 'blesse': 368, 'blessé': 369, 'blessée': 370, 'blessées': 371, 'blessés': 372, 'bleu': 373, 'blindé': 374, 'blême': 375, 'boire': 376, 'bois': 377, 'boisle': 378, 'boisson': 379, 'boistu': 380, 'boit': 381, 'boite': 382, 'bol': 383, 'bombe': 384, 'bon': 385, 'bonjour': 386, 'bonne': 387, 'bonnes': 388, 'bons': 389, 'bonsoir': 390, 'bord': 391, 'bordel': 392, 'boston': 393, 'bouchon': 394, 'bouchée': 395, 'bouclezla': 396, 'bouder': 397, 'bouffée': 398, 'bouge': 399, 'bougea': 400, 'bougeonsnous': 401, 'bouger': 402, 'bougez': 403, 'bougé': 404, 'boulanger': 405, 'boulangère': 406, 'boulet': 407, 'boulot': 408, 'bourré': 409, 'bourrée': 410, 'bouts': 411, 'bowling': 412, 'boîte': 413, 'branche': 414, 'bras': 415, 'brave': 416, 'bravo': 417, 'bref': 418, 'brefs': 419, 'bretelles': 420, 'briser': 421, 'brisé': 422, 'britannique': 423, 'bronché': 424, 'brouillard': 425, 'bruyant': 426, 'brève': 427, 'brèves': 428, 'brûle': 429, 'brûlela': 430, 'brûlele': 431, 'brûler': 432, 'brûlezla': 433, 'brûlezle': 434, 'brûlé': 435, 'brûlée': 436, 'brûlées': 437, 'brûlés': 438, 'bu': 439, 'bus': 440, 'but': 441, 'buvais': 442, 'buvant': 443, 'buvez': 444, 'buvezle': 445, 'buvezvous': 446, 'buvons': 447, 'bâti': 448, 'bâtie': 449, 'bégaie': 450, 'béni': 451, 'bénie': 452, 'bénisse': 453, 'bête': 454, 'bœuf': 455, 'bœufCOMMA': 456, 'cache': 457, 'cacher': 458, 'cachetoi': 459, 'cachezvous': 460, 'cachons': 461, 'cadeau': 462, 'cafard': 463, 'café': 464, 'calculé': 465, 'calme': 466, 'calmes': 467, 'calmetoi': 468, 'calmezvous': 469, 'calmos': 470, 'cambriolé': 471, 'cambriolée': 472, 'camouflezle': 473, 'camp': 474, 'caméra': 475, 'canadien': 476, 'canadienne': 477, 'cancer': 478, 'canular': 479, 'capable': 480, 'capitulé': 481, 'captes': 482, 'captez': 483, 'capturezle': 484, 'capté': 485, 'carabine': 486, 'carte': 487, 'cas': 488, 'casse': 489, 'cassent': 490, 'casser': 491, 'cassetoi': 492, 'cassettes': 493, 'cassezvous': 494, 'cassé': 495, 'cassée': 496, 'cassées': 497, 'cassés': 498, 'causé': 499, 'caviar': 500, 'cd': 501, 'ce': 502, 'ceci': 503, 'cela': 504, 'cellesci': 505, 'celleslà': 506, 'celuici': 507, 'cercle': 508, 'cerf': 509, 'certain': 510, 'certaine': 511, 'cesse': 512, 'cesser': 513, 'cessez': 514, 'cessé': 515, 'cest': 516, 'ceuxci': 517, 'ceuxlà': 518, 'chair': 519, 'chaleureux': 520, 'chambre': 521, 'chameaux': 522, 'chance': 523, 'chanceuse': 524, 'chanceux': 525, 'changer': 526, 'changerai': 527, 'changetoi': 528, 'changezvous': 529, 'changé': 530, 'chanson': 531, 'chansons': 532, 'chanta': 533, 'chantait': 534, 'chante': 535, 'chanteCOMMA': 536, 'chantent': 537, 'chanter': 538, 'chanterai': 539, 'chanteur': 540, 'chanteuse': 541, 'chantez': 542, 'chantezCOMMA': 543, 'chanté': 544, 'chançarde': 545, 'chapeau': 546, 'char': 547, 'charlatan': 548, 'charmant': 549, 'charme': 550, 'charrie': 551, 'charriez': 552, 'chat': 553, 'chatouilleuse': 554, 'chatouilleux': 555, 'chats': 556, 'chatte': 557, 'chaud': 558, 'chaudCOMMA': 559, 'chaude': 560, 'chauffeur': 561, 'chaussettes': 562, 'chaussures': 563, 'chauve': 564, 'chauves': 565, 'chauvesouris': 566, 'chef': 567, 'chemin': 568, 'cherchele': 569, 'chercher': 570, 'cheval': 571, 'chevaux': 572, 'cheveux': 573, 'chez': 574, 'chic': 575, 'chien': 576, 'chienne': 577, 'chiens': 578, 'chier': 579, 'chiqué': 580, 'chirurgien': 581, 'choc': 582, 'chocottes': 583, 'choisis': 584, 'choisisen': 585, 'choisismoi': 586, 'choisissait': 587, 'choisissez': 588, 'choisissezen': 589, 'choisissezmoi': 590, 'choqué': 591, 'choquée': 592, 'chose': 593, 'choses': 594, 'chouette': 595, 'chrome': 596, 'ciao': 597, 'cidessous': 598, 'cidessus': 599, 'cinglé': 600, 'cinglée': 601, 'cinq': 602, 'cinéma': 603, 'clair': 604, 'claire': 605, 'claque': 606, 'clef': 607, 'cligne': 608, 'cligné': 609, 'cloué': 610, 'clouée': 611, 'clé': 612, 'clément': 613, 'clémente': 614, 'clémentes': 615, 'cléments': 616, 'cochons': 617, 'coin': 618, 'coincée': 619, 'coincées': 620, 'coincés': 621, 'collant': 622, 'colle': 623, 'collecte': 624, 'collé': 625, 'colère': 626, 'combattrons': 627, 'combien': 628, 'commandement': 629, 'commandes': 630, 'comme': 631, 'commence': 632, 'commencer': 633, 'commencerai': 634, 'commencerons': 635, 'commences': 636, 'commencez': 637, 'commencé': 638, 'comment': 639, 'commentaire': 640, 'commençons': 641, 'compatis': 642, 'complexe': 643, 'compliqué': 644, 'comporte': 645, 'comportetoi': 646, 'comportezvous': 647, 'comprends': 648, 'compris': 649, 'compte': 650, 'compter': 651, 'concentrer': 652, 'concentré': 653, 'concentrée': 654, 'concentrées': 655, 'concentrés': 656, 'conclu': 657, 'condamnés': 658, 'conditionnelle': 659, 'conduirai': 660, 'conduire': 661, 'conduirons': 662, 'conduis': 663, 'conduisez': 664, 'conduisis': 665, 'conduistoi': 666, 'conduit': 667, 'confectionné': 668, 'confessé': 669, 'confiance': 670, 'confiant': 671, 'confiante': 672, 'confiantes': 673, 'confiants': 674, 'confus': 675, 'confuse': 676, 'conjure': 677, 'connais': 678, 'connaissance': 679, 'connaissent': 680, 'connaissons': 681, 'connaît': 682, 'conneries': 683, 'connu': 684, 'connue': 685, 'consciencieuse': 686, 'consciencieux': 687, 'conseille': 688, 'conseils': 689, 'console': 690, 'consolez': 691, 'construit': 692, 'construite': 693, 'contemen': 694, 'content': 695, 'contente': 696, 'contentes': 697, 'contents': 698, 'continuation': 699, 'continue': 700, 'continuer': 701, 'continuerai': 702, 'continuez': 703, 'contrarié': 704, 'contrariée': 705, 'contrat': 706, 'contravention': 707, 'contredanse': 708, 'contrefaçon': 709, 'contribué': 710, 'contrôle': 711, 'contrôler': 712, 'convaincu': 713, 'convaincue': 714, 'conçu': 715, 'conçue': 716, 'cool': 717, 'coolCOMMA': 718, 'copie': 719, 'copine': 720, 'corde': 721, 'coriace': 722, 'corneilles': 723, 'corps': 724, 'correct': 725, 'corrigez': 726, 'cou': 727, 'couard': 728, 'coucher': 729, 'couillon': 730, 'coule': 731, 'coup': 732, 'coupable': 733, 'coupai': 734, 'couper': 735, 'coups': 736, 'coupé': 737, 'coupée': 738, 'courage': 739, 'courageuse': 740, 'courageux': 741, 'courait': 742, 'courant': 743, 'courent': 744, 'coureur': 745, 'courez': 746, 'courir': 747, 'courriel': 748, 'cours': 749, 'courses': 750, 'court': 751, 'courtise': 752, 'couru': 753, 'courus': 754, 'cous': 755, 'couvert': 756, 'couvremoi': 757, 'couvrezle': 758, 'couvrezvous': 759, 'craignez': 760, 'crains': 761, 'crainte': 762, 'cran': 763, 'craques': 764, 'creuse': 765, 'creuser': 766, 'creusez': 767, 'creusé': 768, 'crevé': 769, 'crevée': 770, 'crevées': 771, 'crevés': 772, 'cria': 773, 'crie': 774, 'crierai': 775, 'criminalité': 776, 'criss': 777, 'crié': 778, 'crocs': 779, 'crois': 780, 'croissent': 781, 'croisés': 782, 'croque': 783, 'croquez': 784, 'croyable': 785, 'cruel': 786, 'cruelle': 787, 'cruelles': 788, 'cruels': 789, 'crème': 790, 'crève': 791, 'créatif': 792, 'créatifs': 793, 'créative': 794, 'créatives': 795, 'crédule': 796, 'cuillère': 797, 'cuire': 798, 'cuis': 799, 'cuisez': 800, 'cuisine': 801, 'cuisiner': 802, 'cuisinerai': 803, 'cuisinez': 804, 'cuisinier': 805, 'cuisiné': 806, 'cuit': 807, 'cul': 808, 'culot': 809, 'culsec': 810, 'cultivé': 811, 'cultivée': 812, 'cupide': 813, 'curieuse': 814, 'curieux': 815, 'câlin': 816, 'céda': 817, 'céder': 818, 'céderai': 819, 'cédé': 820, 'célibataire': 821, 'célèbre': 822, 'célébrons': 823, 'cétait': 824, 'côté': 825, 'cœur': 826, 'c’est': 827, 'dabord': 828, 'daccord': 829, 'daccordCOMMA': 830, 'daide': 831, 'dair': 832, 'dalle': 833, 'daller': 834, 'dames': 835, 'danger': 836, 'dans': 837, 'danse': 838, 'danser': 839, 'danserons': 840, 'danseur': 841, 'danseuse': 842, 'dansez': 843, 'dansons': 844, 'dapplaudir': 845, 'dargent': 846, 'darriver': 847, 'darrêter': 848, 'date': 849, 'daube': 850, 'davance': 851, 'davancer': 852, 'davantage': 853, 'de': 854, 'deau': 855, 'debout': 856, 'dedans': 857, 'dehors': 858, 'delles': 859, 'demande': 860, 'demandeleur': 861, 'demandelui': 862, 'demander': 863, 'demanderai': 864, 'demandez': 865, 'demandezleur': 866, 'demandons': 867, 'demandé': 868, 'demeure': 869, 'demeurez': 870, 'demie': 871, 'demitour': 872, 'dentaires': 873, 'dentiste': 874, 'dentrer': 875, 'dernier': 876, 'dernière': 877, 'derrière': 878, 'des': 879, 'descendez': 880, 'descendit': 881, 'descends': 882, 'despace': 883, 'dessayer': 884, 'dessiner': 885, 'dessiné': 886, 'dessous': 887, 'dessus': 888, 'deux': 889, 'devais': 890, 'devant': 891, 'devenais': 892, 'devenait': 893, 'devenu': 894, 'devenue': 895, 'devez': 896, 'deviens': 897, 'devine': 898, 'deviner': 899, 'devinez': 900, 'devins': 901, 'devint': 902, 'deviné': 903, 'devoir': 904, 'devons': 905, 'devrais': 906, 'devraisje': 907, 'devriez': 908, 'devrions': 909, 'devrionsnous': 910, 'diable': 911, 'diabétique': 912, 'dici': 913, 'dicit': 914, 'didentité': 915, 'didiot': 916, 'dieu': 917, 'difficile': 918, 'différente': 919, 'dimbécile': 920, 'dimmondices': 921, 'dingue': 922, 'dingues': 923, 'dirai': 924, 'dire': 925, 'direct': 926, 'directe': 927, 'directs': 928, 'dirent': 929, 'dirigetoi': 930, 'dirigezvous': 931, 'dis': 932, 'discret': 933, 'discrets': 934, 'discrète': 935, 'discrètes': 936, 'discussion': 937, 'discute': 938, 'discuter': 939, 'discutez': 940, 'discutions': 941, 'discutons': 942, 'discutâmes': 943, 'discuté': 944, 'disjoncté': 945, 'disle': 946, 'dismen': 947, 'dismoi': 948, 'disnous': 949, 'disparais': 950, 'disparu': 951, 'disponible': 952, 'dispose': 953, 'disposer': 954, 'disputer': 955, 'distance': 956, 'distrait': 957, 'distraite': 958, 'dit': 959, 'dites': 960, 'ditesmoi': 961, 'ditesnous': 962, 'divisonsnous': 963, 'divorcé': 964, 'divorcée': 965, 'dixhuit': 966, 'dixsept': 967, 'diète': 968, 'dj': 969, 'dodo': 970, 'dois': 971, 'doisje': 972, 'doit': 973, 'doitil': 974, 'dollars': 975, 'domicile': 976, 'dommage': 977, 'donc': 978, 'donna': 979, 'donne': 980, 'donnelamoi': 981, 'donnelemoi': 982, 'donnelui': 983, 'donnemen': 984, 'donnemoi': 985, 'donner': 986, 'donnezlamoi': 987, 'donnezlemoi': 988, 'donnezlui': 989, 'donnezmoi': 990, 'donné': 991, 'dormentils': 992, 'dormez': 993, 'dormi': 994, 'dormir': 995, 'dors': 996, 'doté': 997, 'doucement': 998, 'douleur': 999, 'douloureux': 1000, 'doute': 1001, 'doutes': 1002, 'douté': 1003, 'doux': 1004, 'dressa': 1005, 'dressai': 1006, 'dressé': 1007, 'drogué': 1008, 'droguée': 1009, 'droit': 1010, 'droite': 1011, 'droits': 1012, 'drôle': 1013, 'du': 1014, 'dun': 1015, 'dune': 1016, 'dupa': 1017, 'dur': 1018, 'dure': 1019, 'dures': 1020, 'durs': 1021, 'dy': 1022, 'dyeux': 1023, 'débarras': 1024, 'débattu': 1025, 'débattue': 1026, 'débrouiller': 1027, 'débrouillerons': 1028, 'débrouillé': 1029, 'décalé': 1030, 'décampe': 1031, 'décampez': 1032, 'déchaîné': 1033, 'décide': 1034, 'déciderai': 1035, 'déciderons': 1036, 'décidez': 1037, 'décidé': 1038, 'décollé': 1039, 'décommandé': 1040, 'décommandée': 1041, 'décontracté': 1042, 'décrire': 1043, 'décris': 1044, 'décroché': 1045, 'décédé': 1046, 'décédées': 1047, 'décédés': 1048, 'défaites': 1049, 'défaits': 1050, 'défaut': 1051, 'défense': 1052, 'défoncé': 1053, 'dégage': 1054, 'dégagez': 1055, 'dégagezCOMMA': 1056, 'dégonflé': 1057, 'dégonflée': 1058, 'dégoûté': 1059, 'dégoûtée': 1060, 'déguerpissez': 1061, 'dégueulassé': 1062, 'déjeuner': 1063, 'déjeuné': 1064, 'déjà': 1065, 'délicieux': 1066, 'délires': 1067, 'démangent': 1068, 'démarré': 1069, 'démarrée': 1070, 'démissionna': 1071, 'démissionne': 1072, 'démissionner': 1073, 'démissionnons': 1074, 'démissionné': 1075, 'démontemoi': 1076, 'démontezmoi': 1077, 'déménager': 1078, 'dépasse': 1079, 'déplacetoi': 1080, 'déplacetoiCOMMA': 1081, 'déplacezvous': 1082, 'déplacezvousCOMMA': 1083, 'déplaît': 1084, 'dépressif': 1085, 'dépressive': 1086, 'déprime': 1087, 'déprimé': 1088, 'déprimée': 1089, 'dépêcher': 1090, 'dépêcherai': 1091, 'dépêcherons': 1092, 'dépêchetoi': 1093, 'dépêchezvous': 1094, 'dépêchonsnous': 1095, 'dépêché': 1096, 'dépêchée': 1097, 'déquerre': 1098, 'dérange': 1099, 'dérangez': 1100, 'dérangé': 1101, 'dérape': 1102, 'désaccord': 1103, 'désarmé': 1104, 'désarmée': 1105, 'désespère': 1106, 'désespérez': 1107, 'désespéré': 1108, 'désespérée': 1109, 'désolé': 1110, 'désolée': 1111, 'désolées': 1112, 'désolés': 1113, 'détendait': 1114, 'détendezvous': 1115, 'détendstoi': 1116, 'détendu': 1117, 'détendue': 1118, 'détendues': 1119, 'détendus': 1120, 'détestais': 1121, 'déteste': 1122, 'détestent': 1123, 'détesté': 1124, 'détient': 1125, 'détourne': 1126, 'détritus': 1127, 'détruisezla': 1128, 'détruisezle': 1129, 'détruisla': 1130, 'détruisle': 1131, 'détudier': 1132, 'déverrouillele': 1133, 'déverrouillezle': 1134, 'déverser': 1135, 'dévissele': 1136, 'dévissezle': 1137, 'dévoué': 1138, 'dévouée': 1139, 'dêtre': 1140, 'dîner': 1141, 'dû': 1142, 'd’accord': 1143, 'd’un': 1144, 'effarant': 1145, 'effectué': 1146, 'effet': 1147, 'efficace': 1148, 'effraction': 1149, 'effrayant': 1150, 'effrayé': 1151, 'elle': 1152, 'elles': 1153, 'embrasse': 1154, 'embrassemoi': 1155, 'embrassezmoi': 1156, 'embrassonsnous': 1157, 'embrassé': 1158, 'embrassés': 1159, 'embêtant': 1160, 'emmerdeur': 1161, 'emmerdeuse': 1162, 'emmène': 1163, 'empire': 1164, 'emploi': 1165, 'emploie': 1166, 'emplois': 1167, 'employez': 1168, 'emportele': 1169, 'emporter': 1170, 'emporté': 1171, 'emprunté': 1172, 'empruntée': 1173, 'en': 1174, 'encas': 1175, 'enceinte': 1176, 'encombrant': 1177, 'encore': 1178, 'encourage': 1179, 'encouragez': 1180, 'endommagé': 1181, 'endormezvous': 1182, 'endormi': 1183, 'endormie': 1184, 'endorstoi': 1185, 'endurant': 1186, 'endurante': 1187, 'enfant': 1188, 'enfants': 1189, 'enfoirée': 1190, 'enfuistoi': 1191, 'enfuit': 1192, 'enfuyezvous': 1193, 'engagé': 1194, 'engagée': 1195, 'engourdi': 1196, 'enlacée': 1197, 'enlacées': 1198, 'enlacés': 1199, 'ennuyez': 1200, 'ennuyezvous': 1201, 'ennuyons': 1202, 'enregistre': 1203, 'enregistrez': 1204, 'enrhumé': 1205, 'enrôlé': 1206, 'enseignante': 1207, 'enseignestu': 1208, 'ensemble': 1209, 'ensuite': 1210, 'entendons': 1211, 'entendre': 1212, 'entends': 1213, 'entendu': 1214, 'enterrela': 1215, 'enterrele': 1216, 'enterrezla': 1217, 'enterrezle': 1218, 'enterré': 1219, 'enterrée': 1220, 'entraîné': 1221, 'entraînée': 1222, 'entre': 1223, 'entreCOMMA': 1224, 'entrer': 1225, 'entretenues': 1226, 'entretenus': 1227, 'entretînmes': 1228, 'entrez': 1229, 'entrezCOMMA': 1230, 'entré': 1231, 'entrée': 1232, 'entrés': 1233, 'envie': 1234, 'environs': 1235, 'envoyez': 1236, 'envoyé': 1237, 'envoyée': 1238, 'erreur': 1239, 'es': 1240, 'espion': 1241, 'espèce': 1242, 'essaie': 1243, 'essaiele': 1244, 'essaiesen': 1245, 'essaye': 1246, 'essayer': 1247, 'essayerons': 1248, 'essayez': 1249, 'essayezen': 1250, 'essayons': 1251, 'essayonsla': 1252, 'essayonsle': 1253, 'essayé': 1254, 'esseulé': 1255, 'esseulée': 1256, 'essuie': 1257, 'est': 1258, 'estce': 1259, 'estelle': 1260, 'estil': 1261, 'estu': 1262, 'et': 1263, 'eu': 1264, 'eue': 1265, 'eues': 1266, 'eus': 1267, 'eut': 1268, 'eux': 1269, 'exact': 1270, 'exagéré': 1271, 'examen': 1272, 'examineles': 1273, 'examinezles': 1274, 'excellent': 1275, 'excentrique': 1276, 'excitant': 1277, 'excité': 1278, 'excitée': 1279, 'exclu': 1280, 'excursion': 1281, 'excursions': 1282, 'excusemoi': 1283, 'excuses': 1284, 'excusezmoi': 1285, 'existent': 1286, 'expert': 1287, 'expirait': 1288, 'expire': 1289, 'expirez': 1290, 'expiré': 1291, 'expliquer': 1292, 'exprimé': 1293, 'extra': 1294, 'face': 1295, 'facile': 1296, 'facilement': 1297, 'faible': 1298, 'faibles': 1299, 'failli': 1300, 'faim': 1301, 'fainéant': 1302, 'fainéante': 1303, 'fainéantes': 1304, 'faire': 1305, 'fais': 1306, 'faisait': 1307, 'faisaitil': 1308, 'faisle': 1309, 'faisleCOMMA': 1310, 'faismoi': 1311, 'faisons': 1312, 'faisonsle': 1313, 'faistoi': 1314, 'fait': 1315, 'faitce': 1316, 'faites': 1317, 'faitesle': 1318, 'faitesleCOMMA': 1319, 'faitesmoi': 1320, 'faitesvous': 1321, 'faitil': 1322, 'faits': 1323, 'fallait': 1324, 'fallu': 1325, 'fallut': 1326, 'fanatique': 1327, 'fantastique': 1328, 'fantômes': 1329, 'fatal': 1330, 'fatigue': 1331, 'fatigué': 1332, 'fatiguée': 1333, 'fatiguées': 1334, 'fatigués': 1335, 'fauché': 1336, 'fauchées': 1337, 'fauchés': 1338, 'faudra': 1339, 'faut': 1340, 'faute': 1341, 'faux': 1342, 'faveur': 1343, 'façons': 1344, 'femme': 1345, 'femmes': 1346, 'fer': 1347, 'fera': 1348, 'ferai': 1349, 'ferais': 1350, 'feraisje': 1351, 'ferme': 1352, 'fermela': 1353, 'fermez': 1354, 'fermier': 1355, 'fermé': 1356, 'fermés': 1357, 'ferons': 1358, 'fesses': 1359, 'feu': 1360, 'fiable': 1361, 'fiancé': 1362, 'fiancée': 1363, 'fiche': 1364, 'fichez': 1365, 'fidèle': 1366, 'fie': 1367, 'fiez': 1368, 'figé': 1369, 'figée': 1370, 'fil': 1371, 'file': 1372, 'filele': 1373, 'filez': 1374, 'fille': 1375, 'filles': 1376, 'filme': 1377, 'filmer': 1378, 'filmez': 1379, 'films': 1380, 'fils': 1381, 'filé': 1382, 'fin': 1383, 'fini': 1384, 'finie': 1385, 'finir': 1386, 'finis': 1387, 'finissez': 1388, 'firefox': 1389, 'fis': 1390, 'fit': 1391, 'fixe': 1392, 'fixer': 1393, 'fixez': 1394, 'fiça': 1395, 'fièvre': 1396, 'flaire': 1397, 'flan': 1398, 'flasque': 1399, 'flatté': 1400, 'flemmard': 1401, 'fleurs': 1402, 'flic': 1403, 'flics': 1404, 'flingue': 1405, 'flippé': 1406, 'floué': 1407, 'flouée': 1408, 'foies': 1409, 'foiré': 1410, 'fois': 1411, 'foisCOMMA': 1412, 'folle': 1413, 'fonctionne': 1414, 'fonctionnera': 1415, 'fonctionné': 1416, 'fonds': 1417, 'font': 1418, 'football': 1419, 'forces': 1420, 'forme': 1421, 'formidable': 1422, 'formuler': 1423, 'fort': 1424, 'forte': 1425, 'fortes': 1426, 'forts': 1427, 'fortuné': 1428, 'fortunée': 1429, 'fou': 1430, 'foules': 1431, 'fourbu': 1432, 'fous': 1433, 'fout': 1434, 'foutez': 1435, 'foutre': 1436, 'foutu': 1437, 'foutus': 1438, 'fracassé': 1439, 'français': 1440, 'frappa': 1441, 'frappé': 1442, 'frappée': 1443, 'fredonne': 1444, 'fredonner': 1445, 'freiné': 1446, 'fringale': 1447, 'froid': 1448, 'froides': 1449, 'froids': 1450, 'fromage': 1451, 'froncé': 1452, 'frousse': 1453, 'fruit': 1454, 'fruits': 1455, 'fui': 1456, 'fuis': 1457, 'fuit': 1458, 'fuite': 1459, 'fume': 1460, 'fumer': 1461, 'fumes': 1462, 'fumestu': 1463, 'fumez': 1464, 'fumezvous': 1465, 'fumée': 1466, 'furieux': 1467, 'fus': 1468, 'fusil': 1469, 'fut': 1470, 'futile': 1471, 'futon': 1472, 'fuyez': 1473, 'fuyons': 1474, 'fâché': 1475, 'fâchée': 1476, 'fête': 1477, 'fûmes': 1478, 'gaffe': 1479, 'gagnant': 1480, 'gagnante': 1481, 'gagne': 1482, 'gagner': 1483, 'gagnerons': 1484, 'gagnâmes': 1485, 'gagnèrent': 1486, 'gagné': 1487, 'galant': 1488, 'galère': 1489, 'gamin': 1490, 'gamine': 1491, 'gamins': 1492, 'garde': 1493, 'gardele': 1494, 'gardeles': 1495, 'gardes': 1496, 'gardez': 1497, 'gardezle': 1498, 'gardezles': 1499, 'gargarisé': 1500, 'garçon': 1501, 'garçons': 1502, 'gaspillage': 1503, 'gauche': 1504, 'gaules': 1505, 'gavé': 1506, 'gavée': 1507, 'gaz': 1508, 'geindre': 1509, 'gelé': 1510, 'genre': 1511, 'gens': 1512, 'gentil': 1513, 'gentille': 1514, 'gentilles': 1515, 'gentils': 1516, 'geste': 1517, 'givré': 1518, 'givrée': 1519, 'givrées': 1520, 'givrés': 1521, 'glace': 1522, 'glacée': 1523, 'glisse': 1524, 'glisser': 1525, 'gloussa': 1526, 'gloussé': 1527, 'gnangnan': 1528, 'goberais': 1529, 'golf': 1530, 'gosse': 1531, 'gourmand': 1532, 'gourmande': 1533, 'goûte': 1534, 'goûtela': 1535, 'goûtele': 1536, 'goûtez': 1537, 'goûtezla': 1538, 'goûtezle': 1539, 'grand': 1540, 'grande': 1541, 'grandes': 1542, 'grandiront': 1543, 'grands': 1544, 'gras': 1545, 'grassouillet': 1546, 'grassouillette': 1547, 'gratuit': 1548, 'gratuitement': 1549, 'grave': 1550, 'grimace': 1551, 'grimacé': 1552, 'grimaça': 1553, 'grogna': 1554, 'grognait': 1555, 'grogné': 1556, 'gros': 1557, 'grosse': 1558, 'grossier': 1559, 'grossiers': 1560, 'grossis': 1561, 'grossière': 1562, 'grossières': 1563, 'grossièreté': 1564, 'grouille': 1565, 'grouiller': 1566, 'grouilletoi': 1567, 'grève': 1568, 'guerre': 1569, 'guerreCOMMA': 1570, 'gueule': 1571, 'guéri': 1572, 'guérie': 1573, 'guérira': 1574, 'gâchis': 1575, 'gâteau': 1576, 'gâteaux': 1577, 'gémeaux': 1578, 'gémi': 1579, 'gémissait': 1580, 'génial': 1581, 'génie': 1582, 'généreuse': 1583, 'généreux': 1584, 'gérerons': 1585, 'géré': 1586, 'gênez': 1587, 'h': 1588, 'habilletoi': 1589, 'habillezvous': 1590, 'hache': 1591, 'hais': 1592, 'haleté': 1593, 'halte': 1594, 'hanche': 1595, 'haricots': 1596, 'hasarde': 1597, 'haussa': 1598, 'haussé': 1599, 'haut': 1600, 'haï': 1601, 'hein': 1602, 'helvète': 1603, 'heure': 1604, 'heures': 1605, 'heureuse': 1606, 'heureuses': 1607, 'heureux': 1608, 'heurté': 1609, 'hideux': 1610, 'hocha': 1611, 'hockey': 1612, 'homme': 1613, 'hommes': 1614, 'honnête': 1615, 'honnêtes': 1616, 'honte': 1617, 'horreur': 1618, 'horrible': 1619, 'hors': 1620, 'huit': 1621, 'humain': 1622, 'humble': 1623, 'humeur': 1624, 'hurla': 1625, 'hurlait': 1626, 'hurler': 1627, 'hurlé': 1628, 'hypothèse': 1629, 'hâte': 1630, 'hâter': 1631, 'héCOMMA': 1632, 'héros': 1633, 'héroïque': 1634, 'hésité': 1635, 'ici': 1636, 'iciCOMMA': 1637, 'identifiez': 1638, 'idiot': 1639, 'idiote': 1640, 'idiotes': 1641, 'idiots': 1642, 'idée': 1643, 'ignore': 1644, 'ignorele': 1645, 'ignoreles': 1646, 'ignorez': 1647, 'ignorezle': 1648, 'ignorezles': 1649, 'ignoré': 1650, 'ignorée': 1651, 'il': 1652, 'illuminé': 1653, 'ils': 1654, 'imbécile': 1655, 'imitation': 1656, 'immense': 1657, 'immobile': 1658, 'immobiles': 1659, 'immunisé': 1660, 'immunisée': 1661, 'immédiatement': 1662, 'impartial': 1663, 'impartiale': 1664, 'impatient': 1665, 'impatiente': 1666, 'impeccable': 1667, 'impertinent': 1668, 'impitoyable': 1669, 'impitoyables': 1670, 'impliqué': 1671, 'impliquée': 1672, 'impoli': 1673, 'impolie': 1674, 'important': 1675, 'importants': 1676, 'importe': 1677, 'importetil': 1678, 'impossible': 1679, 'impressionnée': 1680, 'improvisé': 1681, 'impulsif': 1682, 'impulsive': 1683, 'impôts': 1684, 'incapable': 1685, 'inclus': 1686, 'incluse': 1687, 'inconcevable': 1688, 'incroyable': 1689, 'indigné': 1690, 'indignée': 1691, 'indésirable': 1692, 'informe': 1693, 'informez': 1694, 'informezen': 1695, 'ingéniosité': 1696, 'ingénu': 1697, 'ingénue': 1698, 'inimaginable': 1699, 'initié': 1700, 'initiée': 1701, 'injuste': 1702, 'innocent': 1703, 'innocente': 1704, 'inoffensif': 1705, 'inquiète': 1706, 'inquiétez': 1707, 'inscristoi': 1708, 'inscrivezvous': 1709, 'insensible': 1710, 'insister': 1711, 'insisté': 1712, 'insolence': 1713, 'inspira': 1714, 'inspire': 1715, 'inspirez': 1716, 'inspiré': 1717, 'instant': 1718, 'intelligent': 1719, 'intelligentes': 1720, 'intelligents': 1721, 'interrogez': 1722, 'interrompre': 1723, 'intrigué': 1724, 'intriguée': 1725, 'intrépide': 1726, 'inutile': 1727, 'inventé': 1728, 'invité': 1729, 'invitée': 1730, 'ira': 1731, 'irastu': 1732, 'iratil': 1733, 'irezvous': 1734, 'ironique': 1735, 'irons': 1736, 'irruption': 1737, 'ivre': 1738, 'jabandonne': 1739, 'jabandonnerai': 1740, 'jaccepterais': 1741, 'jacclamais': 1742, 'jachète': 1743, 'jachèterai': 1744, 'jadmirais': 1745, 'jadmire': 1746, 'jadorais': 1747, 'jadore': 1748, 'jai': 1749, 'jaiderai': 1750, 'jaimais': 1751, 'jaime': 1752, 'jaimerais': 1753, 'jajoutais': 1754, 'jallais': 1755, 'jalouse': 1756, 'jamais': 1757, 'jambe': 1758, 'jambes': 1759, 'jambon': 1760, 'jannulerai': 1761, 'japonais': 1762, 'jappellerai': 1763, 'japprendrai': 1764, 'japprécie': 1765, 'jarrive': 1766, 'jarriverai': 1767, 'jarrête': 1768, 'jarrêterai': 1769, 'jattendrai': 1770, 'jattends': 1771, 'jaune': 1772, 'javais': 1773, 'jazz': 1774, 'je': 1775, 'jemmène': 1776, 'jen': 1777, 'jenseigne': 1778, 'jentends': 1779, 'jentrerai': 1780, 'jenvie': 1781, 'jespère': 1782, 'jessaie': 1783, 'jessaierai': 1784, 'jessayai': 1785, 'jessaye': 1786, 'jessayerai': 1787, 'jetez': 1788, 'jette': 1789, 'jeune': 1790, 'jeunes': 1791, 'jeus': 1792, 'jeux': 1793, 'jexpliquerai': 1794, 'jhabite': 1795, 'jhonore': 1796, 'jimagine': 1797, 'jinterdis': 1798, 'jirai': 1799, 'jobtiendrai': 1800, 'jobéirai': 1801, 'jogging': 1802, 'joignezvous': 1803, 'joindrai': 1804, 'joindre': 1805, 'joli': 1806, 'joue': 1807, 'jouela': 1808, 'jouer': 1809, 'joues': 1810, 'jouestu': 1811, 'jouets': 1812, 'jouez': 1813, 'jouezvous': 1814, 'jouis': 1815, 'journal': 1816, 'journée': 1817, 'joué': 1818, 'joyeux': 1819, 'jubile': 1820, 'jubilez': 1821, 'jubilé': 1822, 'jumeau': 1823, 'jumeaux': 1824, 'jumelle': 1825, 'jumelles': 1826, 'jure': 1827, 'juré': 1828, 'jusquici': 1829, 'juste': 1830, 'justes': 1831, 'justice': 1832, 'jutilise': 1833, 'jy': 1834, 'jécoute': 1835, 'jécris': 1836, 'jélève': 1837, 'jéprouve': 1838, 'jésuite': 1839, 'jésus': 1840, 'jétais': 1841, 'j’ai': 1842, 'j’aide': 1843, 'j’aime': 1844, 'j’en': 1845, 'j’y': 1846, 'j’étais': 1847, 'klaxonne': 1848, 'klaxonnez': 1849, 'la': 1850, 'labri': 1851, 'lachète': 1852, 'lachèterai': 1853, 'lachèterais': 1854, 'laddition': 1855, 'ladditionCOMMA': 1856, 'laffaire': 1857, 'lai': 1858, 'laid': 1859, 'laide': 1860, 'laids': 1861, 'laije': 1862, 'lail': 1863, 'laimait': 1864, 'laime': 1865, 'laimons': 1866, 'lair': 1867, 'laise': 1868, 'laissa': 1869, 'laisse': 1870, 'laissele': 1871, 'laissemoi': 1872, 'laissenous': 1873, 'laissetoi': 1874, 'laissez': 1875, 'laissezle': 1876, 'laissezmoi': 1877, 'laisseznous': 1878, 'laissezvous': 1879, 'laissé': 1880, 'laissée': 1881, 'laissées': 1882, 'laissés': 1883, 'lait': 1884, 'lalcool': 1885, 'lamour': 1886, 'lampe': 1887, 'lance': 1888, 'lancer': 1889, 'langue': 1890, 'lapidé': 1891, 'lappartement': 1892, 'lapprécia': 1893, 'lapprécie': 1894, 'lapprécions': 1895, 'largent': 1896, 'largué': 1897, 'larguée': 1898, 'larme': 1899, 'larmes': 1900, 'lart': 1901, 'las': 1902, 'lasses': 1903, 'lastu': 1904, 'lattaque': 1905, 'lattraperai': 1906, 'lautomne': 1907, 'lautre': 1908, 'lavais': 1909, 'lavetoi': 1910, 'lavez': 1911, 'lavezvous': 1912, 'lavons': 1913, 'lavé': 1914, 'lavée': 1915, 'le': 1916, 'leau': 1917, 'lemporte': 1918, 'lemporter': 1919, 'lemporterons': 1920, 'lemportâmes': 1921, 'lencre': 1922, 'lenfer': 1923, 'lenlaça': 1924, 'lent': 1925, 'lentement': 1926, 'lentraîneur': 1927, 'lenvie': 1928, 'lerreur': 1929, 'les': 1930, 'lespace': 1931, 'lespoir': 1932, 'lessayer': 1933, 'lessayerai': 1934, 'lest': 1935, 'lestomac': 1936, 'leurs': 1937, 'leva': 1938, 'lever': 1939, 'levez': 1940, 'levé': 1941, 'levée': 1942, 'levées': 1943, 'levés': 1944, 'lexercice': 1945, 'lextérieur': 1946, 'lheure': 1947, 'lhiver': 1948, 'lhorloge': 1949, 'liberté': 1950, 'libre': 1951, 'libres': 1952, 'libère': 1953, 'libérez': 1954, 'licencié': 1955, 'licite': 1956, 'lieu': 1957, 'lignore': 1958, 'lintérieur': 1959, 'lion': 1960, 'liquide': 1961, 'lirai': 1962, 'lire': 1963, 'lis': 1964, 'lisez': 1965, 'liste': 1966, 'lit': 1967, 'livre': 1968, 'livres': 1969, 'lodeur': 1970, 'logique': 1971, 'loi': 1972, 'loin': 1973, 'loiseau': 1974, 'long': 1975, 'lont': 1976, 'lopéra': 1977, 'lor': 1978, 'loubliez': 1979, 'loucha': 1980, 'louché': 1981, 'louest': 1982, 'loup': 1983, 'loupé': 1984, 'louve': 1985, 'louvre': 1986, 'louvrirai': 1987, 'loyal': 1988, 'loyale': 1989, 'lui': 1990, 'lumière': 1991, 'lunatique': 1992, 'lundi': 1993, 'lurticaire': 1994, 'lutilise': 1995, 'lutté': 1996, 'là': 1997, 'làbas': 1998, 'lâche': 1999, 'lâchemoi': 2000, 'lâchetoi': 2001, 'lâchez': 2002, 'lâchezmoi': 2003, 'lâchezvous': 2004, 'lève': 2005, 'lèverai': 2006, 'lèvetoi': 2007, 'lèvres': 2008, 'lécart': 2009, 'lécole': 2010, 'légal': 2011, 'létage': 2012, 'létreignis': 2013, 'lété': 2014, 'lévidence': 2015, 'l’acquisition': 2016, 'l’admets': 2017, 'l’ai': 2018, 'l’asthme': 2019, 'ma': 2020, 'mabstiens': 2021, 'madapte': 2022, 'magie': 2023, 'magnat': 2024, 'magnetoi': 2025, 'magnezvous': 2026, 'magnifique': 2027, 'maider': 2028, 'maigrichon': 2029, 'maigrichonne': 2030, 'maime': 2031, 'maiment': 2032, 'main': 2033, 'maintenant': 2034, 'maintenantCOMMA': 2035, 'mais': 2036, 'maison': 2037, 'maisonCOMMA': 2038, 'mal': 2039, 'malade': 2040, 'malaise': 2041, 'malandrin': 2042, 'malchanceuse': 2043, 'malchanceux': 2044, 'malheur': 2045, 'malheureuse': 2046, 'malheureux': 2047, 'malin': 2048, 'malpoli': 2049, 'malédiction': 2050, 'maman': 2051, 'mamuse': 2052, 'mamuses': 2053, 'mange': 2054, 'mangeCOMMA': 2055, 'mangele': 2056, 'mangeons': 2057, 'manger': 2058, 'mangerai': 2059, 'mangerons': 2060, 'manges': 2061, 'mangez': 2062, 'mangezCOMMA': 2063, 'mangezle': 2064, 'mangeâmes': 2065, 'mangions': 2066, 'mangé': 2067, 'manière': 2068, 'manières': 2069, 'manquant': 2070, 'manque': 2071, 'manquer': 2072, 'manques': 2073, 'manquez': 2074, 'manqué': 2075, 'manteau': 2076, 'mappelle': 2077, 'marche': 2078, 'marcher': 2079, 'marchera': 2080, 'marcherai': 2081, 'marcherons': 2082, 'marchez': 2083, 'marché': 2084, 'marie': 2085, 'marié': 2086, 'mariée': 2087, 'marqué': 2088, 'marrant': 2089, 'marrante': 2090, 'marrantes': 2091, 'marrants': 2092, 'marré': 2093, 'marrée': 2094, 'marrées': 2095, 'marrés': 2096, 'mary': 2097, 'mas': 2098, 'masque': 2099, 'massis': 2100, 'maths': 2101, 'matin': 2102, 'matinal': 2103, 'matinale': 2104, 'matures': 2105, 'matériel': 2106, 'mauvais': 2107, 'mauvaise': 2108, 'mauvaises': 2109, 'mavez': 2110, 'max': 2111, 'me': 2112, 'mec': 2113, 'mecs': 2114, 'meilleur': 2115, 'meilleure': 2116, 'membre': 2117, 'men': 2118, 'mennuie': 2119, 'mennuyais': 2120, 'mennuyer': 2121, 'menottezle': 2122, 'mens': 2123, 'mensonge': 2124, 'menstu': 2125, 'ment': 2126, 'mental': 2127, 'menteur': 2128, 'menteurs': 2129, 'mentez': 2130, 'mentezvous': 2131, 'menti': 2132, 'mentil': 2133, 'mentir': 2134, 'mentit': 2135, 'mentons': 2136, 'merci': 2137, 'mercis': 2138, 'merdé': 2139, 'merveille': 2140, 'merveilleux': 2141, 'mes': 2142, 'mesquin': 2143, 'mesquine': 2144, 'mest': 2145, 'mesure': 2146, 'met': 2147, 'mets': 2148, 'metsle': 2149, 'metstoi': 2150, 'mettez': 2151, 'mettezle': 2152, 'mettezvous': 2153, 'mettonsnousy': 2154, 'mettrai': 2155, 'mettre': 2156, 'meure': 2157, 'meurs': 2158, 'meurt': 2159, 'mexcuser': 2160, 'miel': 2161, 'mien': 2162, 'mienne': 2163, 'miennes': 2164, 'miens': 2165, 'mieux': 2166, 'mignon': 2167, 'mignonne': 2168, 'mignonnes': 2169, 'mignons': 2170, 'mignora': 2171, 'mille': 2172, 'minable': 2173, 'mince': 2174, 'minces': 2175, 'mineurs': 2176, 'mintrigue': 2177, 'minutieuse': 2178, 'minutieux': 2179, 'mis': 2180, 'mise': 2181, 'miséricordieuse': 2182, 'miséricordieuses': 2183, 'miséricordieux': 2184, 'mit': 2185, 'moches': 2186, 'mode': 2187, 'moi': 2188, 'moiCOMMA': 2189, 'moimême': 2190, 'moindre': 2191, 'moine': 2192, 'moins': 2193, 'moitié': 2194, 'moment': 2195, 'mon': 2196, 'monde': 2197, 'monte': 2198, 'montele': 2199, 'monter': 2200, 'montez': 2201, 'montezle': 2202, 'montre': 2203, 'montremoi': 2204, 'montrerai': 2205, 'montres': 2206, 'montretoi': 2207, 'montrez': 2208, 'montrezmoi': 2209, 'montrezvous': 2210, 'monté': 2211, 'montée': 2212, 'moque': 2213, 'moqué': 2214, 'moral': 2215, 'mordre': 2216, 'mords': 2217, 'mordu': 2218, 'mort': 2219, 'morte': 2220, 'mortes': 2221, 'morts': 2222, 'mot': 2223, 'motivé': 2224, 'motivée': 2225, 'mots': 2226, 'mouches': 2227, 'mouillé': 2228, 'mouillée': 2229, 'mourant': 2230, 'mourez': 2231, 'mourions': 2232, 'mourir': 2233, 'mourons': 2234, 'mourras': 2235, 'mourratil': 2236, 'mourrons': 2237, 'mouvement': 2238, 'moyen': 2239, 'musique': 2240, 'musulman': 2241, 'musulmane': 2242, 'muté': 2243, 'my': 2244, 'mèche': 2245, 'méchant': 2246, 'méchante': 2247, 'mécontent': 2248, 'mécontente': 2249, 'médecin': 2250, 'méfiant': 2251, 'méfie': 2252, 'mélange': 2253, 'mémorise': 2254, 'mémorisela': 2255, 'mémorisele': 2256, 'mémorisez': 2257, 'mémorisezla': 2258, 'mémorisezle': 2259, 'ménage': 2260, 'méprise': 2261, 'mérite': 2262, 'mérité': 2263, 'méticuleuse': 2264, 'méticuleux': 2265, 'métier': 2266, 'mévanouir': 2267, 'mévite': 2268, 'même': 2269, 'm’a': 2270, 'm’approuveton': 2271, 'm’entraîne': 2272, 'na': 2273, 'nabandonne': 2274, 'nabandonnez': 2275, 'nage': 2276, 'nageaient': 2277, 'nager': 2278, 'nagerai': 2279, 'nagerons': 2280, 'nagèrent': 2281, 'nagé': 2282, 'nai': 2283, 'naie': 2284, 'nallezvous': 2285, 'narrive': 2286, 'nattendez': 2287, 'nattends': 2288, 'nature': 2289, 'nausée': 2290, 'navais': 2291, 'navancez': 2292, 'navire': 2293, 'navons': 2294, 'nayez': 2295, 'naze': 2296, 'naïf': 2297, 'naïfs': 2298, 'naïve': 2299, 'naïves': 2300, 'ne': 2301, 'neige': 2302, 'neiger': 2303, 'neigé': 2304, 'nen': 2305, 'nentendîmes': 2306, 'nentrez': 2307, 'nerveuse': 2308, 'nerveux': 2309, 'nespère': 2310, 'nest': 2311, 'nestce': 2312, 'nestelle': 2313, 'nestil': 2314, 'net': 2315, 'nettoiele': 2316, 'nettoierai': 2317, 'nettoyez': 2318, 'nettoyezle': 2319, 'neuf': 2320, 'neufs': 2321, 'neutre': 2322, 'neuves': 2323, 'nez': 2324, 'nia': 2325, 'nickel': 2326, 'nie': 2327, 'niez': 2328, 'nimporte': 2329, 'ninsiste': 2330, 'ninsistez': 2331, 'nirai': 2332, 'nié': 2333, 'noir': 2334, 'nombre': 2335, 'non': 2336, 'nord': 2337, 'normal': 2338, 'normale': 2339, 'normales': 2340, 'normaux': 2341, 'nos': 2342, 'noteCOMMA': 2343, 'notes': 2344, 'notre': 2345, 'nourri': 2346, 'nourris': 2347, 'nourrissez': 2348, 'nourriture': 2349, 'nous': 2350, 'nousCOMMA': 2351, 'nouveau': 2352, 'nouveauCOMMA': 2353, 'nouveaux': 2354, 'nouvelle': 2355, 'nouvelles': 2356, 'noya': 2357, 'noyer': 2358, 'noyé': 2359, 'nu': 2360, 'nuageux': 2361, 'nue': 2362, 'nuit': 2363, 'ny': 2364, 'nétais': 2365, 'nétait': 2366, 'nôtre': 2367, 'n’arrive': 2368, 'n’importe': 2369, 'objectif': 2370, 'objectifs': 2371, 'objection': 2372, 'objective': 2373, 'objectives': 2374, 'observateur': 2375, 'observatrice': 2376, 'obstiné': 2377, 'obstinée': 2378, 'obtenu': 2379, 'obèse': 2380, 'obéi': 2381, 'obéir': 2382, 'obéirons': 2383, 'obéissant': 2384, 'obéit': 2385, 'occupé': 2386, 'occupée': 2387, 'occupées': 2388, 'occupés': 2389, 'offensé': 2390, 'offensée': 2391, 'oh': 2392, 'ohCOMMA': 2393, 'oiseaux': 2394, 'ok': 2395, 'okCOMMA': 2396, 'on': 2397, 'ont': 2398, 'oppose': 2399, 'opposé': 2400, 'ordonné': 2401, 'ordonnée': 2402, 'ordres': 2403, 'ordure': 2404, 'ordures': 2405, 'orphelin': 2406, 'osestu': 2407, 'osezvous': 2408, 'ou': 2409, 'ouais': 2410, 'oublia': 2411, 'oublie': 2412, 'oubliele': 2413, 'oubliemoi': 2414, 'oublier': 2415, 'oubliez': 2416, 'oubliezle': 2417, 'oubliezmoi': 2418, 'oublié': 2419, 'oui': 2420, 'oust': 2421, 'ouvert': 2422, 'ouvre': 2423, 'ouvrela': 2424, 'ouvrele': 2425, 'ouvremoi': 2426, 'ouvrezla': 2427, 'ouvrezle': 2428, 'ouïdire': 2429, 'ouïe': 2430, 'ovni': 2431, 'où': 2432, 'pagaille': 2433, 'paie': 2434, 'paiera': 2435, 'paierai': 2436, 'pain': 2437, 'palpitant': 2438, 'panique': 2439, 'paniquez': 2440, 'paniqué': 2441, 'papa': 2442, 'papier': 2443, 'par': 2444, 'parages': 2445, 'paralysé': 2446, 'pardi': 2447, 'pardon': 2448, 'pardonne': 2449, 'pardonnemoi': 2450, 'pardonnenous': 2451, 'pardonnez': 2452, 'pardonnezmoi': 2453, 'paresseuse': 2454, 'paresseuses': 2455, 'paresseux': 2456, 'parfait': 2457, 'parfois': 2458, 'pari': 2459, 'parie': 2460, 'parié': 2461, 'parla': 2462, 'parle': 2463, 'parlemoi': 2464, 'parler': 2465, 'parlerai': 2466, 'parlez': 2467, 'parlezmoi': 2468, 'parlé': 2469, 'parodie': 2470, 'parole': 2471, 'pars': 2472, 'parsCOMMA': 2473, 'part': 2474, 'partager': 2475, 'partagera': 2476, 'partagerons': 2477, 'partant': 2478, 'partez': 2479, 'parti': 2480, 'partie': 2481, 'parties': 2482, 'partir': 2483, 'partirai': 2484, 'partirais': 2485, 'partis': 2486, 'partit': 2487, 'partons': 2488, 'parvenir': 2489, 'parvenu': 2490, 'parvenue': 2491, 'parvenus': 2492, 'parviens': 2493, 'pas': 2494, 'passa': 2495, 'passade': 2496, 'passe': 2497, 'passeCOMMA': 2498, 'passelemoi': 2499, 'passer': 2500, 'passerai': 2501, 'passeratil': 2502, 'passes': 2503, 'passez': 2504, 'passons': 2505, 'passé': 2506, 'passée': 2507, 'pastiche': 2508, 'patent': 2509, 'pathétique': 2510, 'patient': 2511, 'patiente': 2512, 'patienter': 2513, 'patin': 2514, 'patine': 2515, 'patiner': 2516, 'patron': 2517, 'patronne': 2518, 'paumé': 2519, 'pause': 2520, 'pauvre': 2521, 'payai': 2522, 'payais': 2523, 'payait': 2524, 'paye': 2525, 'payer': 2526, 'pays': 2527, 'payé': 2528, 'peau': 2529, 'peinture': 2530, 'pense': 2531, 'pensesy': 2532, 'pensezy': 2533, 'pensionné': 2534, 'pensionnée': 2535, 'perdis': 2536, 'perdons': 2537, 'perdrai': 2538, 'perdre': 2539, 'perds': 2540, 'perdu': 2541, 'perdue': 2542, 'perdues': 2543, 'perdus': 2544, 'perdîmes': 2545, 'permettezmoi': 2546, 'permettrai': 2547, 'permission': 2548, 'perplexe': 2549, 'perruque': 2550, 'personne': 2551, 'perte': 2552, 'perturbée': 2553, 'pesé': 2554, 'petit': 2555, 'petite': 2556, 'petits': 2557, 'peu': 2558, 'peur': 2559, 'peut': 2560, 'peutil': 2561, 'peuton': 2562, 'peutêtre': 2563, 'peuvent': 2564, 'peux': 2565, 'peuxtu': 2566, 'phénomène': 2567, 'piano': 2568, 'pied': 2569, 'pieds': 2570, 'piges': 2571, 'pigez': 2572, 'pigezvous': 2573, 'pigé': 2574, 'pile': 2575, 'pinceaux': 2576, 'pincé': 2577, 'pincée': 2578, 'pioche': 2579, 'piochez': 2580, 'pipe': 2581, 'pipeau': 2582, 'piqué': 2583, 'piscine': 2584, 'pitié': 2585, 'pitoyable': 2586, 'pizza': 2587, 'pièce': 2588, 'pièces': 2589, 'piège': 2590, 'piégé': 2591, 'piégée': 2592, 'place': 2593, 'plaie': 2594, 'plais': 2595, 'plaisance': 2596, 'plaisante': 2597, 'plaisanterie': 2598, 'plaisanteries': 2599, 'plaisantons': 2600, 'plaisent': 2601, 'plaisez': 2602, 'plaisir': 2603, 'plait': 2604, 'plaitCOMMA': 2605, 'plaitil': 2606, 'plan': 2607, 'plane': 2608, 'plans': 2609, 'plante': 2610, 'plantes': 2611, 'planté': 2612, 'plantée': 2613, 'plantées': 2614, 'plantés': 2615, 'plané': 2616, 'plaquée': 2617, 'plat': 2618, 'plate': 2619, 'plaît': 2620, 'plaîtCOMMA': 2621, 'plaîtil': 2622, 'plein': 2623, 'pleura': 2624, 'pleurait': 2625, 'pleure': 2626, 'pleurentils': 2627, 'pleurer': 2628, 'pleurerai': 2629, 'pleuré': 2630, 'pleutil': 2631, 'pleuvait': 2632, 'pleuvoir': 2633, 'pliela': 2634, 'pliele': 2635, 'plierai': 2636, 'pliezla': 2637, 'pliezle': 2638, 'plissé': 2639, 'plombier': 2640, 'plombs': 2641, 'plongée': 2642, 'plumer': 2643, 'plus': 2644, 'poche': 2645, 'poids': 2646, 'poignarder': 2647, 'poignardé': 2648, 'poignardée': 2649, 'poil': 2650, 'point': 2651, 'pois': 2652, 'poison': 2653, 'poissard': 2654, 'poisson': 2655, 'poissons': 2656, 'poker': 2657, 'poli': 2658, 'pommes': 2659, 'ponctuel': 2660, 'ponctuelle': 2661, 'ponctuelles': 2662, 'ponctuels': 2663, 'poney': 2664, 'populaire': 2665, 'porc': 2666, 'porte': 2667, 'portele': 2668, 'porté': 2669, 'portée': 2670, 'posele': 2671, 'possible': 2672, 'possède': 2673, 'poste': 2674, 'pot': 2675, 'poulets': 2676, 'poupée': 2677, 'pour': 2678, 'pourquoi': 2679, 'pourrais': 2680, 'pourraisje': 2681, 'pourrait': 2682, 'pourrions': 2683, 'pourrionsnous': 2684, 'poursuis': 2685, 'poursuit': 2686, 'poursuivez': 2687, 'poursuivi': 2688, 'poursuivit': 2689, 'poursuivrai': 2690, 'pourvu': 2691, 'pousse': 2692, 'poussela': 2693, 'poussele': 2694, 'poussent': 2695, 'pousser': 2696, 'poussetoi': 2697, 'poussez': 2698, 'poussezla': 2699, 'poussezle': 2700, 'poussezvous': 2701, 'pouvais': 2702, 'pouvez': 2703, 'pouvezvous': 2704, 'pouvoir': 2705, 'pouvons': 2706, 'pouvonsnous': 2707, 'poèmes': 2708, 'poète': 2709, 'poésie': 2710, 'premier': 2711, 'première': 2712, 'prend': 2713, 'prendrai': 2714, 'prendre': 2715, 'prends': 2716, 'prendsen': 2717, 'prendsle': 2718, 'prendstoi': 2719, 'prenez': 2720, 'prenezen': 2721, 'prenezle': 2722, 'presque': 2723, 'pressezvous': 2724, 'preuve': 2725, 'preuves': 2726, 'prie': 2727, 'priez': 2728, 'prime': 2729, 'printemps': 2730, 'prions': 2731, 'priorité': 2732, 'pris': 2733, 'prise': 2734, 'privé': 2735, 'problème': 2736, 'prochaine': 2737, 'proche': 2738, 'procès': 2739, 'procédons': 2740, 'produit': 2741, 'professeur': 2742, 'profondeur': 2743, 'profondément': 2744, 'projets': 2745, 'promets': 2746, 'promis': 2747, 'promîmes': 2748, 'propre': 2749, 'propres': 2750, 'protestais': 2751, 'protesté': 2752, 'prouverai': 2753, 'proximité': 2754, 'prudemment': 2755, 'prudent': 2756, 'prudente': 2757, 'prudentes': 2758, 'prudents': 2759, 'prune': 2760, 'pruneaux': 2761, 'près': 2762, 'précipite': 2763, 'précipitez': 2764, 'précipité': 2765, 'précipitée': 2766, 'préfère': 2767, 'préjugés': 2768, 'préoccupe': 2769, 'préoccupé': 2770, 'préoccupée': 2771, 'préparetoi': 2772, 'préparezvous': 2773, 'préparé': 2774, 'préparée': 2775, 'préparées': 2776, 'préparés': 2777, 'présent': 2778, 'présente': 2779, 'présentons': 2780, 'présenté': 2781, 'préséance': 2782, 'prévenu': 2783, 'prévenue': 2784, 'préviendrai': 2785, 'préviens': 2786, 'prêt': 2787, 'prête': 2788, 'prêtes': 2789, 'prêtre': 2790, 'prêts': 2791, 'prêté': 2792, 'pue': 2793, 'pues': 2794, 'puis': 2795, 'puisje': 2796, 'puissant': 2797, 'puissante': 2798, 'puriste': 2799, 'pâle': 2800, 'pèse': 2801, 'pénétré': 2802, 'pépère': 2803, 'pétoche': 2804, 'pété': 2805, 'pêchez': 2806, 'qua': 2807, 'quant': 2808, 'quastu': 2809, 'quavezvous': 2810, 'que': 2811, 'quel': 2812, 'quelconques': 2813, 'quelle': 2814, 'quelque': 2815, 'quelquesuns': 2816, 'quelquun': 2817, 'quereller': 2818, 'quest': 2819, 'questce': 2820, 'question': 2821, 'questions': 2822, 'qui': 2823, 'quiCOMMA': 2824, 'quiconque': 2825, 'quil': 2826, 'quitte': 2827, 'quittes': 2828, 'quittez': 2829, 'quitté': 2830, 'quittée': 2831, 'quoi': 2832, 'quoiCOMMA': 2833, 'quon': 2834, 'quun': 2835, 'quy': 2836, 'quétaitce': 2837, 'raccrocha': 2838, 'raccroche': 2839, 'raccrochez': 2840, 'raccroché': 2841, 'raconte': 2842, 'raconté': 2843, 'radote': 2844, 'radotez': 2845, 'raisin': 2846, 'raison': 2847, 'raisonnable': 2848, 'raisonnables': 2849, 'ralentis': 2850, 'ralentissez': 2851, 'ramassele': 2852, 'raoul': 2853, 'rapide': 2854, 'rapidement': 2855, 'rapides': 2856, 'rappelezmoi': 2857, 'rappelle': 2858, 'rappelleCOMMA': 2859, 'rappellemoi': 2860, 'rapprochezvous': 2861, 'rare': 2862, 'rassasié': 2863, 'rationnel': 2864, 'rationnelle': 2865, 'rattrapele': 2866, 'raté': 2867, 'ravi': 2868, 'ravie': 2869, 'rb': 2870, 'rcp': 2871, 'rebelle': 2872, 'rebondissons': 2873, 'rebonjour': 2874, 'recommence': 2875, 'recommencez': 2876, 'reconnaissant': 2877, 'reconnaissante': 2878, 'recueille': 2879, 'recul': 2880, 'recule': 2881, 'reculetoi': 2882, 'reculez': 2883, 'reculezvous': 2884, 'redemande': 2885, 'redemandez': 2886, 'refaisle': 2887, 'refaitesle': 2888, 'refusa': 2889, 'refuse': 2890, 'refuser': 2891, 'refusé': 2892, 'regard': 2893, 'regarda': 2894, 'regarde': 2895, 'regardele': 2896, 'regardemoi': 2897, 'regardenous': 2898, 'regarder': 2899, 'regarderai': 2900, 'regardez': 2901, 'regardezle': 2902, 'regardezmoi': 2903, 'regardeznous': 2904, 'regardé': 2905, 'reine': 2906, 'rejoindre': 2907, 'relais': 2908, 'relaxe': 2909, 'relaxeCOMMA': 2910, 'relâchele': 2911, 'relâchezle': 2912, 'relève': 2913, 'remarqué': 2914, 'remercie': 2915, 'remetsle': 2916, 'remettezle': 2917, 'remis': 2918, 'remise': 2919, 'remonté': 2920, 'remplacela': 2921, 'remplacele': 2922, 'remplacemoi': 2923, 'remplacezla': 2924, 'remplacezle': 2925, 'remué': 2926, 'remuée': 2927, 'remuées': 2928, 'remués': 2929, 'renard': 2930, 'renaître': 2931, 'rencard': 2932, 'rencontra': 2933, 'rencontrai': 2934, 'rencontrer': 2935, 'rencontrées': 2936, 'rencontrés': 2937, 'rend': 2938, 'rendezmoi': 2939, 'rendezvous': 2940, 'rendons': 2941, 'rendrastu': 2942, 'rendre': 2943, 'rendrezvous': 2944, 'rends': 2945, 'rendsmoi': 2946, 'rendstoi': 2947, 'rendu': 2948, 'rendue': 2949, 'renforts': 2950, 'reniflé': 2951, 'renonce': 2952, 'renonçons': 2953, 'rentre': 2954, 'rentrer': 2955, 'rentrez': 2956, 'rentré': 2957, 'rentrée': 2958, 'renversé': 2959, 'renvoyé': 2960, 'repensesy': 2961, 'repos': 2962, 'reposa': 2963, 'reposait': 2964, 'reposer': 2965, 'reposetoi': 2966, 'reposezvous': 2967, 'reposé': 2968, 'reposée': 2969, 'reprises': 2970, 'repu': 2971, 'respecte': 2972, 'respectueuse': 2973, 'respectueuses': 2974, 'respectueux': 2975, 'respirait': 2976, 'ressenti': 2977, 'ressentiment': 2978, 'ressentir': 2979, 'reste': 2980, 'resteCOMMA': 2981, 'rester': 2982, 'resterai': 2983, 'restesy': 2984, 'restez': 2985, 'restezCOMMA': 2986, 'restezy': 2987, 'resté': 2988, 'restée': 2989, 'retard': 2990, 'retenez': 2991, 'retiens': 2992, 'retiretoi': 2993, 'retirezvous': 2994, 'retour': 2995, 'retrait': 2996, 'retraite': 2997, 'retraité': 2998, 'retraitée': 2999, 'revenez': 3000, 'revenu': 3001, 'reviendrai': 3002, 'reviens': 3003, 'revoilà': 3004, 'revoir': 3005, 'revoyure': 3006, 'revue': 3007, 'revérifie': 3008, 'reçu': 3009, 'rhume': 3010, 'ri': 3011, 'riait': 3012, 'ricanait': 3013, 'ricané': 3014, 'riche': 3015, 'riches': 3016, 'rien': 3017, 'riez': 3018, 'rigole': 3019, 'rigolo': 3020, 'rigolé': 3021, 'rigoureux': 3022, 'riposte': 3023, 'ripostez': 3024, 'rire': 3025, 'ris': 3026, 'risques': 3027, 'risquetil': 3028, 'rit': 3029, 'riz': 3030, 'robot': 3031, 'roche': 3032, 'rock': 3033, 'roi': 3034, 'romantique': 3035, 'romantisme': 3036, 'rompez': 3037, 'rompre': 3038, 'romps': 3039, 'rompu': 3040, 'ronfle': 3041, 'rose': 3042, 'rouge': 3043, 'rouges': 3044, 'rougi': 3045, 'roule': 3046, 'rouler': 3047, 'roulez': 3048, 'rouspéteur': 3049, 'route': 3050, 'rue': 3051, 'rugby': 3052, 'ruiné': 3053, 'ruinée': 3054, 'ruinées': 3055, 'ruinés': 3056, 'rumeur': 3057, 'râler': 3058, 'râlé': 3059, 'règle': 3060, 'réagi': 3061, 'réaliste': 3062, 'récréation': 3063, 'récrée': 3064, 'réfléchis': 3065, 'réfléchissezy': 3066, 'réfléchisy': 3067, 'régime': 3068, 'régnait': 3069, 'réparai': 3070, 'répare': 3071, 'réparer': 3072, 'réparez': 3073, 'réparé': 3074, 'réparée': 3075, 'répondez': 3076, 'répondezmoi': 3077, 'répondre': 3078, 'réponds': 3079, 'réservé': 3080, 'résiste': 3081, 'résister': 3082, 'rétablissement': 3083, 'réunissezvous': 3084, 'réussi': 3085, 'réussirons': 3086, 'réveil': 3087, 'réveille': 3088, 'réveilleles': 3089, 'réveilletoi': 3090, 'réveilletoiCOMMA': 3091, 'réveillezvous': 3092, 'réveillé': 3093, 'réveillée': 3094, 'réveillées': 3095, 'réveillés': 3096, 'réécrit': 3097, 'réécrivis': 3098, 'rêve': 3099, 'rêventils': 3100, 'rêver': 3101, 'rêves': 3102, 'rêvé': 3103, 'sa': 3104, 'sable': 3105, 'sac': 3106, 'sadapteratil': 3107, 'sage': 3108, 'sagesse': 3109, 'saggrave': 3110, 'sagissaitil': 3111, 'sagit': 3112, 'sagitil': 3113, 'saignait': 3114, 'saigne': 3115, 'saigner': 3116, 'sain': 3117, 'sainement': 3118, 'saint': 3119, 'sainte': 3120, 'sais': 3121, 'saisirai': 3122, 'saisismoi': 3123, 'saisissezmoi': 3124, 'saisissezvous': 3125, 'saisistoi': 3126, 'saistu': 3127, 'sait': 3128, 'saitil': 3129, 'sale': 3130, 'sales': 3131, 'sali': 3132, 'salue': 3133, 'salut': 3134, 'salutCOMMA': 3135, 'samedi': 3136, 'sang': 3137, 'sangfroid': 3138, 'sanglotait': 3139, 'sans': 3140, 'santé': 3141, 'saoul': 3142, 'saoule': 3143, 'saoules': 3144, 'saouls': 3145, 'saqué': 3146, 'sarrache': 3147, 'satisfait': 3148, 'satisfaite': 3149, 'satisfaites': 3150, 'satisfaits': 3151, 'sauf': 3152, 'saufs': 3153, 'saumon': 3154, 'saura': 3155, 'sauront': 3156, 'sauta': 3157, 'saute': 3158, 'sauter': 3159, 'sautez': 3160, 'sauté': 3161, 'sauve': 3162, 'sauverai': 3163, 'sauves': 3164, 'sauvetoi': 3165, 'sauvez': 3166, 'sauvezvous': 3167, 'sauvé': 3168, 'sauvée': 3169, 'sauvées': 3170, 'sauvés': 3171, 'savais': 3172, 'savait': 3173, 'savaitil': 3174, 'savent': 3175, 'savez': 3176, 'savezvous': 3177, 'savions': 3178, 'savoir': 3179, 'savons': 3180, 'sceptique': 3181, 'schcoumoune': 3182, 'scié': 3183, 'sciée': 3184, 'scorpion': 3185, 'se': 3186, 'seconde': 3187, 'secouetoi': 3188, 'secouezvous': 3189, 'secoué': 3190, 'secouée': 3191, 'secret': 3192, 'sectaire': 3193, 'sefforce': 3194, 'selon': 3195, 'semaine': 3196, 'semble': 3197, 'semmerde': 3198, 'sen': 3199, 'senfuit': 3200, 'sennuie': 3201, 'sens': 3202, 'sensCOMMA': 3203, 'sensass': 3204, 'sensible': 3205, 'sent': 3206, 'sentais': 3207, 'sentait': 3208, 'sentend': 3209, 'sentez': 3210, 'senti': 3211, 'sentie': 3212, 'sentir': 3213, 'sentis': 3214, 'senvole': 3215, 'sept': 3216, 'sera': 3217, 'serai': 3218, 'serais': 3219, 'seraisje': 3220, 'seraitce': 3221, 'serremoi': 3222, 'serrezmoi': 3223, 'sers': 3224, 'serstoi': 3225, 'sert': 3226, 'servante': 3227, 'servezvous': 3228, 'service': 3229, 'ses': 3230, 'sest': 3231, 'sestil': 3232, 'seul': 3233, 'seule': 3234, 'seules': 3235, 'seuls': 3236, 'sexy': 3237, 'si': 3238, 'sidéré': 3239, 'sidérée': 3240, 'sien': 3241, 'sienne': 3242, 'siennes': 3243, 'siens': 3244, 'sieste': 3245, 'siffla': 3246, 'sifflé': 3247, 'signe': 3248, 'signerai': 3249, 'signez': 3250, 'signé': 3251, 'sil': 3252, 'silencieux': 3253, 'simple': 3254, 'simplement': 3255, 'simulation': 3256, 'simule': 3257, 'sincère': 3258, 'sinistre': 3259, 'sirènes': 3260, 'siège': 3261, 'ski': 3262, 'skie': 3263, 'skier': 3264, 'sobre': 3265, 'soif': 3266, 'soigné': 3267, 'soin': 3268, 'soirée': 3269, 'sois': 3270, 'soit': 3271, 'soitil': 3272, 'sol': 3273, 'soldat': 3274, 'solidaire': 3275, 'solide': 3276, 'sombre': 3277, 'somme': 3278, 'sommeil': 3279, 'sommes': 3280, 'sommesnous': 3281, 'somnolent': 3282, 'son': 3283, 'sont': 3284, 'sontelles': 3285, 'sontils': 3286, 'sors': 3287, 'sortez': 3288, 'sorti': 3289, 'sortie': 3290, 'sortir': 3291, 'sortirai': 3292, 'sortit': 3293, 'sortons': 3294, 'sou': 3295, 'souci': 3296, 'souciait': 3297, 'soucie': 3298, 'soucier': 3299, 'soucions': 3300, 'soudoyées': 3301, 'soudoyés': 3302, 'souffle': 3303, 'souffre': 3304, 'souhait': 3305, 'souhaitemoi': 3306, 'souhaitezmoi': 3307, 'souhaits': 3308, 'souk': 3309, 'soulagement': 3310, 'soupe': 3311, 'soupira': 3312, 'soupiré': 3313, 'source': 3314, 'sourcils': 3315, 'sourd': 3316, 'sourde': 3317, 'souri': 3318, 'souriait': 3319, 'souriez': 3320, 'souriezCOMMA': 3321, 'sourire': 3322, 'souris': 3323, 'sourisCOMMA': 3324, 'sourit': 3325, 'sournois': 3326, 'sournoise': 3327, 'sournoises': 3328, 'sous': 3329, 'soutenez': 3330, 'soutiens': 3331, 'souvenezvousen': 3332, 'souvenons': 3333, 'souvent': 3334, 'souviens': 3335, 'souviensCOMMA': 3336, 'souviensentoi': 3337, 'soyez': 3338, 'soûl': 3339, 'spécial': 3340, 'spécifique': 3341, 'squash': 3342, 'stagiaire': 3343, 'stone': 3344, 'stop': 3345, 'stoppez': 3346, 'stoïque': 3347, 'strict': 3348, 'stricte': 3349, 'stricts': 3350, 'stupide': 3351, 'stupéfait': 3352, 'stylo': 3353, 'su': 3354, 'sucre': 3355, 'sucré': 3356, 'sud': 3357, 'suffit': 3358, 'suffitCOMMA': 3359, 'suicide': 3360, 'suis': 3361, 'suisje': 3362, 'suisle': 3363, 'suismoi': 3364, 'suisnous': 3365, 'suisse': 3366, 'suite': 3367, 'suivez': 3368, 'suivezle': 3369, 'suiveznous': 3370, 'suivi': 3371, 'suivrons': 3372, 'sujet': 3373, 'super': 3374, 'supplie': 3375, 'suppose': 3376, 'sur': 3377, 'surfeur': 3378, 'surfeuse': 3379, 'surprendsmoi': 3380, 'surprenezmoi': 3381, 'surpris': 3382, 'surprise': 3383, 'sursauté': 3384, 'surviendra': 3385, 'survis': 3386, 'survivre': 3387, 'survécu': 3388, 'survécûmes': 3389, 'sushis': 3390, 'sy': 3391, 'sympa': 3392, 'sympas': 3393, 'syncope': 3394, 'sèche': 3395, 'séché': 3396, 'sécurité': 3397, 'séparonsnous': 3398, 'séparâmes': 3399, 'séparées': 3400, 'séparés': 3401, 'sérieuse': 3402, 'sérieusement': 3403, 'sérieuses': 3404, 'sérieux': 3405, 'sévanouira': 3406, 'sûr': 3407, 'sûre': 3408, 'sûres': 3409, 'sûrs': 3410, 'ta': 3411, 'tabasser': 3412, 'tabou': 3413, 'tadmire': 3414, 'tadore': 3415, 'tai': 3416, 'taider': 3417, 'taiderai': 3418, 'tailletoi': 3419, 'taillezvous': 3420, 'taimais': 3421, 'taime': 3422, 'taimions': 3423, 'taisezvous': 3424, 'taistoi': 3425, 'talent': 3426, 'talons': 3427, 'tapproche': 3428, 'tapprécie': 3429, 'taquine': 3430, 'tard': 3431, 'tarrête': 3432, 'tarte': 3433, 'tas': 3434, 'tasseoir': 3435, 'tassures': 3436, 'tatillon': 3437, 'tatillonne': 3438, 'taudis': 3439, 'taureau': 3440, 'tavons': 3441, 'taxi': 3442, 'tchintchin': 3443, 'te': 3444, 'teint': 3445, 'tellement': 3446, 'temps': 3447, 'ten': 3448, 'tenace': 3449, 'tenais': 3450, 'tendu': 3451, 'tenez': 3452, 'tenezvous': 3453, 'tennuiestu': 3454, 'tentends': 3455, 'tenter': 3456, 'tenterai': 3457, 'tenterons': 3458, 'tenté': 3459, 'tentée': 3460, 'tenu': 3461, 'tenue': 3462, 'tenvie': 3463, 'terminer': 3464, 'terminé': 3465, 'terminée': 3466, 'terre': 3467, 'terrible': 3468, 'terrifié': 3469, 'terrifiée': 3470, 'tes': 3471, 'test': 3472, 'testu': 3473, 'thomas': 3474, 'thune': 3475, 'thé': 3476, 'théCOMMA': 3477, 'tien': 3478, 'tiendrai': 3479, 'tiendrons': 3480, 'tienne': 3481, 'tiens': 3482, 'tiensCOMMA': 3483, 'tienstoi': 3484, 'tient': 3485, 'timide': 3486, 'timides': 3487, 'tinquiète': 3488, 'tira': 3489, 'tire': 3490, 'tirer': 3491, 'tirerai': 3492, 'tirerons': 3493, 'tiretoi': 3494, 'tirez': 3495, 'tiré': 3496, 'tirées': 3497, 'tirés': 3498, 'titulaire': 3499, 'tocade': 3500, 'toi': 3501, 'toiCOMMA': 3502, 'toimême': 3503, 'tom': 3504, 'tomCOMMA': 3505, 'tombe': 3506, 'tomber': 3507, 'tombé': 3508, 'tombée': 3509, 'tombées': 3510, 'tombés': 3511, 'ton': 3512, 'tont': 3513, 'tort': 3514, 'toubib': 3515, 'touche': 3516, 'touchela': 3517, 'touchele': 3518, 'touchez': 3519, 'touchezla': 3520, 'touchezle': 3521, 'touché': 3522, 'touchée': 3523, 'toujours': 3524, 'toupet': 3525, 'tour': 3526, 'touriste': 3527, 'tournait': 3528, 'tourne': 3529, 'tous': 3530, 'tousse': 3531, 'toussota': 3532, 'tout': 3533, 'toute': 3534, 'toutes': 3535, 'tracasse': 3536, 'tracassez': 3537, 'trace': 3538, 'tracez': 3539, 'traduisezle': 3540, 'traduisle': 3541, 'tragique': 3542, 'tragédie': 3543, 'train': 3544, 'trains': 3545, 'tranchante': 3546, 'tranquille': 3547, 'tranquilles': 3548, 'tranquillisezvous': 3549, 'transpiré': 3550, 'travail': 3551, 'travaillais': 3552, 'travaille': 3553, 'travailler': 3554, 'travaillerai': 3555, 'travaillerons': 3556, 'travaillez': 3557, 'travaillons': 3558, 'travaillé': 3559, 'tremble': 3560, 'tremblé': 3561, 'tremper': 3562, 'trempée': 3563, 'trente': 3564, 'tressailli': 3565, 'trichait': 3566, 'triche': 3567, 'trichent': 3568, 'trichez': 3569, 'triché': 3570, 'tricote': 3571, 'tripe': 3572, 'tripes': 3573, 'triste': 3574, 'tristes': 3575, 'tristesse': 3576, 'trois': 3577, 'troisième': 3578, 'trompe': 3579, 'trompé': 3580, 'trompéje': 3581, 'trop': 3582, 'trou': 3583, 'trouille': 3584, 'trouva': 3585, 'trouvai': 3586, 'trouvais': 3587, 'trouve': 3588, 'trouverai': 3589, 'trouvez': 3590, 'trouvé': 3591, 'très': 3592, 'trébuché': 3593, 'trépasser': 3594, 'tu': 3595, 'tua': 3596, 'tue': 3597, 'tuela': 3598, 'tuele': 3599, 'tuer': 3600, 'tuerai': 3601, 'tuez': 3602, 'tuezla': 3603, 'tuezle': 3604, 'tué': 3605, 'ty': 3606, 'type': 3607, 'téchauffer': 3608, 'télé': 3609, 'téléphonai': 3610, 'téléphoner': 3611, 'téléphoné': 3612, 'tête': 3613, 'têtu': 3614, 'têtue': 3615, 'tôt': 3616, 't’adore': 3617, 't’ai': 3618, 't’as': 3619, 't’es': 3620, 'un': 3621, 'une': 3622, 'urgent': 3623, 'usage': 3624, 'utilise': 3625, 'utiliseles': 3626, 'utilisez': 3627, 'utilisezles': 3628, 'va': 3629, 'vaCOMMA': 3630, 'vague': 3631, 'vain': 3632, 'vaincu': 3633, 'vainqueurs': 3634, 'vais': 3635, 'valise': 3636, 'vaniteux': 3637, 'vanné': 3638, 'vannée': 3639, 'vas': 3640, 'vastu': 3641, 'vasy': 3642, 'vasyCOMMA': 3643, 'vaten': 3644, 'vatil': 3645, 'vat’en': 3646, 'veille': 3647, 'veillez': 3648, 'veillé': 3649, 'veinard': 3650, 'veinarde': 3651, 'veine': 3652, 'vend': 3653, 'vends': 3654, 'vendu': 3655, 'venez': 3656, 'venezCOMMA': 3657, 'venir': 3658, 'venons': 3659, 'venu': 3660, 'venue': 3661, 'verbaliser': 3662, 'verbalisé': 3663, 'verbalisée': 3664, 'verre': 3665, 'verreCOMMA': 3666, 'verrouillela': 3667, 'verrouillele': 3668, 'verrouillezla': 3669, 'verrouillezle': 3670, 'verrouillé': 3671, 'vers': 3672, 'verse': 3673, 'vert': 3674, 'vertige': 3675, 'vertiges': 3676, 'veuillez': 3677, 'veut': 3678, 'veuve': 3679, 'veux': 3680, 'veuxtu': 3681, 'vexé': 3682, 'viande': 3683, 'viandeCOMMA': 3684, 'vide': 3685, 'videla': 3686, 'videle': 3687, 'videz': 3688, 'videzla': 3689, 'videzle': 3690, 'vie': 3691, 'vieille': 3692, 'vieilles': 3693, 'viendra': 3694, 'viendrai': 3695, 'viendratelle': 3696, 'viendront': 3697, 'viens': 3698, 'viensCOMMA': 3699, 'vient': 3700, 'vientil': 3701, 'vieux': 3702, 'vigilant': 3703, 'vigilants': 3704, 'vilain': 3705, 'ville': 3706, 'villes': 3707, 'vin': 3708, 'vint': 3709, 'violon': 3710, 'viral': 3711, 'virez': 3712, 'viré': 3713, 'vis': 3714, 'visa': 3715, 'vise': 3716, 'visez': 3717, 'vite': 3718, 'vivant': 3719, 'vivante': 3720, 'vivons': 3721, 'vivrai': 3722, 'vivratil': 3723, 'vivre': 3724, 'voici': 3725, 'voiles': 3726, 'voilà': 3727, 'voir': 3728, 'vois': 3729, 'voistu': 3730, 'voiture': 3731, 'voitures': 3732, 'vole': 3733, 'volent': 3734, 'voler': 3735, 'voleur': 3736, 'volontaire': 3737, 'volé': 3738, 'vomi': 3739, 'vont': 3740, 'vos': 3741, 'vote': 3742, 'voter': 3743, 'votez': 3744, 'votons': 3745, 'votre': 3746, 'voté': 3747, 'voulais': 3748, 'voulons': 3749, 'vous': 3750, 'vousCOMMA': 3751, 'vousmême': 3752, 'voyages': 3753, 'voyais': 3754, 'voyait': 3755, 'voyant': 3756, 'voyante': 3757, 'voyez': 3758, 'voyezvous': 3759, 'voyons': 3760, 'vrai': 3761, 'vraiCOMMA': 3762, 'vraiment': 3763, 'vu': 3764, 'vuCOMMA': 3765, 'vue': 3766, 'vues': 3767, 'vus': 3768, 'végan': 3769, 'véhicule': 3770, 'véhiculé': 3771, 'véhiculée': 3772, 'vérifie': 3773, 'vérifieCOMMA': 3774, 'vérifier': 3775, 'vérifierai': 3776, 'vérifierons': 3777, 'vérifiez': 3778, 'vérifié': 3779, 'véritable': 3780, 'vérité': 3781, 'vôtre': 3782, 'wah': 3783, 'waouh': 3784, 'y': 3785, 'yen': 3786, 'yeux': 3787, 'zéro': 3788, '«': 3789, '»': 3790, '»COMMA': 3791, 'à': 3792, 'âge': 3793, 'âgé': 3794, 'ça': 3795, 'ébloui': 3796, 'éblouie': 3797, 'écartetoi': 3798, 'écartezvous': 3799, 'échappé': 3800, 'échappées': 3801, 'échappés': 3802, 'échauffer': 3803, 'échauffetoi': 3804, 'échauffezvous': 3805, 'échecs': 3806, 'échouerons': 3807, 'échoué': 3808, 'éclatâmes': 3809, 'éclaté': 3810, 'éclipsé': 3811, 'éclosent': 3812, 'écoulé': 3813, 'écouta': 3814, 'écoute': 3815, 'écoutemoi': 3816, 'écoutez': 3817, 'écoutons': 3818, 'écouté': 3819, 'écrasé': 3820, 'écrasée': 3821, 'écrasées': 3822, 'écrasés': 3823, 'écrire': 3824, 'écris': 3825, 'écrismoi': 3826, 'écrit': 3827, 'écrivez': 3828, 'écrivezmoi': 3829, 'égal': 3830, 'également': 3831, 'égalité': 3832, 'égard': 3833, 'égaré': 3834, 'égoïste': 3835, 'égoïstes': 3836, 'élaboré': 3837, 'élan': 3838, 'éloigné': 3839, 'élu': 3840, 'élue': 3841, 'émettre': 3842, 'ému': 3843, 'émue': 3844, 'énervé': 3845, 'énorme': 3846, 'épaté': 3847, 'épaules': 3848, 'épidémie': 3849, 'épousemoi': 3850, 'épousezmoi': 3851, 'épuisé': 3852, 'épuisée': 3853, 'équipage': 3854, 'équipe': 3855, 'équitable': 3856, 'équitables': 3857, 'étais': 3858, 'étaisje': 3859, 'était': 3860, 'étaitce': 3861, 'étaitil': 3862, 'éteignezle': 3863, 'éteinsle': 3864, 'étiez': 3865, 'étions': 3866, 'étoile': 3867, 'étourdi': 3868, 'étourdie': 3869, 'étrange': 3870, 'étudiant': 3871, 'étudie': 3872, 'étudier': 3873, 'étudiez': 3874, 'été': 3875, 'évanoui': 3876, 'évanouie': 3877, 'éveillé': 3878, 'évident': 3879, 'événement': 3880, 'êtes': 3881, 'êtesvous': 3882, 'être': 3883, 'œil': 3884, 'œufs': 3885}\n",
      "output token index:  {'START_': 0, '_END': 1, 'aandrusiak': 2, 'abchessel': 3, 'adelpa': 4, 'adjusting': 5, 'afeinberg': 6, 'ag': 7, 'ahmes': 8, 'aiji': 9, 'airvian': 10, 'ajira': 11, 'akaaj': 12, 'akenaseryan': 13, 'alanfus': 14, 'alanrominger': 15, 'alec': 16, 'alexander': 17, 'alexisslay': 18, 'alexparrish': 19, 'algideamygdale': 20, 'alkrasnov': 21, 'amarmecheri': 22, 'amastan': 23, 'amazighgirl': 24, 'amazighsatlasblideen': 25, 'amikema': 26, 'anthaus': 27, 'aperitero': 28, 'apex': 29, 'apollineb': 30, 'aquatius': 31, 'archibald': 32, 'arnxy': 33, 'arykiss': 34, 'asliabbasi': 35, 'asma': 36, 'asveja': 37, 'attribution': 38, 'aurix': 39, 'autobot': 40, 'awael': 41, 'baisong': 42, 'balamax': 43, 'barbiche': 44, 'bart': 45, 'beatminister': 46, 'becs': 47, 'belgavox': 48, 'benbika': 49, 'betsemes': 50, 'blabla': 51, 'blaypaul': 52, 'bluelagoon': 53, 'bluepie': 54, 'bmaynard': 55, 'boriqa': 56, 'borkonall': 57, 'boscowitch': 58, 'bourdu': 59, 'bout': 60, 'bpeel': 61, 'brauliobezerra': 62, 'bravesentry': 63, 'bruno': 64, 'cairnhead': 65, 'callmath': 66, 'camilozeta': 67, 'carpelanam': 68, 'ccby': 69, 'ccneko': 70, 'ce': 71, 'ch': 72, 'chevere': 73, 'chrikaru': 74, 'christian': 75, 'christiane': 76, 'chtof': 77, 'ck': 78, 'clockworkbred': 79, 'cm': 80, 'cn': 81, 'cntrational': 82, 'cocorico': 83, 'codl': 84, 'corvus': 85, 'couarail': 86, 'cronos': 87, 'cs': 88, 'dafp': 89, 'danepo': 90, 'danquebec': 91, 'darinmex': 92, 'ddnktr': 93, 'dejo': 94, 'delapouite': 95, 'deniko': 96, 'despear': 97, 'djino': 98, 'djsaidez': 99, 'djt': 100, 'dolomitt': 101, 'dominiko': 102, 'donkirkby': 103, 'doremi': 104, 'dorenda': 105, 'dreamk': 106, 'dunbab': 107, 'dzouras': 108, 'eastasiastudent': 109, 'eccles': 110, 'eeyinn': 111, 'elaichi': 112, 'eldad': 113, 'elgranjuego': 114, 'elliv': 115, 'emilykamalei': 116, 'enteka': 117, 'erikspen': 118, 'espamatics': 119, 'etala': 120, 'etoile': 121, 'evafranska': 122, 'fanty': 123, 'fatih': 124, 'felix': 125, 'felvideki': 126, 'feudrenais': 127, 'filcxjo': 128, 'firez': 129, 'fish': 130, 'fishda': 131, 'fleur': 132, 'france': 133, 'franlexcois': 134, 'franzmimm': 135, 'freddy': 136, 'freyja': 137, 'gabuliellu': 138, 'gaeiie': 139, 'gamalnemeri': 140, 'garborg': 141, 'gb': 142, 'geez': 143, 'gegeveggie': 144, 'gianich': 145, 'gillux': 146, 'gleki': 147, 'goofy': 148, 'gorgmah': 149, 'guilmaeire': 150, 'gulliver': 151, 'gustonrankin': 152, 'halebopp': 153, 'hamsolo': 154, 'hautis': 155, 'helloroto': 156, 'hennebert': 157, 'hertz': 158, 'hikari': 159, 'honestlang': 160, 'hortusdei': 161, 'hrin': 162, 'human': 163, 'hybrid': 164, 'ichivivi': 165, 'iris': 166, 'itll': 167, 'jackd': 168, 'jakov': 169, 'jamessilver': 170, 'janejeanne': 171, 'janfred': 172, 'jared': 173, 'jaxhere': 174, 'jdonnarumma': 175, 'jerom': 176, 'jesse': 177, 'jgauthier': 178, 'jhomel': 179, 'jio': 180, 'joelle': 181, 'joseph': 182, 'js': 183, 'jsakuragi': 184, 'judithkiwi': 185, 'juliemdm': 186, 'julienpdc': 187, 'kadwallon': 188, 'kaiperkins': 189, 'kamilla': 190, 'kamillel': 191, 'kareybh': 192, 'kebukebu': 193, 'keepyoureyespeeled': 194, 'kerbear': 195, 'khirthash': 196, 'kieranjpball': 197, 'kirschen': 198, 'korekorin': 199, 'kotobaboke': 200, 'kotobaniko': 201, 'kurisutofu': 202, 'laghmanc': 203, 'lamino': 204, 'languageexpert': 205, 'lapinhibou': 206, 'lbdx': 207, 'lebensfreude': 208, 'lepetitanegris': 209, 'lich': 210, 'limegreenteknii': 211, 'lindoula': 212, 'littleben': 213, 'littlejohn': 214, 'lovasoa': 215, 'lovewindpower': 216, 'lucasmg': 217, 'luciosp': 218, 'ludoviko': 219, 'lukaszpp': 220, 'lulantis': 221, 'lunamoonsilver': 222, 'lunchmeat': 223, 'magnificentgoddess': 224, 'mailohilohi': 225, 'mamat': 226, 'manuk': 227, 'marcelostockle': 228, 'marcp': 229, 'marieanne': 230, 'mariezou': 231, 'marioo': 232, 'marloncori': 233, 'marshmallowcat': 234, 'martin': 235, 'martinshadock': 236, 'maxence': 237, 'mayliu': 238, 'mccarras': 239, 'meerkat': 240, 'megamanenm': 241, 'melospawn': 242, 'methodgt': 243, 'michelnialon': 244, 'micsmithel': 245, 'mifonto': 246, 'minshirui': 247, 'minti': 248, 'mkacfr': 249, 'mofli': 250, 'mouche': 251, 'mouseneb': 252, 'mrshoval': 253, 'narnar': 254, 'nasirbal': 255, 'nava': 256, 'nbrr': 257, 'ngdongit': 258, 'nibuen': 259, 'nihonkage': 260, 'nimfeo': 261, 'nm': 262, 'nomadsoul': 263, 'nursemeeks': 264, 'nylez': 265, 'objectivesea': 266, 'offdare': 267, 'olivier': 268, 'ooneykcall': 269, 'orbpic': 270, 'osohombre': 271, 'ozzie': 272, 'paiooooo': 273, 'pandark': 274, 'papabear': 275, 'pasquetfernando': 276, 'patgfisher': 277, 'pauldhunt': 278, 'paulina': 279, 'paulp': 280, 'perceneige': 281, 'petermontgomercy': 282, 'petro': 283, 'petrus': 284, 'pfif': 285, 'pfpillon': 286, 'phil': 287, 'pierrephi': 288, 'piksea': 289, 'pinkyshoes': 290, 'pititnatole': 291, 'pjer': 292, 'pkill': 293, 'pne': 294, 'popolon': 295, 'ppjet': 296, 'qdii': 297, 'quazel': 298, 'rabicat': 299, 'raspakrusto': 300, 'ravas': 301, 'rawrren': 302, 'rbbrbb': 303, 'rene': 304, 'ricardo': 305, 'riccioberto': 306, 'ritualesatanum': 307, 'robbieheslop': 308, 'rockaround': 309, 'roggy': 310, 'roiofthesuisse': 311, 'romira': 312, 'rovo': 313, 'rpglover': 314, 'rtomharper': 315, 'rtroisgr': 316, 'ryanthewired': 317, 'saasmath': 318, 'sacredceltic': 319, 'sadhen': 320, 'saeb': 321, 'saksm': 322, 'salikh': 323, 'salutlolo': 324, 'samm': 325, 'sbamsbamsbam': 326, 'sbgodin': 327, 'sciuro': 328, 'scorpionvenin': 329, 'scotland': 330, 'scott': 331, 'sctld': 332, 'seael': 333, 'sebastien': 334, 'sebcurti': 335, 'selenyt': 336, 'serhiy': 337, 'serpico': 338, 'sestersparrow': 339, 'shanghainese': 340, 'sharaf': 341, 'sharptoothed': 342, 'sharris': 343, 'shazback': 344, 'shekitten': 345, 'shishir': 346, 'sibelius': 347, 'siggg': 348, 'silvermane': 349, 'sisyphe': 350, 'sittelle': 351, 'slomox': 352, 'snout': 353, 'sojl': 354, 'songe': 355, 'sorgan': 356, 'sourcebenedict': 357, 'sourcevoa': 358, 'sowelielepanto': 359, 'spacebadger': 360, 'spamster': 361, 'spenceryonce': 362, 'stevegrant': 363, 'sugoi': 364, 'sundown': 365, 'supercoolbeas': 366, 'suzie': 367, 'sweethoney': 368, 'swift': 369, 'sysko': 370, 'talbotseb': 371, 'tamnguyen': 372, 'tamsanh': 373, 'tamy': 374, 'tanay': 375, 'tanzoniteblack': 376, 'tatoebaorg': 377, 'tcha': 378, 'theachaean': 379, 'themiska': 380, 'theocracy': 381, 'thomsmells': 382, 'thowas': 383, 'thrash': 384, 'thuret': 385, 'tinacalysto': 386, 'tomo': 387, 'toynop': 388, 'trailsend': 389, 'trang': 390, 'tras': 391, 'tripbeetle': 392, 'trotter': 393, 'ufs': 394, 'ulyssemc': 395, 'undertoad': 396, 'vanilla': 397, 'verymuchso': 398, 'vest': 399, 'vgigregg': 400, 'virtuoz': 401, 'visionelf': 402, 'vortarulo': 403, 'wakano': 404, 'wallebot': 405, 'weihaiping': 406, 'wemix': 407, 'westofeden': 408, 'whidou': 409, 'witbrock': 410, 'wittydev': 411, 'wma': 412, 'xellugis': 413, 'xxyy': 414, 'yemana': 415, 'yessoos': 416, 'yorickvidal': 417, 'youmu': 418, 'yuiyu': 419, 'zaphod': 420, 'zarisi': 421, 'zifre': 422, 'zipangu': 423, 'zmoo': 424, 'zurich': 425, 'zwhzwh': 426}\n"
     ]
    }
   ],
   "source": [
    "# getting index for words as these indexes will behave as words for machine interactions\n",
    "input_token_index = dict([(word,i) for i,word in enumerate(input_words)])\n",
    "output_token_index = dict([(word,i) for i,word in enumerate(output_words)])\n",
    "\n",
    "print('input token index: ', input_token_index)\n",
    "print('output token index: ', output_token_index)"
   ]
  },
  {
   "cell_type": "code",
   "execution_count": 18,
   "metadata": {
    "colab": {},
    "colab_type": "code",
    "id": "QEFPA6sxfF7q"
   },
   "outputs": [],
   "source": [
    "# creating arrays of input and output data\n",
    "encoder_input_data = np.zeros((len(lines.english), max_input_length), dtype='float32')\n",
    "decoder_input_data = np.zeros((len(lines.french), max_output_length), dtype='float32')\n",
    "\n",
    "#one hot encoding the target data as Dense layer only gives one output through softmax layer\n",
    "decoder_target_data = np.zeros((len(lines.french), max_output_length, num_decoder_tokens))"
   ]
  },
  {
   "cell_type": "code",
   "execution_count": 19,
   "metadata": {
    "colab": {
     "base_uri": "https://localhost:8080/",
     "height": 68
    },
    "colab_type": "code",
    "id": "GCyp6LOkgR_d",
    "outputId": "b4020a6d-33fe-4978-ca92-8158285cc01f"
   },
   "outputs": [
    {
     "name": "stdout",
     "output_type": "stream",
     "text": [
      "(8000, 10)\n",
      "(8000, 12)\n",
      "(8000, 12, 427)\n"
     ]
    }
   ],
   "source": [
    "print(encoder_input_data.shape)\n",
    "print(decoder_input_data.shape)\n",
    "print(decoder_target_data.shape)"
   ]
  },
  {
   "cell_type": "code",
   "execution_count": 20,
   "metadata": {
    "colab": {},
    "colab_type": "code",
    "id": "Rbc8IGKJgaDi"
   },
   "outputs": [],
   "source": [
    "# putting all the integer values in input, output data and target data\n",
    "for i,(input_text, output_text) in enumerate(zip(lines.english, lines.french)):\n",
    "  for t, word in enumerate(input_text.split()):\n",
    "    encoder_input_data[i,t] = input_token_index[word]\n",
    "  for t,word in enumerate(output_text.split()):\n",
    "    decoder_input_data[i,t] = output_token_index[word]\n",
    "    # as decoder target data is ahead of decoder input data, it will not include start_ character(which will be given to decoder model at prediction)\n",
    "    if t > 0:\n",
    "      decoder_target_data[i,t-1,output_token_index[word]] = 1"
   ]
  },
  {
   "cell_type": "code",
   "execution_count": 21,
   "metadata": {
    "colab": {
     "base_uri": "https://localhost:8080/",
     "height": 187
    },
    "colab_type": "code",
    "id": "DPPaxI_4ic-u",
    "outputId": "2597c12a-4344-46f2-d3da-3b040f53742e"
   },
   "outputs": [
    {
     "name": "stdout",
     "output_type": "stream",
     "text": [
      "encoder input data:  [2078.    0.    0.    0.    0.    0.    0.    0.    0.    0.]\n",
      "decoder input data:  [  0.  69. 133.  38. 377.  80. 245.   1.   0.   0.   0.   0.]\n",
      "decoder target data:  [[0. 0. 0. ... 0. 0. 0.]\n",
      " [0. 0. 0. ... 0. 0. 0.]\n",
      " [0. 0. 0. ... 0. 0. 0.]\n",
      " ...\n",
      " [0. 0. 0. ... 0. 0. 0.]\n",
      " [0. 0. 0. ... 0. 0. 0.]\n",
      " [0. 0. 0. ... 0. 0. 0.]]\n",
      "shape of sample decoder target data:  (12, 427)\n"
     ]
    }
   ],
   "source": [
    "print(\"encoder input data: \", encoder_input_data[1])\n",
    "print('decoder input data: ', decoder_input_data[1])\n",
    "print('decoder target data: ',decoder_target_data[1])\n",
    "print('shape of sample decoder target data: ', decoder_target_data[1].shape)"
   ]
  },
  {
   "cell_type": "code",
   "execution_count": 22,
   "metadata": {
    "colab": {},
    "colab_type": "code",
    "id": "mtmaA1Dpi4Gt"
   },
   "outputs": [],
   "source": [
    "from tensorflow.keras.layers import Input, Embedding, LSTM, Dense\n",
    "from tensorflow.keras.models import Model\n",
    "from tensorflow.keras.utils import plot_model"
   ]
  },
  {
   "cell_type": "code",
   "execution_count": 23,
   "metadata": {
    "colab": {},
    "colab_type": "code",
    "id": "bBQL7tnbJyNY"
   },
   "outputs": [],
   "source": [
    "# setting hyperparameters\n",
    "embedding_size = 120\n",
    "lstm_dim = 324"
   ]
  },
  {
   "cell_type": "code",
   "execution_count": 24,
   "metadata": {
    "colab": {},
    "colab_type": "code",
    "id": "d22NrF0WJ27I"
   },
   "outputs": [],
   "source": [
    "# building model for training stage\n",
    "#encoder model\n",
    "\n",
    "encoder_inputs = Input(shape=(None,))\n",
    "en_x = Embedding(num_encoder_tokens, embedding_size)(encoder_inputs)\n",
    "encoder = LSTM(lstm_dim, return_state=True)\n",
    "encoder_outputs, state_h, state_c = encoder(en_x)\n",
    "encoder_states = [state_h, state_c]"
   ]
  },
  {
   "cell_type": "code",
   "execution_count": 25,
   "metadata": {
    "colab": {},
    "colab_type": "code",
    "id": "QJFnen_fKlaI"
   },
   "outputs": [],
   "source": [
    "# decoder model\n",
    "\n",
    "decoder_inputs = Input(shape=(None,))\n",
    "final_dex = Embedding(num_decoder_tokens, embedding_size)(decoder_inputs)\n",
    "\n",
    "decoder_lstm = LSTM(lstm_dim, return_sequences=True, return_state=True)\n",
    "\n",
    "decoder_outputs, _, _ = decoder_lstm(final_dex, initial_state=encoder_states)\n",
    "\n",
    "decoder_dense = Dense(num_decoder_tokens, activation='softmax') \n",
    "\n",
    "decoder_outputs = decoder_dense(decoder_outputs)\n"
   ]
  },
  {
   "cell_type": "code",
   "execution_count": 26,
   "metadata": {
    "colab": {},
    "colab_type": "code",
    "id": "pAR4dRgVLcua"
   },
   "outputs": [],
   "source": [
    "model = Model([encoder_inputs, decoder_inputs], decoder_outputs)"
   ]
  },
  {
   "cell_type": "code",
   "execution_count": 27,
   "metadata": {
    "colab": {},
    "colab_type": "code",
    "id": "4YtqSjuXLvxb"
   },
   "outputs": [],
   "source": [
    "model.compile(optimizer='rmsprop',\n",
    "              loss = 'categorical_crossentropy',\n",
    "              metrics=['accuracy'])"
   ]
  },
  {
   "cell_type": "code",
   "execution_count": 28,
   "metadata": {
    "colab": {
     "base_uri": "https://localhost:8080/",
     "height": 425
    },
    "colab_type": "code",
    "id": "iFdEYNKAL4L4",
    "outputId": "1cc56df4-c875-45cd-f76d-7f9a754bdcca"
   },
   "outputs": [
    {
     "name": "stdout",
     "output_type": "stream",
     "text": [
      "Model: \"model\"\n",
      "__________________________________________________________________________________________________\n",
      " Layer (type)                   Output Shape         Param #     Connected to                     \n",
      "==================================================================================================\n",
      " input_1 (InputLayer)           [(None, None)]       0           []                               \n",
      "                                                                                                  \n",
      " input_2 (InputLayer)           [(None, None)]       0           []                               \n",
      "                                                                                                  \n",
      " embedding (Embedding)          (None, None, 120)    466320      ['input_1[0][0]']                \n",
      "                                                                                                  \n",
      " embedding_1 (Embedding)        (None, None, 120)    51240       ['input_2[0][0]']                \n",
      "                                                                                                  \n",
      " lstm (LSTM)                    [(None, 324),        576720      ['embedding[0][0]']              \n",
      "                                 (None, 324),                                                     \n",
      "                                 (None, 324)]                                                     \n",
      "                                                                                                  \n",
      " lstm_1 (LSTM)                  [(None, None, 324),  576720      ['embedding_1[0][0]',            \n",
      "                                 (None, 324),                     'lstm[0][1]',                   \n",
      "                                 (None, 324)]                     'lstm[0][2]']                   \n",
      "                                                                                                  \n",
      " dense (Dense)                  (None, None, 427)    138775      ['lstm_1[0][0]']                 \n",
      "                                                                                                  \n",
      "==================================================================================================\n",
      "Total params: 1,809,775\n",
      "Trainable params: 1,809,775\n",
      "Non-trainable params: 0\n",
      "__________________________________________________________________________________________________\n"
     ]
    }
   ],
   "source": [
    "model.summary()"
   ]
  },
  {
   "cell_type": "code",
   "execution_count": 29,
   "metadata": {
    "colab": {
     "base_uri": "https://localhost:8080/",
     "height": 1000
    },
    "colab_type": "code",
    "id": "TbhCh3KyL8pQ",
    "outputId": "b6ed2b1e-d3bf-4fd1-f585-dc1d41550a58"
   },
   "outputs": [
    {
     "name": "stdout",
     "output_type": "stream",
     "text": [
      "Epoch 1/30\n",
      "113/113 [==============================] - 18s 126ms/step - loss: 0.7420 - accuracy: 0.4587 - val_loss: 0.4009 - val_accuracy: 0.5336\n",
      "Epoch 2/30\n",
      "113/113 [==============================] - 13s 118ms/step - loss: 0.3924 - accuracy: 0.5194 - val_loss: 0.3189 - val_accuracy: 0.5336\n",
      "Epoch 3/30\n",
      "113/113 [==============================] - 13s 117ms/step - loss: 0.3506 - accuracy: 0.5195 - val_loss: 0.3129 - val_accuracy: 0.5336\n",
      "Epoch 4/30\n",
      "113/113 [==============================] - 13s 119ms/step - loss: 0.3327 - accuracy: 0.5210 - val_loss: 0.3176 - val_accuracy: 0.5340\n",
      "Epoch 5/30\n",
      "113/113 [==============================] - 13s 116ms/step - loss: 0.3201 - accuracy: 0.5233 - val_loss: 0.3046 - val_accuracy: 0.5337\n",
      "Epoch 6/30\n",
      "113/113 [==============================] - 14s 122ms/step - loss: 0.3114 - accuracy: 0.5243 - val_loss: 0.3220 - val_accuracy: 0.5310\n",
      "Epoch 7/30\n",
      "113/113 [==============================] - 14s 124ms/step - loss: 0.3053 - accuracy: 0.5257 - val_loss: 0.3128 - val_accuracy: 0.5324\n",
      "Epoch 8/30\n",
      "113/113 [==============================] - 14s 126ms/step - loss: 0.2999 - accuracy: 0.5271 - val_loss: 0.3058 - val_accuracy: 0.5323\n",
      "Epoch 9/30\n",
      "113/113 [==============================] - 14s 126ms/step - loss: 0.2943 - accuracy: 0.5280 - val_loss: 0.3135 - val_accuracy: 0.5277\n",
      "Epoch 10/30\n",
      "113/113 [==============================] - 13s 118ms/step - loss: 0.2887 - accuracy: 0.5297 - val_loss: 0.3156 - val_accuracy: 0.5282\n",
      "Epoch 11/30\n",
      "113/113 [==============================] - 13s 117ms/step - loss: 0.2837 - accuracy: 0.5307 - val_loss: 0.3151 - val_accuracy: 0.5298\n",
      "Epoch 12/30\n",
      "113/113 [==============================] - 13s 115ms/step - loss: 0.2796 - accuracy: 0.5313 - val_loss: 0.3093 - val_accuracy: 0.5315\n",
      "Epoch 13/30\n",
      "113/113 [==============================] - 15s 129ms/step - loss: 0.2745 - accuracy: 0.5320 - val_loss: 0.3238 - val_accuracy: 0.5295\n",
      "Epoch 14/30\n",
      "113/113 [==============================] - 15s 135ms/step - loss: 0.2713 - accuracy: 0.5325 - val_loss: 0.3226 - val_accuracy: 0.5290\n",
      "Epoch 15/30\n",
      "113/113 [==============================] - 14s 121ms/step - loss: 0.2675 - accuracy: 0.5332 - val_loss: 0.3264 - val_accuracy: 0.5246\n",
      "Epoch 16/30\n",
      "113/113 [==============================] - 14s 124ms/step - loss: 0.2642 - accuracy: 0.5337 - val_loss: 0.3385 - val_accuracy: 0.5207\n",
      "Epoch 17/30\n",
      "113/113 [==============================] - 14s 121ms/step - loss: 0.2611 - accuracy: 0.5340 - val_loss: 0.3297 - val_accuracy: 0.5268\n",
      "Epoch 18/30\n",
      "113/113 [==============================] - 13s 118ms/step - loss: 0.2575 - accuracy: 0.5344 - val_loss: 0.3407 - val_accuracy: 0.5231\n",
      "Epoch 19/30\n",
      "113/113 [==============================] - 13s 118ms/step - loss: 0.2548 - accuracy: 0.5346 - val_loss: 0.3404 - val_accuracy: 0.5268\n",
      "Epoch 20/30\n",
      "113/113 [==============================] - 14s 127ms/step - loss: 0.2520 - accuracy: 0.5351 - val_loss: 0.3374 - val_accuracy: 0.5269\n",
      "Epoch 21/30\n",
      "113/113 [==============================] - 14s 122ms/step - loss: 0.2496 - accuracy: 0.5358 - val_loss: 0.3419 - val_accuracy: 0.5255\n",
      "Epoch 22/30\n",
      "113/113 [==============================] - 14s 122ms/step - loss: 0.2469 - accuracy: 0.5357 - val_loss: 0.3569 - val_accuracy: 0.5199\n",
      "Epoch 23/30\n",
      "113/113 [==============================] - 14s 122ms/step - loss: 0.2436 - accuracy: 0.5363 - val_loss: 0.3428 - val_accuracy: 0.5230\n",
      "Epoch 24/30\n",
      "113/113 [==============================] - 14s 120ms/step - loss: 0.2411 - accuracy: 0.5366 - val_loss: 0.3483 - val_accuracy: 0.5233\n",
      "Epoch 25/30\n",
      "113/113 [==============================] - 13s 118ms/step - loss: 0.2384 - accuracy: 0.5373 - val_loss: 0.3524 - val_accuracy: 0.5241\n",
      "Epoch 26/30\n",
      "113/113 [==============================] - 14s 125ms/step - loss: 0.2363 - accuracy: 0.5375 - val_loss: 0.3568 - val_accuracy: 0.5238\n",
      "Epoch 27/30\n",
      "113/113 [==============================] - 14s 126ms/step - loss: 0.2323 - accuracy: 0.5381 - val_loss: 0.3501 - val_accuracy: 0.5256\n",
      "Epoch 28/30\n",
      "113/113 [==============================] - 14s 124ms/step - loss: 0.2303 - accuracy: 0.5384 - val_loss: 0.3486 - val_accuracy: 0.5265\n",
      "Epoch 29/30\n",
      "113/113 [==============================] - 14s 123ms/step - loss: 0.2277 - accuracy: 0.5389 - val_loss: 0.3550 - val_accuracy: 0.5225\n",
      "Epoch 30/30\n",
      "113/113 [==============================] - 14s 122ms/step - loss: 0.2252 - accuracy: 0.5395 - val_loss: 0.3581 - val_accuracy: 0.5277\n"
     ]
    }
   ],
   "source": [
    "r = model.fit([encoder_input_data, decoder_input_data], decoder_target_data, batch_size=64, epochs=30, validation_split=0.10)"
   ]
  },
  {
   "cell_type": "code",
   "execution_count": 30,
   "metadata": {
    "colab": {
     "base_uri": "https://localhost:8080/",
     "height": 255
    },
    "colab_type": "code",
    "id": "7pFHrzZXMYg2",
    "outputId": "768bccfa-d0a0-4249-b339-bd84ce0e94c1"
   },
   "outputs": [
    {
     "name": "stdout",
     "output_type": "stream",
     "text": [
      "Model: \"model_1\"\n",
      "_________________________________________________________________\n",
      " Layer (type)                Output Shape              Param #   \n",
      "=================================================================\n",
      " input_1 (InputLayer)        [(None, None)]            0         \n",
      "                                                                 \n",
      " embedding (Embedding)       (None, None, 120)         466320    \n",
      "                                                                 \n",
      " lstm (LSTM)                 [(None, 324),             576720    \n",
      "                              (None, 324),                       \n",
      "                              (None, 324)]                       \n",
      "                                                                 \n",
      "=================================================================\n",
      "Total params: 1,043,040\n",
      "Trainable params: 1,043,040\n",
      "Non-trainable params: 0\n",
      "_________________________________________________________________\n"
     ]
    }
   ],
   "source": [
    "#Inference Stage\n",
    "\n",
    "#encoder model\n",
    "encoder_model = Model(encoder_inputs, encoder_states)\n",
    "encoder_model.summary()"
   ]
  },
  {
   "cell_type": "code",
   "execution_count": 31,
   "metadata": {
    "colab": {},
    "colab_type": "code",
    "id": "eAVnCo6yN1wV"
   },
   "outputs": [],
   "source": [
    "#decoder model\n",
    "decoder_state_input_h = Input(shape=(lstm_dim,))\n",
    "decoder_state_input_c = Input(shape=(lstm_dim,))\n",
    "decoder_state_inputs = [decoder_state_input_h, decoder_state_input_c]\n",
    "\n",
    "final_dex2 = Embedding(num_decoder_tokens, embedding_size)(decoder_inputs)\n",
    "\n",
    "decoder_outputs2, state_h2, state_c2 = decoder_lstm(final_dex2, initial_state=decoder_state_inputs)\n",
    "decoder_states2 = [state_h2, state_c2]\n",
    "decoder_outputs2 = decoder_dense(decoder_outputs2)\n",
    "\n",
    "decoder_model = Model([decoder_inputs] + decoder_state_inputs, [decoder_outputs2] + decoder_states2)"
   ]
  },
  {
   "cell_type": "code",
   "execution_count": 32,
   "metadata": {
    "colab": {
     "base_uri": "https://localhost:8080/",
     "height": 71
    },
    "colab_type": "code",
    "id": "gquuVoe1PGSZ",
    "outputId": "e4943759-4462-4318-ecf0-5c6378f3c536"
   },
   "outputs": [
    {
     "name": "stdout",
     "output_type": "stream",
     "text": [
      "{0: 'a', 1: 'aaah', 2: 'abandonne', 3: 'abandonner', 4: 'abandonnez', 5: 'abandonnons', 6: 'abandonnèrent', 7: 'abandonné', 8: 'abattu', 9: 'abattue', 10: 'aboient', 11: 'abruti', 12: 'abrutie', 13: 'absurdité', 14: 'accepté', 15: 'accises', 16: 'accompagnemoi', 17: 'accompli', 18: 'accord', 19: 'accordemoi', 20: 'accro', 21: 'accrochetoi', 22: 'accrochezvous', 23: 'accélère', 24: 'accélérez', 25: 'acheter', 26: 'achetezla', 27: 'achetezle', 28: 'achetons', 29: 'acheté', 30: 'achètela', 31: 'achètele', 32: 'achètetoi', 33: 'acquérir', 34: 'actuellement', 35: 'adieu', 36: 'admirateurs', 37: 'admire', 38: 'adorable', 39: 'adorait', 40: 'adore', 41: 'adoré', 42: 'adulte', 43: 'adultes', 44: 'affaiblie', 45: 'affaire', 46: 'affaires', 47: 'affairé', 48: 'affairée', 49: 'affamé', 50: 'affolé', 51: 'affolée', 52: 'affreusement', 53: 'affreux', 54: 'affûtée', 55: 'agent', 56: 'agir', 57: 'agriculteur', 58: 'agréable', 59: 'ah', 60: 'aha', 61: 'ahhh', 62: 'ai', 63: 'aida', 64: 'aide', 65: 'aidemoi', 66: 'aidemoiCOMMA', 67: 'aidenous', 68: 'aidenousCOMMA', 69: 'aident', 70: 'aider', 71: 'aidera', 72: 'aiderai', 73: 'aidetil', 74: 'aidez', 75: 'aidezmoi', 76: 'aidezmoiCOMMA', 77: 'aideznous', 78: 'aideznousCOMMA', 79: 'aidons', 80: 'aidé', 81: 'aije', 82: 'aille', 83: 'ailles', 84: 'ailleurs', 85: 'aima', 86: 'aimable', 87: 'aimait', 88: 'aime', 89: 'aimions', 90: 'aimons', 91: 'aimé', 92: 'aimée', 93: 'ainsi', 94: 'alentour', 95: 'alerte', 96: 'alité', 97: 'alitée', 98: 'alitées', 99: 'alités', 100: 'aller', 101: 'allez', 102: 'allezCOMMA', 103: 'allezvous', 104: 'allezvousen', 105: 'allezy', 106: 'allongéCOMMA', 107: 'allongéeCOMMA', 108: 'allongéesCOMMA', 109: 'allongésCOMMA', 110: 'allons', 111: 'allonsnous', 112: 'allonsy', 113: 'allumée', 114: 'allé', 115: 'alléCOMMA', 116: 'allée', 117: 'allées', 118: 'allés', 119: 'alors', 120: 'ambitieuse', 121: 'ambitieux', 122: 'amende', 123: 'amendé', 124: 'amendée', 125: 'ami', 126: 'amical', 127: 'amicale', 128: 'amicales', 129: 'amicaux', 130: 'amie', 131: 'amoureuse', 132: 'amoureux', 133: 'amusant', 134: 'amusante', 135: 'amusetoi', 136: 'amusezvous', 137: 'amusé', 138: 'amusée', 139: 'amène', 140: 'amènemoi', 141: 'américain', 142: 'ancien', 143: 'andouille', 144: 'anglais', 145: 'anguille', 146: 'annule', 147: 'annulez', 148: 'annulé', 149: 'annulée', 150: 'années', 151: 'ans', 152: 'apeuré', 153: 'apeurée', 154: 'appartientil', 155: 'appelez', 156: 'appelezmoi', 157: 'appeleznous', 158: 'appelle', 159: 'appellemoi', 160: 'appellenous', 161: 'appellera', 162: 'appellerai', 163: 'appelleront', 164: 'appellez', 165: 'appelé', 166: 'appelée', 167: 'appelées', 168: 'appelés', 169: 'applaudir', 170: 'applaudisCOMMA', 171: 'application', 172: 'apporte', 173: 'apportele', 174: 'apporterons', 175: 'apportez', 176: 'apportezle', 177: 'apprends', 178: 'approche', 179: 'approchez', 180: 'approuvent', 181: 'approuvé', 182: 'apprécia', 183: 'apprécie', 184: 'apprécions', 185: 'apprécié', 186: 'apprêtées', 187: 'apprêtés', 188: 'appuie', 189: 'appuyez', 190: 'après', 191: 'arabes', 192: 'archaïque', 193: 'arme', 194: 'armes', 195: 'armetoi', 196: 'armezvous', 197: 'armé', 198: 'armée', 199: 'armées', 200: 'armés', 201: 'arnaque', 202: 'arnaqué', 203: 'arnaquée', 204: 'arrive', 205: 'arriver', 206: 'arrivera', 207: 'arriverons', 208: 'arrives', 209: 'arrivestu', 210: 'arrivezvous', 211: 'arrivé', 212: 'arrière', 213: 'arrogance', 214: 'arrête', 215: 'arrêteCOMMA', 216: 'arrêter', 217: 'arrêtetoi', 218: 'arrêtez', 219: 'arrêtezCOMMA', 220: 'arrêtezles', 221: 'arrêtezvous', 222: 'arrêtons', 223: 'arrêté', 224: 'artiste', 225: 'as', 226: 'asseoir', 227: 'asseyezvous', 228: 'asseyezvousCOMMA', 229: 'assez', 230: 'assiedstoi', 231: 'assiette', 232: 'assis', 233: 'assise', 234: 'assises', 235: 'assisterai', 236: 'assisterons', 237: 'assoupi', 238: 'assoupie', 239: 'assure', 240: 'assuré', 241: 'assurée', 242: 'assuétude', 243: 'asthmatique', 244: 'astu', 245: 'astucieux', 246: 'atil', 247: 'attaque', 248: 'attaquerons', 249: 'attaquez', 250: 'atteint', 251: 'atteinte', 252: 'attendez', 253: 'attendeznous', 254: 'attendons', 255: 'attendra', 256: 'attendre', 257: 'attendrons', 258: 'attends', 259: 'attendsmoi', 260: 'attendsnous', 261: 'attendu', 262: 'attendîmes', 263: 'attentif', 264: 'attention', 265: 'attentive', 266: 'attentivement', 267: 'attirante', 268: 'attrape', 269: 'attrapele', 270: 'attrapez', 271: 'attrapezle', 272: 'attrapé', 273: 'attrapée', 274: 'attristé', 275: 'au', 276: 'aucun', 277: 'aucune', 278: 'audessus', 279: 'augmentele', 280: 'augmentezle', 281: 'aujourdhui', 282: 'aura', 283: 'aussi', 284: 'autiste', 285: 'autour', 286: 'autre', 287: 'aux', 288: 'avais', 289: 'avaisje', 290: 'avait', 291: 'avaitil', 292: 'avance', 293: 'avancez', 294: 'avant', 295: 'avec', 296: 'avertis', 297: 'aveugle', 298: 'avez', 299: 'avezvous', 300: 'avion', 301: 'avions', 302: 'avis', 303: 'avisemoi', 304: 'avocat', 305: 'avocate', 306: 'avoir', 307: 'avons', 308: 'avonsnous', 309: 'aère', 310: 'aérez', 311: 'aîné', 312: 'bague', 313: 'bagues', 314: 'bailla', 315: 'bailler', 316: 'bain', 317: 'baissai', 318: 'baisse', 319: 'baissetoi', 320: 'baissezvous', 321: 'baissé', 322: 'balai', 323: 'bananes', 324: 'bande', 325: 'bandez', 326: 'barbant', 327: 'barbare', 328: 'barbarie', 329: 'barbier', 330: 'barretoi', 331: 'barrezvous', 332: 'bateau', 333: 'bats', 334: 'battez', 335: 'battrai', 336: 'battre', 337: 'battu', 338: 'battues', 339: 'battus', 340: 'bayer', 341: 'beau', 342: 'beaucoup', 343: 'beaux', 344: 'beignet', 345: 'belle', 346: 'besoin', 347: 'besoins', 348: 'biaisé', 349: 'bibi', 350: 'bidon', 351: 'bien', 352: 'bientôt', 353: 'bienvenu', 354: 'bienvenue', 355: 'bigot', 356: 'bilingue', 357: 'binoclard', 358: 'biscuit', 359: 'biser', 360: 'bizarre', 361: 'bizarres', 362: 'bière', 363: 'bièreCOMMA', 364: 'blaguais', 365: 'blague', 366: 'blagues', 367: 'blanc', 368: 'blesse', 369: 'blessé', 370: 'blessée', 371: 'blessées', 372: 'blessés', 373: 'bleu', 374: 'blindé', 375: 'blême', 376: 'boire', 377: 'bois', 378: 'boisle', 379: 'boisson', 380: 'boistu', 381: 'boit', 382: 'boite', 383: 'bol', 384: 'bombe', 385: 'bon', 386: 'bonjour', 387: 'bonne', 388: 'bonnes', 389: 'bons', 390: 'bonsoir', 391: 'bord', 392: 'bordel', 393: 'boston', 394: 'bouchon', 395: 'bouchée', 396: 'bouclezla', 397: 'bouder', 398: 'bouffée', 399: 'bouge', 400: 'bougea', 401: 'bougeonsnous', 402: 'bouger', 403: 'bougez', 404: 'bougé', 405: 'boulanger', 406: 'boulangère', 407: 'boulet', 408: 'boulot', 409: 'bourré', 410: 'bourrée', 411: 'bouts', 412: 'bowling', 413: 'boîte', 414: 'branche', 415: 'bras', 416: 'brave', 417: 'bravo', 418: 'bref', 419: 'brefs', 420: 'bretelles', 421: 'briser', 422: 'brisé', 423: 'britannique', 424: 'bronché', 425: 'brouillard', 426: 'bruyant', 427: 'brève', 428: 'brèves', 429: 'brûle', 430: 'brûlela', 431: 'brûlele', 432: 'brûler', 433: 'brûlezla', 434: 'brûlezle', 435: 'brûlé', 436: 'brûlée', 437: 'brûlées', 438: 'brûlés', 439: 'bu', 440: 'bus', 441: 'but', 442: 'buvais', 443: 'buvant', 444: 'buvez', 445: 'buvezle', 446: 'buvezvous', 447: 'buvons', 448: 'bâti', 449: 'bâtie', 450: 'bégaie', 451: 'béni', 452: 'bénie', 453: 'bénisse', 454: 'bête', 455: 'bœuf', 456: 'bœufCOMMA', 457: 'cache', 458: 'cacher', 459: 'cachetoi', 460: 'cachezvous', 461: 'cachons', 462: 'cadeau', 463: 'cafard', 464: 'café', 465: 'calculé', 466: 'calme', 467: 'calmes', 468: 'calmetoi', 469: 'calmezvous', 470: 'calmos', 471: 'cambriolé', 472: 'cambriolée', 473: 'camouflezle', 474: 'camp', 475: 'caméra', 476: 'canadien', 477: 'canadienne', 478: 'cancer', 479: 'canular', 480: 'capable', 481: 'capitulé', 482: 'captes', 483: 'captez', 484: 'capturezle', 485: 'capté', 486: 'carabine', 487: 'carte', 488: 'cas', 489: 'casse', 490: 'cassent', 491: 'casser', 492: 'cassetoi', 493: 'cassettes', 494: 'cassezvous', 495: 'cassé', 496: 'cassée', 497: 'cassées', 498: 'cassés', 499: 'causé', 500: 'caviar', 501: 'cd', 502: 'ce', 503: 'ceci', 504: 'cela', 505: 'cellesci', 506: 'celleslà', 507: 'celuici', 508: 'cercle', 509: 'cerf', 510: 'certain', 511: 'certaine', 512: 'cesse', 513: 'cesser', 514: 'cessez', 515: 'cessé', 516: 'cest', 517: 'ceuxci', 518: 'ceuxlà', 519: 'chair', 520: 'chaleureux', 521: 'chambre', 522: 'chameaux', 523: 'chance', 524: 'chanceuse', 525: 'chanceux', 526: 'changer', 527: 'changerai', 528: 'changetoi', 529: 'changezvous', 530: 'changé', 531: 'chanson', 532: 'chansons', 533: 'chanta', 534: 'chantait', 535: 'chante', 536: 'chanteCOMMA', 537: 'chantent', 538: 'chanter', 539: 'chanterai', 540: 'chanteur', 541: 'chanteuse', 542: 'chantez', 543: 'chantezCOMMA', 544: 'chanté', 545: 'chançarde', 546: 'chapeau', 547: 'char', 548: 'charlatan', 549: 'charmant', 550: 'charme', 551: 'charrie', 552: 'charriez', 553: 'chat', 554: 'chatouilleuse', 555: 'chatouilleux', 556: 'chats', 557: 'chatte', 558: 'chaud', 559: 'chaudCOMMA', 560: 'chaude', 561: 'chauffeur', 562: 'chaussettes', 563: 'chaussures', 564: 'chauve', 565: 'chauves', 566: 'chauvesouris', 567: 'chef', 568: 'chemin', 569: 'cherchele', 570: 'chercher', 571: 'cheval', 572: 'chevaux', 573: 'cheveux', 574: 'chez', 575: 'chic', 576: 'chien', 577: 'chienne', 578: 'chiens', 579: 'chier', 580: 'chiqué', 581: 'chirurgien', 582: 'choc', 583: 'chocottes', 584: 'choisis', 585: 'choisisen', 586: 'choisismoi', 587: 'choisissait', 588: 'choisissez', 589: 'choisissezen', 590: 'choisissezmoi', 591: 'choqué', 592: 'choquée', 593: 'chose', 594: 'choses', 595: 'chouette', 596: 'chrome', 597: 'ciao', 598: 'cidessous', 599: 'cidessus', 600: 'cinglé', 601: 'cinglée', 602: 'cinq', 603: 'cinéma', 604: 'clair', 605: 'claire', 606: 'claque', 607: 'clef', 608: 'cligne', 609: 'cligné', 610: 'cloué', 611: 'clouée', 612: 'clé', 613: 'clément', 614: 'clémente', 615: 'clémentes', 616: 'cléments', 617: 'cochons', 618: 'coin', 619: 'coincée', 620: 'coincées', 621: 'coincés', 622: 'collant', 623: 'colle', 624: 'collecte', 625: 'collé', 626: 'colère', 627: 'combattrons', 628: 'combien', 629: 'commandement', 630: 'commandes', 631: 'comme', 632: 'commence', 633: 'commencer', 634: 'commencerai', 635: 'commencerons', 636: 'commences', 637: 'commencez', 638: 'commencé', 639: 'comment', 640: 'commentaire', 641: 'commençons', 642: 'compatis', 643: 'complexe', 644: 'compliqué', 645: 'comporte', 646: 'comportetoi', 647: 'comportezvous', 648: 'comprends', 649: 'compris', 650: 'compte', 651: 'compter', 652: 'concentrer', 653: 'concentré', 654: 'concentrée', 655: 'concentrées', 656: 'concentrés', 657: 'conclu', 658: 'condamnés', 659: 'conditionnelle', 660: 'conduirai', 661: 'conduire', 662: 'conduirons', 663: 'conduis', 664: 'conduisez', 665: 'conduisis', 666: 'conduistoi', 667: 'conduit', 668: 'confectionné', 669: 'confessé', 670: 'confiance', 671: 'confiant', 672: 'confiante', 673: 'confiantes', 674: 'confiants', 675: 'confus', 676: 'confuse', 677: 'conjure', 678: 'connais', 679: 'connaissance', 680: 'connaissent', 681: 'connaissons', 682: 'connaît', 683: 'conneries', 684: 'connu', 685: 'connue', 686: 'consciencieuse', 687: 'consciencieux', 688: 'conseille', 689: 'conseils', 690: 'console', 691: 'consolez', 692: 'construit', 693: 'construite', 694: 'contemen', 695: 'content', 696: 'contente', 697: 'contentes', 698: 'contents', 699: 'continuation', 700: 'continue', 701: 'continuer', 702: 'continuerai', 703: 'continuez', 704: 'contrarié', 705: 'contrariée', 706: 'contrat', 707: 'contravention', 708: 'contredanse', 709: 'contrefaçon', 710: 'contribué', 711: 'contrôle', 712: 'contrôler', 713: 'convaincu', 714: 'convaincue', 715: 'conçu', 716: 'conçue', 717: 'cool', 718: 'coolCOMMA', 719: 'copie', 720: 'copine', 721: 'corde', 722: 'coriace', 723: 'corneilles', 724: 'corps', 725: 'correct', 726: 'corrigez', 727: 'cou', 728: 'couard', 729: 'coucher', 730: 'couillon', 731: 'coule', 732: 'coup', 733: 'coupable', 734: 'coupai', 735: 'couper', 736: 'coups', 737: 'coupé', 738: 'coupée', 739: 'courage', 740: 'courageuse', 741: 'courageux', 742: 'courait', 743: 'courant', 744: 'courent', 745: 'coureur', 746: 'courez', 747: 'courir', 748: 'courriel', 749: 'cours', 750: 'courses', 751: 'court', 752: 'courtise', 753: 'couru', 754: 'courus', 755: 'cous', 756: 'couvert', 757: 'couvremoi', 758: 'couvrezle', 759: 'couvrezvous', 760: 'craignez', 761: 'crains', 762: 'crainte', 763: 'cran', 764: 'craques', 765: 'creuse', 766: 'creuser', 767: 'creusez', 768: 'creusé', 769: 'crevé', 770: 'crevée', 771: 'crevées', 772: 'crevés', 773: 'cria', 774: 'crie', 775: 'crierai', 776: 'criminalité', 777: 'criss', 778: 'crié', 779: 'crocs', 780: 'crois', 781: 'croissent', 782: 'croisés', 783: 'croque', 784: 'croquez', 785: 'croyable', 786: 'cruel', 787: 'cruelle', 788: 'cruelles', 789: 'cruels', 790: 'crème', 791: 'crève', 792: 'créatif', 793: 'créatifs', 794: 'créative', 795: 'créatives', 796: 'crédule', 797: 'cuillère', 798: 'cuire', 799: 'cuis', 800: 'cuisez', 801: 'cuisine', 802: 'cuisiner', 803: 'cuisinerai', 804: 'cuisinez', 805: 'cuisinier', 806: 'cuisiné', 807: 'cuit', 808: 'cul', 809: 'culot', 810: 'culsec', 811: 'cultivé', 812: 'cultivée', 813: 'cupide', 814: 'curieuse', 815: 'curieux', 816: 'câlin', 817: 'céda', 818: 'céder', 819: 'céderai', 820: 'cédé', 821: 'célibataire', 822: 'célèbre', 823: 'célébrons', 824: 'cétait', 825: 'côté', 826: 'cœur', 827: 'c’est', 828: 'dabord', 829: 'daccord', 830: 'daccordCOMMA', 831: 'daide', 832: 'dair', 833: 'dalle', 834: 'daller', 835: 'dames', 836: 'danger', 837: 'dans', 838: 'danse', 839: 'danser', 840: 'danserons', 841: 'danseur', 842: 'danseuse', 843: 'dansez', 844: 'dansons', 845: 'dapplaudir', 846: 'dargent', 847: 'darriver', 848: 'darrêter', 849: 'date', 850: 'daube', 851: 'davance', 852: 'davancer', 853: 'davantage', 854: 'de', 855: 'deau', 856: 'debout', 857: 'dedans', 858: 'dehors', 859: 'delles', 860: 'demande', 861: 'demandeleur', 862: 'demandelui', 863: 'demander', 864: 'demanderai', 865: 'demandez', 866: 'demandezleur', 867: 'demandons', 868: 'demandé', 869: 'demeure', 870: 'demeurez', 871: 'demie', 872: 'demitour', 873: 'dentaires', 874: 'dentiste', 875: 'dentrer', 876: 'dernier', 877: 'dernière', 878: 'derrière', 879: 'des', 880: 'descendez', 881: 'descendit', 882: 'descends', 883: 'despace', 884: 'dessayer', 885: 'dessiner', 886: 'dessiné', 887: 'dessous', 888: 'dessus', 889: 'deux', 890: 'devais', 891: 'devant', 892: 'devenais', 893: 'devenait', 894: 'devenu', 895: 'devenue', 896: 'devez', 897: 'deviens', 898: 'devine', 899: 'deviner', 900: 'devinez', 901: 'devins', 902: 'devint', 903: 'deviné', 904: 'devoir', 905: 'devons', 906: 'devrais', 907: 'devraisje', 908: 'devriez', 909: 'devrions', 910: 'devrionsnous', 911: 'diable', 912: 'diabétique', 913: 'dici', 914: 'dicit', 915: 'didentité', 916: 'didiot', 917: 'dieu', 918: 'difficile', 919: 'différente', 920: 'dimbécile', 921: 'dimmondices', 922: 'dingue', 923: 'dingues', 924: 'dirai', 925: 'dire', 926: 'direct', 927: 'directe', 928: 'directs', 929: 'dirent', 930: 'dirigetoi', 931: 'dirigezvous', 932: 'dis', 933: 'discret', 934: 'discrets', 935: 'discrète', 936: 'discrètes', 937: 'discussion', 938: 'discute', 939: 'discuter', 940: 'discutez', 941: 'discutions', 942: 'discutons', 943: 'discutâmes', 944: 'discuté', 945: 'disjoncté', 946: 'disle', 947: 'dismen', 948: 'dismoi', 949: 'disnous', 950: 'disparais', 951: 'disparu', 952: 'disponible', 953: 'dispose', 954: 'disposer', 955: 'disputer', 956: 'distance', 957: 'distrait', 958: 'distraite', 959: 'dit', 960: 'dites', 961: 'ditesmoi', 962: 'ditesnous', 963: 'divisonsnous', 964: 'divorcé', 965: 'divorcée', 966: 'dixhuit', 967: 'dixsept', 968: 'diète', 969: 'dj', 970: 'dodo', 971: 'dois', 972: 'doisje', 973: 'doit', 974: 'doitil', 975: 'dollars', 976: 'domicile', 977: 'dommage', 978: 'donc', 979: 'donna', 980: 'donne', 981: 'donnelamoi', 982: 'donnelemoi', 983: 'donnelui', 984: 'donnemen', 985: 'donnemoi', 986: 'donner', 987: 'donnezlamoi', 988: 'donnezlemoi', 989: 'donnezlui', 990: 'donnezmoi', 991: 'donné', 992: 'dormentils', 993: 'dormez', 994: 'dormi', 995: 'dormir', 996: 'dors', 997: 'doté', 998: 'doucement', 999: 'douleur', 1000: 'douloureux', 1001: 'doute', 1002: 'doutes', 1003: 'douté', 1004: 'doux', 1005: 'dressa', 1006: 'dressai', 1007: 'dressé', 1008: 'drogué', 1009: 'droguée', 1010: 'droit', 1011: 'droite', 1012: 'droits', 1013: 'drôle', 1014: 'du', 1015: 'dun', 1016: 'dune', 1017: 'dupa', 1018: 'dur', 1019: 'dure', 1020: 'dures', 1021: 'durs', 1022: 'dy', 1023: 'dyeux', 1024: 'débarras', 1025: 'débattu', 1026: 'débattue', 1027: 'débrouiller', 1028: 'débrouillerons', 1029: 'débrouillé', 1030: 'décalé', 1031: 'décampe', 1032: 'décampez', 1033: 'déchaîné', 1034: 'décide', 1035: 'déciderai', 1036: 'déciderons', 1037: 'décidez', 1038: 'décidé', 1039: 'décollé', 1040: 'décommandé', 1041: 'décommandée', 1042: 'décontracté', 1043: 'décrire', 1044: 'décris', 1045: 'décroché', 1046: 'décédé', 1047: 'décédées', 1048: 'décédés', 1049: 'défaites', 1050: 'défaits', 1051: 'défaut', 1052: 'défense', 1053: 'défoncé', 1054: 'dégage', 1055: 'dégagez', 1056: 'dégagezCOMMA', 1057: 'dégonflé', 1058: 'dégonflée', 1059: 'dégoûté', 1060: 'dégoûtée', 1061: 'déguerpissez', 1062: 'dégueulassé', 1063: 'déjeuner', 1064: 'déjeuné', 1065: 'déjà', 1066: 'délicieux', 1067: 'délires', 1068: 'démangent', 1069: 'démarré', 1070: 'démarrée', 1071: 'démissionna', 1072: 'démissionne', 1073: 'démissionner', 1074: 'démissionnons', 1075: 'démissionné', 1076: 'démontemoi', 1077: 'démontezmoi', 1078: 'déménager', 1079: 'dépasse', 1080: 'déplacetoi', 1081: 'déplacetoiCOMMA', 1082: 'déplacezvous', 1083: 'déplacezvousCOMMA', 1084: 'déplaît', 1085: 'dépressif', 1086: 'dépressive', 1087: 'déprime', 1088: 'déprimé', 1089: 'déprimée', 1090: 'dépêcher', 1091: 'dépêcherai', 1092: 'dépêcherons', 1093: 'dépêchetoi', 1094: 'dépêchezvous', 1095: 'dépêchonsnous', 1096: 'dépêché', 1097: 'dépêchée', 1098: 'déquerre', 1099: 'dérange', 1100: 'dérangez', 1101: 'dérangé', 1102: 'dérape', 1103: 'désaccord', 1104: 'désarmé', 1105: 'désarmée', 1106: 'désespère', 1107: 'désespérez', 1108: 'désespéré', 1109: 'désespérée', 1110: 'désolé', 1111: 'désolée', 1112: 'désolées', 1113: 'désolés', 1114: 'détendait', 1115: 'détendezvous', 1116: 'détendstoi', 1117: 'détendu', 1118: 'détendue', 1119: 'détendues', 1120: 'détendus', 1121: 'détestais', 1122: 'déteste', 1123: 'détestent', 1124: 'détesté', 1125: 'détient', 1126: 'détourne', 1127: 'détritus', 1128: 'détruisezla', 1129: 'détruisezle', 1130: 'détruisla', 1131: 'détruisle', 1132: 'détudier', 1133: 'déverrouillele', 1134: 'déverrouillezle', 1135: 'déverser', 1136: 'dévissele', 1137: 'dévissezle', 1138: 'dévoué', 1139: 'dévouée', 1140: 'dêtre', 1141: 'dîner', 1142: 'dû', 1143: 'd’accord', 1144: 'd’un', 1145: 'effarant', 1146: 'effectué', 1147: 'effet', 1148: 'efficace', 1149: 'effraction', 1150: 'effrayant', 1151: 'effrayé', 1152: 'elle', 1153: 'elles', 1154: 'embrasse', 1155: 'embrassemoi', 1156: 'embrassezmoi', 1157: 'embrassonsnous', 1158: 'embrassé', 1159: 'embrassés', 1160: 'embêtant', 1161: 'emmerdeur', 1162: 'emmerdeuse', 1163: 'emmène', 1164: 'empire', 1165: 'emploi', 1166: 'emploie', 1167: 'emplois', 1168: 'employez', 1169: 'emportele', 1170: 'emporter', 1171: 'emporté', 1172: 'emprunté', 1173: 'empruntée', 1174: 'en', 1175: 'encas', 1176: 'enceinte', 1177: 'encombrant', 1178: 'encore', 1179: 'encourage', 1180: 'encouragez', 1181: 'endommagé', 1182: 'endormezvous', 1183: 'endormi', 1184: 'endormie', 1185: 'endorstoi', 1186: 'endurant', 1187: 'endurante', 1188: 'enfant', 1189: 'enfants', 1190: 'enfoirée', 1191: 'enfuistoi', 1192: 'enfuit', 1193: 'enfuyezvous', 1194: 'engagé', 1195: 'engagée', 1196: 'engourdi', 1197: 'enlacée', 1198: 'enlacées', 1199: 'enlacés', 1200: 'ennuyez', 1201: 'ennuyezvous', 1202: 'ennuyons', 1203: 'enregistre', 1204: 'enregistrez', 1205: 'enrhumé', 1206: 'enrôlé', 1207: 'enseignante', 1208: 'enseignestu', 1209: 'ensemble', 1210: 'ensuite', 1211: 'entendons', 1212: 'entendre', 1213: 'entends', 1214: 'entendu', 1215: 'enterrela', 1216: 'enterrele', 1217: 'enterrezla', 1218: 'enterrezle', 1219: 'enterré', 1220: 'enterrée', 1221: 'entraîné', 1222: 'entraînée', 1223: 'entre', 1224: 'entreCOMMA', 1225: 'entrer', 1226: 'entretenues', 1227: 'entretenus', 1228: 'entretînmes', 1229: 'entrez', 1230: 'entrezCOMMA', 1231: 'entré', 1232: 'entrée', 1233: 'entrés', 1234: 'envie', 1235: 'environs', 1236: 'envoyez', 1237: 'envoyé', 1238: 'envoyée', 1239: 'erreur', 1240: 'es', 1241: 'espion', 1242: 'espèce', 1243: 'essaie', 1244: 'essaiele', 1245: 'essaiesen', 1246: 'essaye', 1247: 'essayer', 1248: 'essayerons', 1249: 'essayez', 1250: 'essayezen', 1251: 'essayons', 1252: 'essayonsla', 1253: 'essayonsle', 1254: 'essayé', 1255: 'esseulé', 1256: 'esseulée', 1257: 'essuie', 1258: 'est', 1259: 'estce', 1260: 'estelle', 1261: 'estil', 1262: 'estu', 1263: 'et', 1264: 'eu', 1265: 'eue', 1266: 'eues', 1267: 'eus', 1268: 'eut', 1269: 'eux', 1270: 'exact', 1271: 'exagéré', 1272: 'examen', 1273: 'examineles', 1274: 'examinezles', 1275: 'excellent', 1276: 'excentrique', 1277: 'excitant', 1278: 'excité', 1279: 'excitée', 1280: 'exclu', 1281: 'excursion', 1282: 'excursions', 1283: 'excusemoi', 1284: 'excuses', 1285: 'excusezmoi', 1286: 'existent', 1287: 'expert', 1288: 'expirait', 1289: 'expire', 1290: 'expirez', 1291: 'expiré', 1292: 'expliquer', 1293: 'exprimé', 1294: 'extra', 1295: 'face', 1296: 'facile', 1297: 'facilement', 1298: 'faible', 1299: 'faibles', 1300: 'failli', 1301: 'faim', 1302: 'fainéant', 1303: 'fainéante', 1304: 'fainéantes', 1305: 'faire', 1306: 'fais', 1307: 'faisait', 1308: 'faisaitil', 1309: 'faisle', 1310: 'faisleCOMMA', 1311: 'faismoi', 1312: 'faisons', 1313: 'faisonsle', 1314: 'faistoi', 1315: 'fait', 1316: 'faitce', 1317: 'faites', 1318: 'faitesle', 1319: 'faitesleCOMMA', 1320: 'faitesmoi', 1321: 'faitesvous', 1322: 'faitil', 1323: 'faits', 1324: 'fallait', 1325: 'fallu', 1326: 'fallut', 1327: 'fanatique', 1328: 'fantastique', 1329: 'fantômes', 1330: 'fatal', 1331: 'fatigue', 1332: 'fatigué', 1333: 'fatiguée', 1334: 'fatiguées', 1335: 'fatigués', 1336: 'fauché', 1337: 'fauchées', 1338: 'fauchés', 1339: 'faudra', 1340: 'faut', 1341: 'faute', 1342: 'faux', 1343: 'faveur', 1344: 'façons', 1345: 'femme', 1346: 'femmes', 1347: 'fer', 1348: 'fera', 1349: 'ferai', 1350: 'ferais', 1351: 'feraisje', 1352: 'ferme', 1353: 'fermela', 1354: 'fermez', 1355: 'fermier', 1356: 'fermé', 1357: 'fermés', 1358: 'ferons', 1359: 'fesses', 1360: 'feu', 1361: 'fiable', 1362: 'fiancé', 1363: 'fiancée', 1364: 'fiche', 1365: 'fichez', 1366: 'fidèle', 1367: 'fie', 1368: 'fiez', 1369: 'figé', 1370: 'figée', 1371: 'fil', 1372: 'file', 1373: 'filele', 1374: 'filez', 1375: 'fille', 1376: 'filles', 1377: 'filme', 1378: 'filmer', 1379: 'filmez', 1380: 'films', 1381: 'fils', 1382: 'filé', 1383: 'fin', 1384: 'fini', 1385: 'finie', 1386: 'finir', 1387: 'finis', 1388: 'finissez', 1389: 'firefox', 1390: 'fis', 1391: 'fit', 1392: 'fixe', 1393: 'fixer', 1394: 'fixez', 1395: 'fiça', 1396: 'fièvre', 1397: 'flaire', 1398: 'flan', 1399: 'flasque', 1400: 'flatté', 1401: 'flemmard', 1402: 'fleurs', 1403: 'flic', 1404: 'flics', 1405: 'flingue', 1406: 'flippé', 1407: 'floué', 1408: 'flouée', 1409: 'foies', 1410: 'foiré', 1411: 'fois', 1412: 'foisCOMMA', 1413: 'folle', 1414: 'fonctionne', 1415: 'fonctionnera', 1416: 'fonctionné', 1417: 'fonds', 1418: 'font', 1419: 'football', 1420: 'forces', 1421: 'forme', 1422: 'formidable', 1423: 'formuler', 1424: 'fort', 1425: 'forte', 1426: 'fortes', 1427: 'forts', 1428: 'fortuné', 1429: 'fortunée', 1430: 'fou', 1431: 'foules', 1432: 'fourbu', 1433: 'fous', 1434: 'fout', 1435: 'foutez', 1436: 'foutre', 1437: 'foutu', 1438: 'foutus', 1439: 'fracassé', 1440: 'français', 1441: 'frappa', 1442: 'frappé', 1443: 'frappée', 1444: 'fredonne', 1445: 'fredonner', 1446: 'freiné', 1447: 'fringale', 1448: 'froid', 1449: 'froides', 1450: 'froids', 1451: 'fromage', 1452: 'froncé', 1453: 'frousse', 1454: 'fruit', 1455: 'fruits', 1456: 'fui', 1457: 'fuis', 1458: 'fuit', 1459: 'fuite', 1460: 'fume', 1461: 'fumer', 1462: 'fumes', 1463: 'fumestu', 1464: 'fumez', 1465: 'fumezvous', 1466: 'fumée', 1467: 'furieux', 1468: 'fus', 1469: 'fusil', 1470: 'fut', 1471: 'futile', 1472: 'futon', 1473: 'fuyez', 1474: 'fuyons', 1475: 'fâché', 1476: 'fâchée', 1477: 'fête', 1478: 'fûmes', 1479: 'gaffe', 1480: 'gagnant', 1481: 'gagnante', 1482: 'gagne', 1483: 'gagner', 1484: 'gagnerons', 1485: 'gagnâmes', 1486: 'gagnèrent', 1487: 'gagné', 1488: 'galant', 1489: 'galère', 1490: 'gamin', 1491: 'gamine', 1492: 'gamins', 1493: 'garde', 1494: 'gardele', 1495: 'gardeles', 1496: 'gardes', 1497: 'gardez', 1498: 'gardezle', 1499: 'gardezles', 1500: 'gargarisé', 1501: 'garçon', 1502: 'garçons', 1503: 'gaspillage', 1504: 'gauche', 1505: 'gaules', 1506: 'gavé', 1507: 'gavée', 1508: 'gaz', 1509: 'geindre', 1510: 'gelé', 1511: 'genre', 1512: 'gens', 1513: 'gentil', 1514: 'gentille', 1515: 'gentilles', 1516: 'gentils', 1517: 'geste', 1518: 'givré', 1519: 'givrée', 1520: 'givrées', 1521: 'givrés', 1522: 'glace', 1523: 'glacée', 1524: 'glisse', 1525: 'glisser', 1526: 'gloussa', 1527: 'gloussé', 1528: 'gnangnan', 1529: 'goberais', 1530: 'golf', 1531: 'gosse', 1532: 'gourmand', 1533: 'gourmande', 1534: 'goûte', 1535: 'goûtela', 1536: 'goûtele', 1537: 'goûtez', 1538: 'goûtezla', 1539: 'goûtezle', 1540: 'grand', 1541: 'grande', 1542: 'grandes', 1543: 'grandiront', 1544: 'grands', 1545: 'gras', 1546: 'grassouillet', 1547: 'grassouillette', 1548: 'gratuit', 1549: 'gratuitement', 1550: 'grave', 1551: 'grimace', 1552: 'grimacé', 1553: 'grimaça', 1554: 'grogna', 1555: 'grognait', 1556: 'grogné', 1557: 'gros', 1558: 'grosse', 1559: 'grossier', 1560: 'grossiers', 1561: 'grossis', 1562: 'grossière', 1563: 'grossières', 1564: 'grossièreté', 1565: 'grouille', 1566: 'grouiller', 1567: 'grouilletoi', 1568: 'grève', 1569: 'guerre', 1570: 'guerreCOMMA', 1571: 'gueule', 1572: 'guéri', 1573: 'guérie', 1574: 'guérira', 1575: 'gâchis', 1576: 'gâteau', 1577: 'gâteaux', 1578: 'gémeaux', 1579: 'gémi', 1580: 'gémissait', 1581: 'génial', 1582: 'génie', 1583: 'généreuse', 1584: 'généreux', 1585: 'gérerons', 1586: 'géré', 1587: 'gênez', 1588: 'h', 1589: 'habilletoi', 1590: 'habillezvous', 1591: 'hache', 1592: 'hais', 1593: 'haleté', 1594: 'halte', 1595: 'hanche', 1596: 'haricots', 1597: 'hasarde', 1598: 'haussa', 1599: 'haussé', 1600: 'haut', 1601: 'haï', 1602: 'hein', 1603: 'helvète', 1604: 'heure', 1605: 'heures', 1606: 'heureuse', 1607: 'heureuses', 1608: 'heureux', 1609: 'heurté', 1610: 'hideux', 1611: 'hocha', 1612: 'hockey', 1613: 'homme', 1614: 'hommes', 1615: 'honnête', 1616: 'honnêtes', 1617: 'honte', 1618: 'horreur', 1619: 'horrible', 1620: 'hors', 1621: 'huit', 1622: 'humain', 1623: 'humble', 1624: 'humeur', 1625: 'hurla', 1626: 'hurlait', 1627: 'hurler', 1628: 'hurlé', 1629: 'hypothèse', 1630: 'hâte', 1631: 'hâter', 1632: 'héCOMMA', 1633: 'héros', 1634: 'héroïque', 1635: 'hésité', 1636: 'ici', 1637: 'iciCOMMA', 1638: 'identifiez', 1639: 'idiot', 1640: 'idiote', 1641: 'idiotes', 1642: 'idiots', 1643: 'idée', 1644: 'ignore', 1645: 'ignorele', 1646: 'ignoreles', 1647: 'ignorez', 1648: 'ignorezle', 1649: 'ignorezles', 1650: 'ignoré', 1651: 'ignorée', 1652: 'il', 1653: 'illuminé', 1654: 'ils', 1655: 'imbécile', 1656: 'imitation', 1657: 'immense', 1658: 'immobile', 1659: 'immobiles', 1660: 'immunisé', 1661: 'immunisée', 1662: 'immédiatement', 1663: 'impartial', 1664: 'impartiale', 1665: 'impatient', 1666: 'impatiente', 1667: 'impeccable', 1668: 'impertinent', 1669: 'impitoyable', 1670: 'impitoyables', 1671: 'impliqué', 1672: 'impliquée', 1673: 'impoli', 1674: 'impolie', 1675: 'important', 1676: 'importants', 1677: 'importe', 1678: 'importetil', 1679: 'impossible', 1680: 'impressionnée', 1681: 'improvisé', 1682: 'impulsif', 1683: 'impulsive', 1684: 'impôts', 1685: 'incapable', 1686: 'inclus', 1687: 'incluse', 1688: 'inconcevable', 1689: 'incroyable', 1690: 'indigné', 1691: 'indignée', 1692: 'indésirable', 1693: 'informe', 1694: 'informez', 1695: 'informezen', 1696: 'ingéniosité', 1697: 'ingénu', 1698: 'ingénue', 1699: 'inimaginable', 1700: 'initié', 1701: 'initiée', 1702: 'injuste', 1703: 'innocent', 1704: 'innocente', 1705: 'inoffensif', 1706: 'inquiète', 1707: 'inquiétez', 1708: 'inscristoi', 1709: 'inscrivezvous', 1710: 'insensible', 1711: 'insister', 1712: 'insisté', 1713: 'insolence', 1714: 'inspira', 1715: 'inspire', 1716: 'inspirez', 1717: 'inspiré', 1718: 'instant', 1719: 'intelligent', 1720: 'intelligentes', 1721: 'intelligents', 1722: 'interrogez', 1723: 'interrompre', 1724: 'intrigué', 1725: 'intriguée', 1726: 'intrépide', 1727: 'inutile', 1728: 'inventé', 1729: 'invité', 1730: 'invitée', 1731: 'ira', 1732: 'irastu', 1733: 'iratil', 1734: 'irezvous', 1735: 'ironique', 1736: 'irons', 1737: 'irruption', 1738: 'ivre', 1739: 'jabandonne', 1740: 'jabandonnerai', 1741: 'jaccepterais', 1742: 'jacclamais', 1743: 'jachète', 1744: 'jachèterai', 1745: 'jadmirais', 1746: 'jadmire', 1747: 'jadorais', 1748: 'jadore', 1749: 'jai', 1750: 'jaiderai', 1751: 'jaimais', 1752: 'jaime', 1753: 'jaimerais', 1754: 'jajoutais', 1755: 'jallais', 1756: 'jalouse', 1757: 'jamais', 1758: 'jambe', 1759: 'jambes', 1760: 'jambon', 1761: 'jannulerai', 1762: 'japonais', 1763: 'jappellerai', 1764: 'japprendrai', 1765: 'japprécie', 1766: 'jarrive', 1767: 'jarriverai', 1768: 'jarrête', 1769: 'jarrêterai', 1770: 'jattendrai', 1771: 'jattends', 1772: 'jaune', 1773: 'javais', 1774: 'jazz', 1775: 'je', 1776: 'jemmène', 1777: 'jen', 1778: 'jenseigne', 1779: 'jentends', 1780: 'jentrerai', 1781: 'jenvie', 1782: 'jespère', 1783: 'jessaie', 1784: 'jessaierai', 1785: 'jessayai', 1786: 'jessaye', 1787: 'jessayerai', 1788: 'jetez', 1789: 'jette', 1790: 'jeune', 1791: 'jeunes', 1792: 'jeus', 1793: 'jeux', 1794: 'jexpliquerai', 1795: 'jhabite', 1796: 'jhonore', 1797: 'jimagine', 1798: 'jinterdis', 1799: 'jirai', 1800: 'jobtiendrai', 1801: 'jobéirai', 1802: 'jogging', 1803: 'joignezvous', 1804: 'joindrai', 1805: 'joindre', 1806: 'joli', 1807: 'joue', 1808: 'jouela', 1809: 'jouer', 1810: 'joues', 1811: 'jouestu', 1812: 'jouets', 1813: 'jouez', 1814: 'jouezvous', 1815: 'jouis', 1816: 'journal', 1817: 'journée', 1818: 'joué', 1819: 'joyeux', 1820: 'jubile', 1821: 'jubilez', 1822: 'jubilé', 1823: 'jumeau', 1824: 'jumeaux', 1825: 'jumelle', 1826: 'jumelles', 1827: 'jure', 1828: 'juré', 1829: 'jusquici', 1830: 'juste', 1831: 'justes', 1832: 'justice', 1833: 'jutilise', 1834: 'jy', 1835: 'jécoute', 1836: 'jécris', 1837: 'jélève', 1838: 'jéprouve', 1839: 'jésuite', 1840: 'jésus', 1841: 'jétais', 1842: 'j’ai', 1843: 'j’aide', 1844: 'j’aime', 1845: 'j’en', 1846: 'j’y', 1847: 'j’étais', 1848: 'klaxonne', 1849: 'klaxonnez', 1850: 'la', 1851: 'labri', 1852: 'lachète', 1853: 'lachèterai', 1854: 'lachèterais', 1855: 'laddition', 1856: 'ladditionCOMMA', 1857: 'laffaire', 1858: 'lai', 1859: 'laid', 1860: 'laide', 1861: 'laids', 1862: 'laije', 1863: 'lail', 1864: 'laimait', 1865: 'laime', 1866: 'laimons', 1867: 'lair', 1868: 'laise', 1869: 'laissa', 1870: 'laisse', 1871: 'laissele', 1872: 'laissemoi', 1873: 'laissenous', 1874: 'laissetoi', 1875: 'laissez', 1876: 'laissezle', 1877: 'laissezmoi', 1878: 'laisseznous', 1879: 'laissezvous', 1880: 'laissé', 1881: 'laissée', 1882: 'laissées', 1883: 'laissés', 1884: 'lait', 1885: 'lalcool', 1886: 'lamour', 1887: 'lampe', 1888: 'lance', 1889: 'lancer', 1890: 'langue', 1891: 'lapidé', 1892: 'lappartement', 1893: 'lapprécia', 1894: 'lapprécie', 1895: 'lapprécions', 1896: 'largent', 1897: 'largué', 1898: 'larguée', 1899: 'larme', 1900: 'larmes', 1901: 'lart', 1902: 'las', 1903: 'lasses', 1904: 'lastu', 1905: 'lattaque', 1906: 'lattraperai', 1907: 'lautomne', 1908: 'lautre', 1909: 'lavais', 1910: 'lavetoi', 1911: 'lavez', 1912: 'lavezvous', 1913: 'lavons', 1914: 'lavé', 1915: 'lavée', 1916: 'le', 1917: 'leau', 1918: 'lemporte', 1919: 'lemporter', 1920: 'lemporterons', 1921: 'lemportâmes', 1922: 'lencre', 1923: 'lenfer', 1924: 'lenlaça', 1925: 'lent', 1926: 'lentement', 1927: 'lentraîneur', 1928: 'lenvie', 1929: 'lerreur', 1930: 'les', 1931: 'lespace', 1932: 'lespoir', 1933: 'lessayer', 1934: 'lessayerai', 1935: 'lest', 1936: 'lestomac', 1937: 'leurs', 1938: 'leva', 1939: 'lever', 1940: 'levez', 1941: 'levé', 1942: 'levée', 1943: 'levées', 1944: 'levés', 1945: 'lexercice', 1946: 'lextérieur', 1947: 'lheure', 1948: 'lhiver', 1949: 'lhorloge', 1950: 'liberté', 1951: 'libre', 1952: 'libres', 1953: 'libère', 1954: 'libérez', 1955: 'licencié', 1956: 'licite', 1957: 'lieu', 1958: 'lignore', 1959: 'lintérieur', 1960: 'lion', 1961: 'liquide', 1962: 'lirai', 1963: 'lire', 1964: 'lis', 1965: 'lisez', 1966: 'liste', 1967: 'lit', 1968: 'livre', 1969: 'livres', 1970: 'lodeur', 1971: 'logique', 1972: 'loi', 1973: 'loin', 1974: 'loiseau', 1975: 'long', 1976: 'lont', 1977: 'lopéra', 1978: 'lor', 1979: 'loubliez', 1980: 'loucha', 1981: 'louché', 1982: 'louest', 1983: 'loup', 1984: 'loupé', 1985: 'louve', 1986: 'louvre', 1987: 'louvrirai', 1988: 'loyal', 1989: 'loyale', 1990: 'lui', 1991: 'lumière', 1992: 'lunatique', 1993: 'lundi', 1994: 'lurticaire', 1995: 'lutilise', 1996: 'lutté', 1997: 'là', 1998: 'làbas', 1999: 'lâche', 2000: 'lâchemoi', 2001: 'lâchetoi', 2002: 'lâchez', 2003: 'lâchezmoi', 2004: 'lâchezvous', 2005: 'lève', 2006: 'lèverai', 2007: 'lèvetoi', 2008: 'lèvres', 2009: 'lécart', 2010: 'lécole', 2011: 'légal', 2012: 'létage', 2013: 'létreignis', 2014: 'lété', 2015: 'lévidence', 2016: 'l’acquisition', 2017: 'l’admets', 2018: 'l’ai', 2019: 'l’asthme', 2020: 'ma', 2021: 'mabstiens', 2022: 'madapte', 2023: 'magie', 2024: 'magnat', 2025: 'magnetoi', 2026: 'magnezvous', 2027: 'magnifique', 2028: 'maider', 2029: 'maigrichon', 2030: 'maigrichonne', 2031: 'maime', 2032: 'maiment', 2033: 'main', 2034: 'maintenant', 2035: 'maintenantCOMMA', 2036: 'mais', 2037: 'maison', 2038: 'maisonCOMMA', 2039: 'mal', 2040: 'malade', 2041: 'malaise', 2042: 'malandrin', 2043: 'malchanceuse', 2044: 'malchanceux', 2045: 'malheur', 2046: 'malheureuse', 2047: 'malheureux', 2048: 'malin', 2049: 'malpoli', 2050: 'malédiction', 2051: 'maman', 2052: 'mamuse', 2053: 'mamuses', 2054: 'mange', 2055: 'mangeCOMMA', 2056: 'mangele', 2057: 'mangeons', 2058: 'manger', 2059: 'mangerai', 2060: 'mangerons', 2061: 'manges', 2062: 'mangez', 2063: 'mangezCOMMA', 2064: 'mangezle', 2065: 'mangeâmes', 2066: 'mangions', 2067: 'mangé', 2068: 'manière', 2069: 'manières', 2070: 'manquant', 2071: 'manque', 2072: 'manquer', 2073: 'manques', 2074: 'manquez', 2075: 'manqué', 2076: 'manteau', 2077: 'mappelle', 2078: 'marche', 2079: 'marcher', 2080: 'marchera', 2081: 'marcherai', 2082: 'marcherons', 2083: 'marchez', 2084: 'marché', 2085: 'marie', 2086: 'marié', 2087: 'mariée', 2088: 'marqué', 2089: 'marrant', 2090: 'marrante', 2091: 'marrantes', 2092: 'marrants', 2093: 'marré', 2094: 'marrée', 2095: 'marrées', 2096: 'marrés', 2097: 'mary', 2098: 'mas', 2099: 'masque', 2100: 'massis', 2101: 'maths', 2102: 'matin', 2103: 'matinal', 2104: 'matinale', 2105: 'matures', 2106: 'matériel', 2107: 'mauvais', 2108: 'mauvaise', 2109: 'mauvaises', 2110: 'mavez', 2111: 'max', 2112: 'me', 2113: 'mec', 2114: 'mecs', 2115: 'meilleur', 2116: 'meilleure', 2117: 'membre', 2118: 'men', 2119: 'mennuie', 2120: 'mennuyais', 2121: 'mennuyer', 2122: 'menottezle', 2123: 'mens', 2124: 'mensonge', 2125: 'menstu', 2126: 'ment', 2127: 'mental', 2128: 'menteur', 2129: 'menteurs', 2130: 'mentez', 2131: 'mentezvous', 2132: 'menti', 2133: 'mentil', 2134: 'mentir', 2135: 'mentit', 2136: 'mentons', 2137: 'merci', 2138: 'mercis', 2139: 'merdé', 2140: 'merveille', 2141: 'merveilleux', 2142: 'mes', 2143: 'mesquin', 2144: 'mesquine', 2145: 'mest', 2146: 'mesure', 2147: 'met', 2148: 'mets', 2149: 'metsle', 2150: 'metstoi', 2151: 'mettez', 2152: 'mettezle', 2153: 'mettezvous', 2154: 'mettonsnousy', 2155: 'mettrai', 2156: 'mettre', 2157: 'meure', 2158: 'meurs', 2159: 'meurt', 2160: 'mexcuser', 2161: 'miel', 2162: 'mien', 2163: 'mienne', 2164: 'miennes', 2165: 'miens', 2166: 'mieux', 2167: 'mignon', 2168: 'mignonne', 2169: 'mignonnes', 2170: 'mignons', 2171: 'mignora', 2172: 'mille', 2173: 'minable', 2174: 'mince', 2175: 'minces', 2176: 'mineurs', 2177: 'mintrigue', 2178: 'minutieuse', 2179: 'minutieux', 2180: 'mis', 2181: 'mise', 2182: 'miséricordieuse', 2183: 'miséricordieuses', 2184: 'miséricordieux', 2185: 'mit', 2186: 'moches', 2187: 'mode', 2188: 'moi', 2189: 'moiCOMMA', 2190: 'moimême', 2191: 'moindre', 2192: 'moine', 2193: 'moins', 2194: 'moitié', 2195: 'moment', 2196: 'mon', 2197: 'monde', 2198: 'monte', 2199: 'montele', 2200: 'monter', 2201: 'montez', 2202: 'montezle', 2203: 'montre', 2204: 'montremoi', 2205: 'montrerai', 2206: 'montres', 2207: 'montretoi', 2208: 'montrez', 2209: 'montrezmoi', 2210: 'montrezvous', 2211: 'monté', 2212: 'montée', 2213: 'moque', 2214: 'moqué', 2215: 'moral', 2216: 'mordre', 2217: 'mords', 2218: 'mordu', 2219: 'mort', 2220: 'morte', 2221: 'mortes', 2222: 'morts', 2223: 'mot', 2224: 'motivé', 2225: 'motivée', 2226: 'mots', 2227: 'mouches', 2228: 'mouillé', 2229: 'mouillée', 2230: 'mourant', 2231: 'mourez', 2232: 'mourions', 2233: 'mourir', 2234: 'mourons', 2235: 'mourras', 2236: 'mourratil', 2237: 'mourrons', 2238: 'mouvement', 2239: 'moyen', 2240: 'musique', 2241: 'musulman', 2242: 'musulmane', 2243: 'muté', 2244: 'my', 2245: 'mèche', 2246: 'méchant', 2247: 'méchante', 2248: 'mécontent', 2249: 'mécontente', 2250: 'médecin', 2251: 'méfiant', 2252: 'méfie', 2253: 'mélange', 2254: 'mémorise', 2255: 'mémorisela', 2256: 'mémorisele', 2257: 'mémorisez', 2258: 'mémorisezla', 2259: 'mémorisezle', 2260: 'ménage', 2261: 'méprise', 2262: 'mérite', 2263: 'mérité', 2264: 'méticuleuse', 2265: 'méticuleux', 2266: 'métier', 2267: 'mévanouir', 2268: 'mévite', 2269: 'même', 2270: 'm’a', 2271: 'm’approuveton', 2272: 'm’entraîne', 2273: 'na', 2274: 'nabandonne', 2275: 'nabandonnez', 2276: 'nage', 2277: 'nageaient', 2278: 'nager', 2279: 'nagerai', 2280: 'nagerons', 2281: 'nagèrent', 2282: 'nagé', 2283: 'nai', 2284: 'naie', 2285: 'nallezvous', 2286: 'narrive', 2287: 'nattendez', 2288: 'nattends', 2289: 'nature', 2290: 'nausée', 2291: 'navais', 2292: 'navancez', 2293: 'navire', 2294: 'navons', 2295: 'nayez', 2296: 'naze', 2297: 'naïf', 2298: 'naïfs', 2299: 'naïve', 2300: 'naïves', 2301: 'ne', 2302: 'neige', 2303: 'neiger', 2304: 'neigé', 2305: 'nen', 2306: 'nentendîmes', 2307: 'nentrez', 2308: 'nerveuse', 2309: 'nerveux', 2310: 'nespère', 2311: 'nest', 2312: 'nestce', 2313: 'nestelle', 2314: 'nestil', 2315: 'net', 2316: 'nettoiele', 2317: 'nettoierai', 2318: 'nettoyez', 2319: 'nettoyezle', 2320: 'neuf', 2321: 'neufs', 2322: 'neutre', 2323: 'neuves', 2324: 'nez', 2325: 'nia', 2326: 'nickel', 2327: 'nie', 2328: 'niez', 2329: 'nimporte', 2330: 'ninsiste', 2331: 'ninsistez', 2332: 'nirai', 2333: 'nié', 2334: 'noir', 2335: 'nombre', 2336: 'non', 2337: 'nord', 2338: 'normal', 2339: 'normale', 2340: 'normales', 2341: 'normaux', 2342: 'nos', 2343: 'noteCOMMA', 2344: 'notes', 2345: 'notre', 2346: 'nourri', 2347: 'nourris', 2348: 'nourrissez', 2349: 'nourriture', 2350: 'nous', 2351: 'nousCOMMA', 2352: 'nouveau', 2353: 'nouveauCOMMA', 2354: 'nouveaux', 2355: 'nouvelle', 2356: 'nouvelles', 2357: 'noya', 2358: 'noyer', 2359: 'noyé', 2360: 'nu', 2361: 'nuageux', 2362: 'nue', 2363: 'nuit', 2364: 'ny', 2365: 'nétais', 2366: 'nétait', 2367: 'nôtre', 2368: 'n’arrive', 2369: 'n’importe', 2370: 'objectif', 2371: 'objectifs', 2372: 'objection', 2373: 'objective', 2374: 'objectives', 2375: 'observateur', 2376: 'observatrice', 2377: 'obstiné', 2378: 'obstinée', 2379: 'obtenu', 2380: 'obèse', 2381: 'obéi', 2382: 'obéir', 2383: 'obéirons', 2384: 'obéissant', 2385: 'obéit', 2386: 'occupé', 2387: 'occupée', 2388: 'occupées', 2389: 'occupés', 2390: 'offensé', 2391: 'offensée', 2392: 'oh', 2393: 'ohCOMMA', 2394: 'oiseaux', 2395: 'ok', 2396: 'okCOMMA', 2397: 'on', 2398: 'ont', 2399: 'oppose', 2400: 'opposé', 2401: 'ordonné', 2402: 'ordonnée', 2403: 'ordres', 2404: 'ordure', 2405: 'ordures', 2406: 'orphelin', 2407: 'osestu', 2408: 'osezvous', 2409: 'ou', 2410: 'ouais', 2411: 'oublia', 2412: 'oublie', 2413: 'oubliele', 2414: 'oubliemoi', 2415: 'oublier', 2416: 'oubliez', 2417: 'oubliezle', 2418: 'oubliezmoi', 2419: 'oublié', 2420: 'oui', 2421: 'oust', 2422: 'ouvert', 2423: 'ouvre', 2424: 'ouvrela', 2425: 'ouvrele', 2426: 'ouvremoi', 2427: 'ouvrezla', 2428: 'ouvrezle', 2429: 'ouïdire', 2430: 'ouïe', 2431: 'ovni', 2432: 'où', 2433: 'pagaille', 2434: 'paie', 2435: 'paiera', 2436: 'paierai', 2437: 'pain', 2438: 'palpitant', 2439: 'panique', 2440: 'paniquez', 2441: 'paniqué', 2442: 'papa', 2443: 'papier', 2444: 'par', 2445: 'parages', 2446: 'paralysé', 2447: 'pardi', 2448: 'pardon', 2449: 'pardonne', 2450: 'pardonnemoi', 2451: 'pardonnenous', 2452: 'pardonnez', 2453: 'pardonnezmoi', 2454: 'paresseuse', 2455: 'paresseuses', 2456: 'paresseux', 2457: 'parfait', 2458: 'parfois', 2459: 'pari', 2460: 'parie', 2461: 'parié', 2462: 'parla', 2463: 'parle', 2464: 'parlemoi', 2465: 'parler', 2466: 'parlerai', 2467: 'parlez', 2468: 'parlezmoi', 2469: 'parlé', 2470: 'parodie', 2471: 'parole', 2472: 'pars', 2473: 'parsCOMMA', 2474: 'part', 2475: 'partager', 2476: 'partagera', 2477: 'partagerons', 2478: 'partant', 2479: 'partez', 2480: 'parti', 2481: 'partie', 2482: 'parties', 2483: 'partir', 2484: 'partirai', 2485: 'partirais', 2486: 'partis', 2487: 'partit', 2488: 'partons', 2489: 'parvenir', 2490: 'parvenu', 2491: 'parvenue', 2492: 'parvenus', 2493: 'parviens', 2494: 'pas', 2495: 'passa', 2496: 'passade', 2497: 'passe', 2498: 'passeCOMMA', 2499: 'passelemoi', 2500: 'passer', 2501: 'passerai', 2502: 'passeratil', 2503: 'passes', 2504: 'passez', 2505: 'passons', 2506: 'passé', 2507: 'passée', 2508: 'pastiche', 2509: 'patent', 2510: 'pathétique', 2511: 'patient', 2512: 'patiente', 2513: 'patienter', 2514: 'patin', 2515: 'patine', 2516: 'patiner', 2517: 'patron', 2518: 'patronne', 2519: 'paumé', 2520: 'pause', 2521: 'pauvre', 2522: 'payai', 2523: 'payais', 2524: 'payait', 2525: 'paye', 2526: 'payer', 2527: 'pays', 2528: 'payé', 2529: 'peau', 2530: 'peinture', 2531: 'pense', 2532: 'pensesy', 2533: 'pensezy', 2534: 'pensionné', 2535: 'pensionnée', 2536: 'perdis', 2537: 'perdons', 2538: 'perdrai', 2539: 'perdre', 2540: 'perds', 2541: 'perdu', 2542: 'perdue', 2543: 'perdues', 2544: 'perdus', 2545: 'perdîmes', 2546: 'permettezmoi', 2547: 'permettrai', 2548: 'permission', 2549: 'perplexe', 2550: 'perruque', 2551: 'personne', 2552: 'perte', 2553: 'perturbée', 2554: 'pesé', 2555: 'petit', 2556: 'petite', 2557: 'petits', 2558: 'peu', 2559: 'peur', 2560: 'peut', 2561: 'peutil', 2562: 'peuton', 2563: 'peutêtre', 2564: 'peuvent', 2565: 'peux', 2566: 'peuxtu', 2567: 'phénomène', 2568: 'piano', 2569: 'pied', 2570: 'pieds', 2571: 'piges', 2572: 'pigez', 2573: 'pigezvous', 2574: 'pigé', 2575: 'pile', 2576: 'pinceaux', 2577: 'pincé', 2578: 'pincée', 2579: 'pioche', 2580: 'piochez', 2581: 'pipe', 2582: 'pipeau', 2583: 'piqué', 2584: 'piscine', 2585: 'pitié', 2586: 'pitoyable', 2587: 'pizza', 2588: 'pièce', 2589: 'pièces', 2590: 'piège', 2591: 'piégé', 2592: 'piégée', 2593: 'place', 2594: 'plaie', 2595: 'plais', 2596: 'plaisance', 2597: 'plaisante', 2598: 'plaisanterie', 2599: 'plaisanteries', 2600: 'plaisantons', 2601: 'plaisent', 2602: 'plaisez', 2603: 'plaisir', 2604: 'plait', 2605: 'plaitCOMMA', 2606: 'plaitil', 2607: 'plan', 2608: 'plane', 2609: 'plans', 2610: 'plante', 2611: 'plantes', 2612: 'planté', 2613: 'plantée', 2614: 'plantées', 2615: 'plantés', 2616: 'plané', 2617: 'plaquée', 2618: 'plat', 2619: 'plate', 2620: 'plaît', 2621: 'plaîtCOMMA', 2622: 'plaîtil', 2623: 'plein', 2624: 'pleura', 2625: 'pleurait', 2626: 'pleure', 2627: 'pleurentils', 2628: 'pleurer', 2629: 'pleurerai', 2630: 'pleuré', 2631: 'pleutil', 2632: 'pleuvait', 2633: 'pleuvoir', 2634: 'pliela', 2635: 'pliele', 2636: 'plierai', 2637: 'pliezla', 2638: 'pliezle', 2639: 'plissé', 2640: 'plombier', 2641: 'plombs', 2642: 'plongée', 2643: 'plumer', 2644: 'plus', 2645: 'poche', 2646: 'poids', 2647: 'poignarder', 2648: 'poignardé', 2649: 'poignardée', 2650: 'poil', 2651: 'point', 2652: 'pois', 2653: 'poison', 2654: 'poissard', 2655: 'poisson', 2656: 'poissons', 2657: 'poker', 2658: 'poli', 2659: 'pommes', 2660: 'ponctuel', 2661: 'ponctuelle', 2662: 'ponctuelles', 2663: 'ponctuels', 2664: 'poney', 2665: 'populaire', 2666: 'porc', 2667: 'porte', 2668: 'portele', 2669: 'porté', 2670: 'portée', 2671: 'posele', 2672: 'possible', 2673: 'possède', 2674: 'poste', 2675: 'pot', 2676: 'poulets', 2677: 'poupée', 2678: 'pour', 2679: 'pourquoi', 2680: 'pourrais', 2681: 'pourraisje', 2682: 'pourrait', 2683: 'pourrions', 2684: 'pourrionsnous', 2685: 'poursuis', 2686: 'poursuit', 2687: 'poursuivez', 2688: 'poursuivi', 2689: 'poursuivit', 2690: 'poursuivrai', 2691: 'pourvu', 2692: 'pousse', 2693: 'poussela', 2694: 'poussele', 2695: 'poussent', 2696: 'pousser', 2697: 'poussetoi', 2698: 'poussez', 2699: 'poussezla', 2700: 'poussezle', 2701: 'poussezvous', 2702: 'pouvais', 2703: 'pouvez', 2704: 'pouvezvous', 2705: 'pouvoir', 2706: 'pouvons', 2707: 'pouvonsnous', 2708: 'poèmes', 2709: 'poète', 2710: 'poésie', 2711: 'premier', 2712: 'première', 2713: 'prend', 2714: 'prendrai', 2715: 'prendre', 2716: 'prends', 2717: 'prendsen', 2718: 'prendsle', 2719: 'prendstoi', 2720: 'prenez', 2721: 'prenezen', 2722: 'prenezle', 2723: 'presque', 2724: 'pressezvous', 2725: 'preuve', 2726: 'preuves', 2727: 'prie', 2728: 'priez', 2729: 'prime', 2730: 'printemps', 2731: 'prions', 2732: 'priorité', 2733: 'pris', 2734: 'prise', 2735: 'privé', 2736: 'problème', 2737: 'prochaine', 2738: 'proche', 2739: 'procès', 2740: 'procédons', 2741: 'produit', 2742: 'professeur', 2743: 'profondeur', 2744: 'profondément', 2745: 'projets', 2746: 'promets', 2747: 'promis', 2748: 'promîmes', 2749: 'propre', 2750: 'propres', 2751: 'protestais', 2752: 'protesté', 2753: 'prouverai', 2754: 'proximité', 2755: 'prudemment', 2756: 'prudent', 2757: 'prudente', 2758: 'prudentes', 2759: 'prudents', 2760: 'prune', 2761: 'pruneaux', 2762: 'près', 2763: 'précipite', 2764: 'précipitez', 2765: 'précipité', 2766: 'précipitée', 2767: 'préfère', 2768: 'préjugés', 2769: 'préoccupe', 2770: 'préoccupé', 2771: 'préoccupée', 2772: 'préparetoi', 2773: 'préparezvous', 2774: 'préparé', 2775: 'préparée', 2776: 'préparées', 2777: 'préparés', 2778: 'présent', 2779: 'présente', 2780: 'présentons', 2781: 'présenté', 2782: 'préséance', 2783: 'prévenu', 2784: 'prévenue', 2785: 'préviendrai', 2786: 'préviens', 2787: 'prêt', 2788: 'prête', 2789: 'prêtes', 2790: 'prêtre', 2791: 'prêts', 2792: 'prêté', 2793: 'pue', 2794: 'pues', 2795: 'puis', 2796: 'puisje', 2797: 'puissant', 2798: 'puissante', 2799: 'puriste', 2800: 'pâle', 2801: 'pèse', 2802: 'pénétré', 2803: 'pépère', 2804: 'pétoche', 2805: 'pété', 2806: 'pêchez', 2807: 'qua', 2808: 'quant', 2809: 'quastu', 2810: 'quavezvous', 2811: 'que', 2812: 'quel', 2813: 'quelconques', 2814: 'quelle', 2815: 'quelque', 2816: 'quelquesuns', 2817: 'quelquun', 2818: 'quereller', 2819: 'quest', 2820: 'questce', 2821: 'question', 2822: 'questions', 2823: 'qui', 2824: 'quiCOMMA', 2825: 'quiconque', 2826: 'quil', 2827: 'quitte', 2828: 'quittes', 2829: 'quittez', 2830: 'quitté', 2831: 'quittée', 2832: 'quoi', 2833: 'quoiCOMMA', 2834: 'quon', 2835: 'quun', 2836: 'quy', 2837: 'quétaitce', 2838: 'raccrocha', 2839: 'raccroche', 2840: 'raccrochez', 2841: 'raccroché', 2842: 'raconte', 2843: 'raconté', 2844: 'radote', 2845: 'radotez', 2846: 'raisin', 2847: 'raison', 2848: 'raisonnable', 2849: 'raisonnables', 2850: 'ralentis', 2851: 'ralentissez', 2852: 'ramassele', 2853: 'raoul', 2854: 'rapide', 2855: 'rapidement', 2856: 'rapides', 2857: 'rappelezmoi', 2858: 'rappelle', 2859: 'rappelleCOMMA', 2860: 'rappellemoi', 2861: 'rapprochezvous', 2862: 'rare', 2863: 'rassasié', 2864: 'rationnel', 2865: 'rationnelle', 2866: 'rattrapele', 2867: 'raté', 2868: 'ravi', 2869: 'ravie', 2870: 'rb', 2871: 'rcp', 2872: 'rebelle', 2873: 'rebondissons', 2874: 'rebonjour', 2875: 'recommence', 2876: 'recommencez', 2877: 'reconnaissant', 2878: 'reconnaissante', 2879: 'recueille', 2880: 'recul', 2881: 'recule', 2882: 'reculetoi', 2883: 'reculez', 2884: 'reculezvous', 2885: 'redemande', 2886: 'redemandez', 2887: 'refaisle', 2888: 'refaitesle', 2889: 'refusa', 2890: 'refuse', 2891: 'refuser', 2892: 'refusé', 2893: 'regard', 2894: 'regarda', 2895: 'regarde', 2896: 'regardele', 2897: 'regardemoi', 2898: 'regardenous', 2899: 'regarder', 2900: 'regarderai', 2901: 'regardez', 2902: 'regardezle', 2903: 'regardezmoi', 2904: 'regardeznous', 2905: 'regardé', 2906: 'reine', 2907: 'rejoindre', 2908: 'relais', 2909: 'relaxe', 2910: 'relaxeCOMMA', 2911: 'relâchele', 2912: 'relâchezle', 2913: 'relève', 2914: 'remarqué', 2915: 'remercie', 2916: 'remetsle', 2917: 'remettezle', 2918: 'remis', 2919: 'remise', 2920: 'remonté', 2921: 'remplacela', 2922: 'remplacele', 2923: 'remplacemoi', 2924: 'remplacezla', 2925: 'remplacezle', 2926: 'remué', 2927: 'remuée', 2928: 'remuées', 2929: 'remués', 2930: 'renard', 2931: 'renaître', 2932: 'rencard', 2933: 'rencontra', 2934: 'rencontrai', 2935: 'rencontrer', 2936: 'rencontrées', 2937: 'rencontrés', 2938: 'rend', 2939: 'rendezmoi', 2940: 'rendezvous', 2941: 'rendons', 2942: 'rendrastu', 2943: 'rendre', 2944: 'rendrezvous', 2945: 'rends', 2946: 'rendsmoi', 2947: 'rendstoi', 2948: 'rendu', 2949: 'rendue', 2950: 'renforts', 2951: 'reniflé', 2952: 'renonce', 2953: 'renonçons', 2954: 'rentre', 2955: 'rentrer', 2956: 'rentrez', 2957: 'rentré', 2958: 'rentrée', 2959: 'renversé', 2960: 'renvoyé', 2961: 'repensesy', 2962: 'repos', 2963: 'reposa', 2964: 'reposait', 2965: 'reposer', 2966: 'reposetoi', 2967: 'reposezvous', 2968: 'reposé', 2969: 'reposée', 2970: 'reprises', 2971: 'repu', 2972: 'respecte', 2973: 'respectueuse', 2974: 'respectueuses', 2975: 'respectueux', 2976: 'respirait', 2977: 'ressenti', 2978: 'ressentiment', 2979: 'ressentir', 2980: 'reste', 2981: 'resteCOMMA', 2982: 'rester', 2983: 'resterai', 2984: 'restesy', 2985: 'restez', 2986: 'restezCOMMA', 2987: 'restezy', 2988: 'resté', 2989: 'restée', 2990: 'retard', 2991: 'retenez', 2992: 'retiens', 2993: 'retiretoi', 2994: 'retirezvous', 2995: 'retour', 2996: 'retrait', 2997: 'retraite', 2998: 'retraité', 2999: 'retraitée', 3000: 'revenez', 3001: 'revenu', 3002: 'reviendrai', 3003: 'reviens', 3004: 'revoilà', 3005: 'revoir', 3006: 'revoyure', 3007: 'revue', 3008: 'revérifie', 3009: 'reçu', 3010: 'rhume', 3011: 'ri', 3012: 'riait', 3013: 'ricanait', 3014: 'ricané', 3015: 'riche', 3016: 'riches', 3017: 'rien', 3018: 'riez', 3019: 'rigole', 3020: 'rigolo', 3021: 'rigolé', 3022: 'rigoureux', 3023: 'riposte', 3024: 'ripostez', 3025: 'rire', 3026: 'ris', 3027: 'risques', 3028: 'risquetil', 3029: 'rit', 3030: 'riz', 3031: 'robot', 3032: 'roche', 3033: 'rock', 3034: 'roi', 3035: 'romantique', 3036: 'romantisme', 3037: 'rompez', 3038: 'rompre', 3039: 'romps', 3040: 'rompu', 3041: 'ronfle', 3042: 'rose', 3043: 'rouge', 3044: 'rouges', 3045: 'rougi', 3046: 'roule', 3047: 'rouler', 3048: 'roulez', 3049: 'rouspéteur', 3050: 'route', 3051: 'rue', 3052: 'rugby', 3053: 'ruiné', 3054: 'ruinée', 3055: 'ruinées', 3056: 'ruinés', 3057: 'rumeur', 3058: 'râler', 3059: 'râlé', 3060: 'règle', 3061: 'réagi', 3062: 'réaliste', 3063: 'récréation', 3064: 'récrée', 3065: 'réfléchis', 3066: 'réfléchissezy', 3067: 'réfléchisy', 3068: 'régime', 3069: 'régnait', 3070: 'réparai', 3071: 'répare', 3072: 'réparer', 3073: 'réparez', 3074: 'réparé', 3075: 'réparée', 3076: 'répondez', 3077: 'répondezmoi', 3078: 'répondre', 3079: 'réponds', 3080: 'réservé', 3081: 'résiste', 3082: 'résister', 3083: 'rétablissement', 3084: 'réunissezvous', 3085: 'réussi', 3086: 'réussirons', 3087: 'réveil', 3088: 'réveille', 3089: 'réveilleles', 3090: 'réveilletoi', 3091: 'réveilletoiCOMMA', 3092: 'réveillezvous', 3093: 'réveillé', 3094: 'réveillée', 3095: 'réveillées', 3096: 'réveillés', 3097: 'réécrit', 3098: 'réécrivis', 3099: 'rêve', 3100: 'rêventils', 3101: 'rêver', 3102: 'rêves', 3103: 'rêvé', 3104: 'sa', 3105: 'sable', 3106: 'sac', 3107: 'sadapteratil', 3108: 'sage', 3109: 'sagesse', 3110: 'saggrave', 3111: 'sagissaitil', 3112: 'sagit', 3113: 'sagitil', 3114: 'saignait', 3115: 'saigne', 3116: 'saigner', 3117: 'sain', 3118: 'sainement', 3119: 'saint', 3120: 'sainte', 3121: 'sais', 3122: 'saisirai', 3123: 'saisismoi', 3124: 'saisissezmoi', 3125: 'saisissezvous', 3126: 'saisistoi', 3127: 'saistu', 3128: 'sait', 3129: 'saitil', 3130: 'sale', 3131: 'sales', 3132: 'sali', 3133: 'salue', 3134: 'salut', 3135: 'salutCOMMA', 3136: 'samedi', 3137: 'sang', 3138: 'sangfroid', 3139: 'sanglotait', 3140: 'sans', 3141: 'santé', 3142: 'saoul', 3143: 'saoule', 3144: 'saoules', 3145: 'saouls', 3146: 'saqué', 3147: 'sarrache', 3148: 'satisfait', 3149: 'satisfaite', 3150: 'satisfaites', 3151: 'satisfaits', 3152: 'sauf', 3153: 'saufs', 3154: 'saumon', 3155: 'saura', 3156: 'sauront', 3157: 'sauta', 3158: 'saute', 3159: 'sauter', 3160: 'sautez', 3161: 'sauté', 3162: 'sauve', 3163: 'sauverai', 3164: 'sauves', 3165: 'sauvetoi', 3166: 'sauvez', 3167: 'sauvezvous', 3168: 'sauvé', 3169: 'sauvée', 3170: 'sauvées', 3171: 'sauvés', 3172: 'savais', 3173: 'savait', 3174: 'savaitil', 3175: 'savent', 3176: 'savez', 3177: 'savezvous', 3178: 'savions', 3179: 'savoir', 3180: 'savons', 3181: 'sceptique', 3182: 'schcoumoune', 3183: 'scié', 3184: 'sciée', 3185: 'scorpion', 3186: 'se', 3187: 'seconde', 3188: 'secouetoi', 3189: 'secouezvous', 3190: 'secoué', 3191: 'secouée', 3192: 'secret', 3193: 'sectaire', 3194: 'sefforce', 3195: 'selon', 3196: 'semaine', 3197: 'semble', 3198: 'semmerde', 3199: 'sen', 3200: 'senfuit', 3201: 'sennuie', 3202: 'sens', 3203: 'sensCOMMA', 3204: 'sensass', 3205: 'sensible', 3206: 'sent', 3207: 'sentais', 3208: 'sentait', 3209: 'sentend', 3210: 'sentez', 3211: 'senti', 3212: 'sentie', 3213: 'sentir', 3214: 'sentis', 3215: 'senvole', 3216: 'sept', 3217: 'sera', 3218: 'serai', 3219: 'serais', 3220: 'seraisje', 3221: 'seraitce', 3222: 'serremoi', 3223: 'serrezmoi', 3224: 'sers', 3225: 'serstoi', 3226: 'sert', 3227: 'servante', 3228: 'servezvous', 3229: 'service', 3230: 'ses', 3231: 'sest', 3232: 'sestil', 3233: 'seul', 3234: 'seule', 3235: 'seules', 3236: 'seuls', 3237: 'sexy', 3238: 'si', 3239: 'sidéré', 3240: 'sidérée', 3241: 'sien', 3242: 'sienne', 3243: 'siennes', 3244: 'siens', 3245: 'sieste', 3246: 'siffla', 3247: 'sifflé', 3248: 'signe', 3249: 'signerai', 3250: 'signez', 3251: 'signé', 3252: 'sil', 3253: 'silencieux', 3254: 'simple', 3255: 'simplement', 3256: 'simulation', 3257: 'simule', 3258: 'sincère', 3259: 'sinistre', 3260: 'sirènes', 3261: 'siège', 3262: 'ski', 3263: 'skie', 3264: 'skier', 3265: 'sobre', 3266: 'soif', 3267: 'soigné', 3268: 'soin', 3269: 'soirée', 3270: 'sois', 3271: 'soit', 3272: 'soitil', 3273: 'sol', 3274: 'soldat', 3275: 'solidaire', 3276: 'solide', 3277: 'sombre', 3278: 'somme', 3279: 'sommeil', 3280: 'sommes', 3281: 'sommesnous', 3282: 'somnolent', 3283: 'son', 3284: 'sont', 3285: 'sontelles', 3286: 'sontils', 3287: 'sors', 3288: 'sortez', 3289: 'sorti', 3290: 'sortie', 3291: 'sortir', 3292: 'sortirai', 3293: 'sortit', 3294: 'sortons', 3295: 'sou', 3296: 'souci', 3297: 'souciait', 3298: 'soucie', 3299: 'soucier', 3300: 'soucions', 3301: 'soudoyées', 3302: 'soudoyés', 3303: 'souffle', 3304: 'souffre', 3305: 'souhait', 3306: 'souhaitemoi', 3307: 'souhaitezmoi', 3308: 'souhaits', 3309: 'souk', 3310: 'soulagement', 3311: 'soupe', 3312: 'soupira', 3313: 'soupiré', 3314: 'source', 3315: 'sourcils', 3316: 'sourd', 3317: 'sourde', 3318: 'souri', 3319: 'souriait', 3320: 'souriez', 3321: 'souriezCOMMA', 3322: 'sourire', 3323: 'souris', 3324: 'sourisCOMMA', 3325: 'sourit', 3326: 'sournois', 3327: 'sournoise', 3328: 'sournoises', 3329: 'sous', 3330: 'soutenez', 3331: 'soutiens', 3332: 'souvenezvousen', 3333: 'souvenons', 3334: 'souvent', 3335: 'souviens', 3336: 'souviensCOMMA', 3337: 'souviensentoi', 3338: 'soyez', 3339: 'soûl', 3340: 'spécial', 3341: 'spécifique', 3342: 'squash', 3343: 'stagiaire', 3344: 'stone', 3345: 'stop', 3346: 'stoppez', 3347: 'stoïque', 3348: 'strict', 3349: 'stricte', 3350: 'stricts', 3351: 'stupide', 3352: 'stupéfait', 3353: 'stylo', 3354: 'su', 3355: 'sucre', 3356: 'sucré', 3357: 'sud', 3358: 'suffit', 3359: 'suffitCOMMA', 3360: 'suicide', 3361: 'suis', 3362: 'suisje', 3363: 'suisle', 3364: 'suismoi', 3365: 'suisnous', 3366: 'suisse', 3367: 'suite', 3368: 'suivez', 3369: 'suivezle', 3370: 'suiveznous', 3371: 'suivi', 3372: 'suivrons', 3373: 'sujet', 3374: 'super', 3375: 'supplie', 3376: 'suppose', 3377: 'sur', 3378: 'surfeur', 3379: 'surfeuse', 3380: 'surprendsmoi', 3381: 'surprenezmoi', 3382: 'surpris', 3383: 'surprise', 3384: 'sursauté', 3385: 'surviendra', 3386: 'survis', 3387: 'survivre', 3388: 'survécu', 3389: 'survécûmes', 3390: 'sushis', 3391: 'sy', 3392: 'sympa', 3393: 'sympas', 3394: 'syncope', 3395: 'sèche', 3396: 'séché', 3397: 'sécurité', 3398: 'séparonsnous', 3399: 'séparâmes', 3400: 'séparées', 3401: 'séparés', 3402: 'sérieuse', 3403: 'sérieusement', 3404: 'sérieuses', 3405: 'sérieux', 3406: 'sévanouira', 3407: 'sûr', 3408: 'sûre', 3409: 'sûres', 3410: 'sûrs', 3411: 'ta', 3412: 'tabasser', 3413: 'tabou', 3414: 'tadmire', 3415: 'tadore', 3416: 'tai', 3417: 'taider', 3418: 'taiderai', 3419: 'tailletoi', 3420: 'taillezvous', 3421: 'taimais', 3422: 'taime', 3423: 'taimions', 3424: 'taisezvous', 3425: 'taistoi', 3426: 'talent', 3427: 'talons', 3428: 'tapproche', 3429: 'tapprécie', 3430: 'taquine', 3431: 'tard', 3432: 'tarrête', 3433: 'tarte', 3434: 'tas', 3435: 'tasseoir', 3436: 'tassures', 3437: 'tatillon', 3438: 'tatillonne', 3439: 'taudis', 3440: 'taureau', 3441: 'tavons', 3442: 'taxi', 3443: 'tchintchin', 3444: 'te', 3445: 'teint', 3446: 'tellement', 3447: 'temps', 3448: 'ten', 3449: 'tenace', 3450: 'tenais', 3451: 'tendu', 3452: 'tenez', 3453: 'tenezvous', 3454: 'tennuiestu', 3455: 'tentends', 3456: 'tenter', 3457: 'tenterai', 3458: 'tenterons', 3459: 'tenté', 3460: 'tentée', 3461: 'tenu', 3462: 'tenue', 3463: 'tenvie', 3464: 'terminer', 3465: 'terminé', 3466: 'terminée', 3467: 'terre', 3468: 'terrible', 3469: 'terrifié', 3470: 'terrifiée', 3471: 'tes', 3472: 'test', 3473: 'testu', 3474: 'thomas', 3475: 'thune', 3476: 'thé', 3477: 'théCOMMA', 3478: 'tien', 3479: 'tiendrai', 3480: 'tiendrons', 3481: 'tienne', 3482: 'tiens', 3483: 'tiensCOMMA', 3484: 'tienstoi', 3485: 'tient', 3486: 'timide', 3487: 'timides', 3488: 'tinquiète', 3489: 'tira', 3490: 'tire', 3491: 'tirer', 3492: 'tirerai', 3493: 'tirerons', 3494: 'tiretoi', 3495: 'tirez', 3496: 'tiré', 3497: 'tirées', 3498: 'tirés', 3499: 'titulaire', 3500: 'tocade', 3501: 'toi', 3502: 'toiCOMMA', 3503: 'toimême', 3504: 'tom', 3505: 'tomCOMMA', 3506: 'tombe', 3507: 'tomber', 3508: 'tombé', 3509: 'tombée', 3510: 'tombées', 3511: 'tombés', 3512: 'ton', 3513: 'tont', 3514: 'tort', 3515: 'toubib', 3516: 'touche', 3517: 'touchela', 3518: 'touchele', 3519: 'touchez', 3520: 'touchezla', 3521: 'touchezle', 3522: 'touché', 3523: 'touchée', 3524: 'toujours', 3525: 'toupet', 3526: 'tour', 3527: 'touriste', 3528: 'tournait', 3529: 'tourne', 3530: 'tous', 3531: 'tousse', 3532: 'toussota', 3533: 'tout', 3534: 'toute', 3535: 'toutes', 3536: 'tracasse', 3537: 'tracassez', 3538: 'trace', 3539: 'tracez', 3540: 'traduisezle', 3541: 'traduisle', 3542: 'tragique', 3543: 'tragédie', 3544: 'train', 3545: 'trains', 3546: 'tranchante', 3547: 'tranquille', 3548: 'tranquilles', 3549: 'tranquillisezvous', 3550: 'transpiré', 3551: 'travail', 3552: 'travaillais', 3553: 'travaille', 3554: 'travailler', 3555: 'travaillerai', 3556: 'travaillerons', 3557: 'travaillez', 3558: 'travaillons', 3559: 'travaillé', 3560: 'tremble', 3561: 'tremblé', 3562: 'tremper', 3563: 'trempée', 3564: 'trente', 3565: 'tressailli', 3566: 'trichait', 3567: 'triche', 3568: 'trichent', 3569: 'trichez', 3570: 'triché', 3571: 'tricote', 3572: 'tripe', 3573: 'tripes', 3574: 'triste', 3575: 'tristes', 3576: 'tristesse', 3577: 'trois', 3578: 'troisième', 3579: 'trompe', 3580: 'trompé', 3581: 'trompéje', 3582: 'trop', 3583: 'trou', 3584: 'trouille', 3585: 'trouva', 3586: 'trouvai', 3587: 'trouvais', 3588: 'trouve', 3589: 'trouverai', 3590: 'trouvez', 3591: 'trouvé', 3592: 'très', 3593: 'trébuché', 3594: 'trépasser', 3595: 'tu', 3596: 'tua', 3597: 'tue', 3598: 'tuela', 3599: 'tuele', 3600: 'tuer', 3601: 'tuerai', 3602: 'tuez', 3603: 'tuezla', 3604: 'tuezle', 3605: 'tué', 3606: 'ty', 3607: 'type', 3608: 'téchauffer', 3609: 'télé', 3610: 'téléphonai', 3611: 'téléphoner', 3612: 'téléphoné', 3613: 'tête', 3614: 'têtu', 3615: 'têtue', 3616: 'tôt', 3617: 't’adore', 3618: 't’ai', 3619: 't’as', 3620: 't’es', 3621: 'un', 3622: 'une', 3623: 'urgent', 3624: 'usage', 3625: 'utilise', 3626: 'utiliseles', 3627: 'utilisez', 3628: 'utilisezles', 3629: 'va', 3630: 'vaCOMMA', 3631: 'vague', 3632: 'vain', 3633: 'vaincu', 3634: 'vainqueurs', 3635: 'vais', 3636: 'valise', 3637: 'vaniteux', 3638: 'vanné', 3639: 'vannée', 3640: 'vas', 3641: 'vastu', 3642: 'vasy', 3643: 'vasyCOMMA', 3644: 'vaten', 3645: 'vatil', 3646: 'vat’en', 3647: 'veille', 3648: 'veillez', 3649: 'veillé', 3650: 'veinard', 3651: 'veinarde', 3652: 'veine', 3653: 'vend', 3654: 'vends', 3655: 'vendu', 3656: 'venez', 3657: 'venezCOMMA', 3658: 'venir', 3659: 'venons', 3660: 'venu', 3661: 'venue', 3662: 'verbaliser', 3663: 'verbalisé', 3664: 'verbalisée', 3665: 'verre', 3666: 'verreCOMMA', 3667: 'verrouillela', 3668: 'verrouillele', 3669: 'verrouillezla', 3670: 'verrouillezle', 3671: 'verrouillé', 3672: 'vers', 3673: 'verse', 3674: 'vert', 3675: 'vertige', 3676: 'vertiges', 3677: 'veuillez', 3678: 'veut', 3679: 'veuve', 3680: 'veux', 3681: 'veuxtu', 3682: 'vexé', 3683: 'viande', 3684: 'viandeCOMMA', 3685: 'vide', 3686: 'videla', 3687: 'videle', 3688: 'videz', 3689: 'videzla', 3690: 'videzle', 3691: 'vie', 3692: 'vieille', 3693: 'vieilles', 3694: 'viendra', 3695: 'viendrai', 3696: 'viendratelle', 3697: 'viendront', 3698: 'viens', 3699: 'viensCOMMA', 3700: 'vient', 3701: 'vientil', 3702: 'vieux', 3703: 'vigilant', 3704: 'vigilants', 3705: 'vilain', 3706: 'ville', 3707: 'villes', 3708: 'vin', 3709: 'vint', 3710: 'violon', 3711: 'viral', 3712: 'virez', 3713: 'viré', 3714: 'vis', 3715: 'visa', 3716: 'vise', 3717: 'visez', 3718: 'vite', 3719: 'vivant', 3720: 'vivante', 3721: 'vivons', 3722: 'vivrai', 3723: 'vivratil', 3724: 'vivre', 3725: 'voici', 3726: 'voiles', 3727: 'voilà', 3728: 'voir', 3729: 'vois', 3730: 'voistu', 3731: 'voiture', 3732: 'voitures', 3733: 'vole', 3734: 'volent', 3735: 'voler', 3736: 'voleur', 3737: 'volontaire', 3738: 'volé', 3739: 'vomi', 3740: 'vont', 3741: 'vos', 3742: 'vote', 3743: 'voter', 3744: 'votez', 3745: 'votons', 3746: 'votre', 3747: 'voté', 3748: 'voulais', 3749: 'voulons', 3750: 'vous', 3751: 'vousCOMMA', 3752: 'vousmême', 3753: 'voyages', 3754: 'voyais', 3755: 'voyait', 3756: 'voyant', 3757: 'voyante', 3758: 'voyez', 3759: 'voyezvous', 3760: 'voyons', 3761: 'vrai', 3762: 'vraiCOMMA', 3763: 'vraiment', 3764: 'vu', 3765: 'vuCOMMA', 3766: 'vue', 3767: 'vues', 3768: 'vus', 3769: 'végan', 3770: 'véhicule', 3771: 'véhiculé', 3772: 'véhiculée', 3773: 'vérifie', 3774: 'vérifieCOMMA', 3775: 'vérifier', 3776: 'vérifierai', 3777: 'vérifierons', 3778: 'vérifiez', 3779: 'vérifié', 3780: 'véritable', 3781: 'vérité', 3782: 'vôtre', 3783: 'wah', 3784: 'waouh', 3785: 'y', 3786: 'yen', 3787: 'yeux', 3788: 'zéro', 3789: '«', 3790: '»', 3791: '»COMMA', 3792: 'à', 3793: 'âge', 3794: 'âgé', 3795: 'ça', 3796: 'ébloui', 3797: 'éblouie', 3798: 'écartetoi', 3799: 'écartezvous', 3800: 'échappé', 3801: 'échappées', 3802: 'échappés', 3803: 'échauffer', 3804: 'échauffetoi', 3805: 'échauffezvous', 3806: 'échecs', 3807: 'échouerons', 3808: 'échoué', 3809: 'éclatâmes', 3810: 'éclaté', 3811: 'éclipsé', 3812: 'éclosent', 3813: 'écoulé', 3814: 'écouta', 3815: 'écoute', 3816: 'écoutemoi', 3817: 'écoutez', 3818: 'écoutons', 3819: 'écouté', 3820: 'écrasé', 3821: 'écrasée', 3822: 'écrasées', 3823: 'écrasés', 3824: 'écrire', 3825: 'écris', 3826: 'écrismoi', 3827: 'écrit', 3828: 'écrivez', 3829: 'écrivezmoi', 3830: 'égal', 3831: 'également', 3832: 'égalité', 3833: 'égard', 3834: 'égaré', 3835: 'égoïste', 3836: 'égoïstes', 3837: 'élaboré', 3838: 'élan', 3839: 'éloigné', 3840: 'élu', 3841: 'élue', 3842: 'émettre', 3843: 'ému', 3844: 'émue', 3845: 'énervé', 3846: 'énorme', 3847: 'épaté', 3848: 'épaules', 3849: 'épidémie', 3850: 'épousemoi', 3851: 'épousezmoi', 3852: 'épuisé', 3853: 'épuisée', 3854: 'équipage', 3855: 'équipe', 3856: 'équitable', 3857: 'équitables', 3858: 'étais', 3859: 'étaisje', 3860: 'était', 3861: 'étaitce', 3862: 'étaitil', 3863: 'éteignezle', 3864: 'éteinsle', 3865: 'étiez', 3866: 'étions', 3867: 'étoile', 3868: 'étourdi', 3869: 'étourdie', 3870: 'étrange', 3871: 'étudiant', 3872: 'étudie', 3873: 'étudier', 3874: 'étudiez', 3875: 'été', 3876: 'évanoui', 3877: 'évanouie', 3878: 'éveillé', 3879: 'évident', 3880: 'événement', 3881: 'êtes', 3882: 'êtesvous', 3883: 'être', 3884: 'œil', 3885: 'œufs'}\n",
      "{0: 'START_', 1: '_END', 2: 'aandrusiak', 3: 'abchessel', 4: 'adelpa', 5: 'adjusting', 6: 'afeinberg', 7: 'ag', 8: 'ahmes', 9: 'aiji', 10: 'airvian', 11: 'ajira', 12: 'akaaj', 13: 'akenaseryan', 14: 'alanfus', 15: 'alanrominger', 16: 'alec', 17: 'alexander', 18: 'alexisslay', 19: 'alexparrish', 20: 'algideamygdale', 21: 'alkrasnov', 22: 'amarmecheri', 23: 'amastan', 24: 'amazighgirl', 25: 'amazighsatlasblideen', 26: 'amikema', 27: 'anthaus', 28: 'aperitero', 29: 'apex', 30: 'apollineb', 31: 'aquatius', 32: 'archibald', 33: 'arnxy', 34: 'arykiss', 35: 'asliabbasi', 36: 'asma', 37: 'asveja', 38: 'attribution', 39: 'aurix', 40: 'autobot', 41: 'awael', 42: 'baisong', 43: 'balamax', 44: 'barbiche', 45: 'bart', 46: 'beatminister', 47: 'becs', 48: 'belgavox', 49: 'benbika', 50: 'betsemes', 51: 'blabla', 52: 'blaypaul', 53: 'bluelagoon', 54: 'bluepie', 55: 'bmaynard', 56: 'boriqa', 57: 'borkonall', 58: 'boscowitch', 59: 'bourdu', 60: 'bout', 61: 'bpeel', 62: 'brauliobezerra', 63: 'bravesentry', 64: 'bruno', 65: 'cairnhead', 66: 'callmath', 67: 'camilozeta', 68: 'carpelanam', 69: 'ccby', 70: 'ccneko', 71: 'ce', 72: 'ch', 73: 'chevere', 74: 'chrikaru', 75: 'christian', 76: 'christiane', 77: 'chtof', 78: 'ck', 79: 'clockworkbred', 80: 'cm', 81: 'cn', 82: 'cntrational', 83: 'cocorico', 84: 'codl', 85: 'corvus', 86: 'couarail', 87: 'cronos', 88: 'cs', 89: 'dafp', 90: 'danepo', 91: 'danquebec', 92: 'darinmex', 93: 'ddnktr', 94: 'dejo', 95: 'delapouite', 96: 'deniko', 97: 'despear', 98: 'djino', 99: 'djsaidez', 100: 'djt', 101: 'dolomitt', 102: 'dominiko', 103: 'donkirkby', 104: 'doremi', 105: 'dorenda', 106: 'dreamk', 107: 'dunbab', 108: 'dzouras', 109: 'eastasiastudent', 110: 'eccles', 111: 'eeyinn', 112: 'elaichi', 113: 'eldad', 114: 'elgranjuego', 115: 'elliv', 116: 'emilykamalei', 117: 'enteka', 118: 'erikspen', 119: 'espamatics', 120: 'etala', 121: 'etoile', 122: 'evafranska', 123: 'fanty', 124: 'fatih', 125: 'felix', 126: 'felvideki', 127: 'feudrenais', 128: 'filcxjo', 129: 'firez', 130: 'fish', 131: 'fishda', 132: 'fleur', 133: 'france', 134: 'franlexcois', 135: 'franzmimm', 136: 'freddy', 137: 'freyja', 138: 'gabuliellu', 139: 'gaeiie', 140: 'gamalnemeri', 141: 'garborg', 142: 'gb', 143: 'geez', 144: 'gegeveggie', 145: 'gianich', 146: 'gillux', 147: 'gleki', 148: 'goofy', 149: 'gorgmah', 150: 'guilmaeire', 151: 'gulliver', 152: 'gustonrankin', 153: 'halebopp', 154: 'hamsolo', 155: 'hautis', 156: 'helloroto', 157: 'hennebert', 158: 'hertz', 159: 'hikari', 160: 'honestlang', 161: 'hortusdei', 162: 'hrin', 163: 'human', 164: 'hybrid', 165: 'ichivivi', 166: 'iris', 167: 'itll', 168: 'jackd', 169: 'jakov', 170: 'jamessilver', 171: 'janejeanne', 172: 'janfred', 173: 'jared', 174: 'jaxhere', 175: 'jdonnarumma', 176: 'jerom', 177: 'jesse', 178: 'jgauthier', 179: 'jhomel', 180: 'jio', 181: 'joelle', 182: 'joseph', 183: 'js', 184: 'jsakuragi', 185: 'judithkiwi', 186: 'juliemdm', 187: 'julienpdc', 188: 'kadwallon', 189: 'kaiperkins', 190: 'kamilla', 191: 'kamillel', 192: 'kareybh', 193: 'kebukebu', 194: 'keepyoureyespeeled', 195: 'kerbear', 196: 'khirthash', 197: 'kieranjpball', 198: 'kirschen', 199: 'korekorin', 200: 'kotobaboke', 201: 'kotobaniko', 202: 'kurisutofu', 203: 'laghmanc', 204: 'lamino', 205: 'languageexpert', 206: 'lapinhibou', 207: 'lbdx', 208: 'lebensfreude', 209: 'lepetitanegris', 210: 'lich', 211: 'limegreenteknii', 212: 'lindoula', 213: 'littleben', 214: 'littlejohn', 215: 'lovasoa', 216: 'lovewindpower', 217: 'lucasmg', 218: 'luciosp', 219: 'ludoviko', 220: 'lukaszpp', 221: 'lulantis', 222: 'lunamoonsilver', 223: 'lunchmeat', 224: 'magnificentgoddess', 225: 'mailohilohi', 226: 'mamat', 227: 'manuk', 228: 'marcelostockle', 229: 'marcp', 230: 'marieanne', 231: 'mariezou', 232: 'marioo', 233: 'marloncori', 234: 'marshmallowcat', 235: 'martin', 236: 'martinshadock', 237: 'maxence', 238: 'mayliu', 239: 'mccarras', 240: 'meerkat', 241: 'megamanenm', 242: 'melospawn', 243: 'methodgt', 244: 'michelnialon', 245: 'micsmithel', 246: 'mifonto', 247: 'minshirui', 248: 'minti', 249: 'mkacfr', 250: 'mofli', 251: 'mouche', 252: 'mouseneb', 253: 'mrshoval', 254: 'narnar', 255: 'nasirbal', 256: 'nava', 257: 'nbrr', 258: 'ngdongit', 259: 'nibuen', 260: 'nihonkage', 261: 'nimfeo', 262: 'nm', 263: 'nomadsoul', 264: 'nursemeeks', 265: 'nylez', 266: 'objectivesea', 267: 'offdare', 268: 'olivier', 269: 'ooneykcall', 270: 'orbpic', 271: 'osohombre', 272: 'ozzie', 273: 'paiooooo', 274: 'pandark', 275: 'papabear', 276: 'pasquetfernando', 277: 'patgfisher', 278: 'pauldhunt', 279: 'paulina', 280: 'paulp', 281: 'perceneige', 282: 'petermontgomercy', 283: 'petro', 284: 'petrus', 285: 'pfif', 286: 'pfpillon', 287: 'phil', 288: 'pierrephi', 289: 'piksea', 290: 'pinkyshoes', 291: 'pititnatole', 292: 'pjer', 293: 'pkill', 294: 'pne', 295: 'popolon', 296: 'ppjet', 297: 'qdii', 298: 'quazel', 299: 'rabicat', 300: 'raspakrusto', 301: 'ravas', 302: 'rawrren', 303: 'rbbrbb', 304: 'rene', 305: 'ricardo', 306: 'riccioberto', 307: 'ritualesatanum', 308: 'robbieheslop', 309: 'rockaround', 310: 'roggy', 311: 'roiofthesuisse', 312: 'romira', 313: 'rovo', 314: 'rpglover', 315: 'rtomharper', 316: 'rtroisgr', 317: 'ryanthewired', 318: 'saasmath', 319: 'sacredceltic', 320: 'sadhen', 321: 'saeb', 322: 'saksm', 323: 'salikh', 324: 'salutlolo', 325: 'samm', 326: 'sbamsbamsbam', 327: 'sbgodin', 328: 'sciuro', 329: 'scorpionvenin', 330: 'scotland', 331: 'scott', 332: 'sctld', 333: 'seael', 334: 'sebastien', 335: 'sebcurti', 336: 'selenyt', 337: 'serhiy', 338: 'serpico', 339: 'sestersparrow', 340: 'shanghainese', 341: 'sharaf', 342: 'sharptoothed', 343: 'sharris', 344: 'shazback', 345: 'shekitten', 346: 'shishir', 347: 'sibelius', 348: 'siggg', 349: 'silvermane', 350: 'sisyphe', 351: 'sittelle', 352: 'slomox', 353: 'snout', 354: 'sojl', 355: 'songe', 356: 'sorgan', 357: 'sourcebenedict', 358: 'sourcevoa', 359: 'sowelielepanto', 360: 'spacebadger', 361: 'spamster', 362: 'spenceryonce', 363: 'stevegrant', 364: 'sugoi', 365: 'sundown', 366: 'supercoolbeas', 367: 'suzie', 368: 'sweethoney', 369: 'swift', 370: 'sysko', 371: 'talbotseb', 372: 'tamnguyen', 373: 'tamsanh', 374: 'tamy', 375: 'tanay', 376: 'tanzoniteblack', 377: 'tatoebaorg', 378: 'tcha', 379: 'theachaean', 380: 'themiska', 381: 'theocracy', 382: 'thomsmells', 383: 'thowas', 384: 'thrash', 385: 'thuret', 386: 'tinacalysto', 387: 'tomo', 388: 'toynop', 389: 'trailsend', 390: 'trang', 391: 'tras', 392: 'tripbeetle', 393: 'trotter', 394: 'ufs', 395: 'ulyssemc', 396: 'undertoad', 397: 'vanilla', 398: 'verymuchso', 399: 'vest', 400: 'vgigregg', 401: 'virtuoz', 402: 'visionelf', 403: 'vortarulo', 404: 'wakano', 405: 'wallebot', 406: 'weihaiping', 407: 'wemix', 408: 'westofeden', 409: 'whidou', 410: 'witbrock', 411: 'wittydev', 412: 'wma', 413: 'xellugis', 414: 'xxyy', 415: 'yemana', 416: 'yessoos', 417: 'yorickvidal', 418: 'youmu', 419: 'yuiyu', 420: 'zaphod', 421: 'zarisi', 422: 'zifre', 423: 'zipangu', 424: 'zmoo', 425: 'zurich', 426: 'zwhzwh'}\n"
     ]
    }
   ],
   "source": [
    "# reversing the word index dictionary to get words from index values\n",
    "reverse_input_char_index = dict((i,char) for char, i in input_token_index.items())\n",
    "reverse_output_char_index = dict((i,char) for char, i in output_token_index.items())\n",
    "print(reverse_input_char_index)\n",
    "print(reverse_output_char_index)"
   ]
  },
  {
   "cell_type": "code",
   "execution_count": 33,
   "metadata": {
    "colab": {},
    "colab_type": "code",
    "id": "v7sxCqviPq0Z"
   },
   "outputs": [],
   "source": [
    "# function to predict translation\n",
    "def decode_seq(input_seq):\n",
    "  state_values = encoder_model.predict(input_seq)\n",
    "\n",
    "  target_seq = np.zeros((1,1))\n",
    "\n",
    "  target_seq[0,0] = output_token_index['START_']\n",
    "\n",
    "  stop_condition = False\n",
    "  decoded_sentence = ''\n",
    "\n",
    "  while not stop_condition:\n",
    "    output_tokens, h, c = decoder_model.predict([target_seq] + state_values)\n",
    "\n",
    "    sampled_token_index = np.argmax(output_tokens[0,-1,:])\n",
    "    sampled_char = reverse_output_char_index[sampled_token_index]\n",
    "\n",
    "    decoded_sentence += ' ' + sampled_char\n",
    "\n",
    "    if(sampled_char == '_END' or len(decoded_sentence) > 52):\n",
    "      stop_condition = True\n",
    "\n",
    "    target_seq = np.zeros((1,1))\n",
    "    target_seq[0,0] = sampled_token_index\n",
    "\n",
    "    state_values = [h,c] \n",
    "\n",
    "  return decoded_sentence"
   ]
  },
  {
   "cell_type": "code",
   "execution_count": 34,
   "metadata": {
    "colab": {
     "base_uri": "https://localhost:8080/",
     "height": 425
    },
    "colab_type": "code",
    "id": "FflXcD7ARxLz",
    "outputId": "1d1f6c2b-129b-4061-a805-4bdc84bf24f3"
   },
   "outputs": [
    {
     "name": "stdout",
     "output_type": "stream",
     "text": [
      "1/1 [==============================] - 4s 4s/step\n",
      "1/1 [==============================] - 0s 425ms/step\n",
      "1/1 [==============================] - 0s 24ms/step\n",
      "1/1 [==============================] - 0s 24ms/step\n",
      "1/1 [==============================] - 0s 16ms/step\n",
      "1/1 [==============================] - 0s 16ms/step\n",
      "1/1 [==============================] - 0s 16ms/step\n",
      "1/1 [==============================] - 0s 16ms/step\n",
      "----\n",
      "Input_sentence:  It worked.    ça a fonctionné\n",
      "Name: english, dtype: object\n",
      "decoded sentence:   ccby france attribution tatoebaorg ck sacredceltic _END\n",
      "1/1 [==============================] - 0s 16ms/step\n",
      "1/1 [==============================] - 0s 24ms/step\n",
      "1/1 [==============================] - 0s 22ms/step\n",
      "1/1 [==============================] - 0s 24ms/step\n",
      "1/1 [==============================] - 0s 24ms/step\n",
      "1/1 [==============================] - 0s 20ms/step\n",
      "1/1 [==============================] - 0s 18ms/step\n",
      "1/1 [==============================] - 0s 26ms/step\n",
      "----\n",
      "Input_sentence:  All is quiet.    tout est calme\n",
      "Name: english, dtype: object\n",
      "decoded sentence:   ccby france attribution tatoebaorg ck sacredceltic _END\n",
      "1/1 [==============================] - 0s 16ms/step\n",
      "1/1 [==============================] - 0s 24ms/step\n",
      "1/1 [==============================] - 0s 16ms/step\n",
      "1/1 [==============================] - 0s 24ms/step\n",
      "1/1 [==============================] - 0s 29ms/step\n",
      "1/1 [==============================] - 0s 16ms/step\n",
      "1/1 [==============================] - 0s 16ms/step\n",
      "1/1 [==============================] - 0s 16ms/step\n",
      "----\n",
      "Input_sentence:  Do you smoke?    tu fumes \n",
      "Name: english, dtype: object\n",
      "decoded sentence:   ccby france attribution tatoebaorg cm micsmithel _END\n",
      "1/1 [==============================] - 0s 19ms/step\n",
      "1/1 [==============================] - 0s 23ms/step\n",
      "1/1 [==============================] - 0s 16ms/step\n",
      "1/1 [==============================] - 0s 22ms/step\n",
      "1/1 [==============================] - 0s 24ms/step\n",
      "1/1 [==============================] - 0s 24ms/step\n",
      "1/1 [==============================] - 0s 24ms/step\n",
      "1/1 [==============================] - 0s 16ms/step\n",
      "----\n",
      "Input_sentence:  Stop!    ça suffit \n",
      "Name: english, dtype: object\n",
      "decoded sentence:   ccby france attribution tatoebaorg cm sacredceltic _END\n",
      "1/1 [==============================] - 0s 16ms/step\n",
      "1/1 [==============================] - 0s 16ms/step\n",
      "1/1 [==============================] - 0s 16ms/step\n",
      "1/1 [==============================] - 0s 24ms/step\n",
      "1/1 [==============================] - 0s 24ms/step\n",
      "1/1 [==============================] - 0s 16ms/step\n",
      "1/1 [==============================] - 0s 16ms/step\n",
      "1/1 [==============================] - 0s 24ms/step\n",
      "----\n",
      "Input_sentence:  No problem.    sans problème\n",
      "Name: english, dtype: object\n",
      "decoded sentence:   ccby france attribution tatoebaorg cm sacredceltic _END\n",
      "1/1 [==============================] - 0s 24ms/step\n",
      "1/1 [==============================] - 0s 16ms/step\n",
      "1/1 [==============================] - 0s 17ms/step\n",
      "1/1 [==============================] - 0s 16ms/step\n",
      "1/1 [==============================] - 0s 16ms/step\n",
      "1/1 [==============================] - 0s 24ms/step\n",
      "1/1 [==============================] - 0s 16ms/step\n",
      "1/1 [==============================] - 0s 24ms/step\n",
      "----\n",
      "Input_sentence:  I'll go ahead.    jirai en avant\n",
      "Name: english, dtype: object\n",
      "decoded sentence:   ccby france attribution tatoebaorg ck sacredceltic _END\n"
     ]
    }
   ],
   "source": [
    "# testing the model for a sample from existing data\n",
    "for seq_index in [1234, 4356, 4565, 34, 2345, 7656]:\n",
    "  input_seq = encoder_input_data[seq_index:seq_index+1]\n",
    "  decoded_sentence = decode_seq(input_seq)\n",
    "  print('----')\n",
    "  print('Input_sentence: ', lines.english[seq_index:seq_index+1])\n",
    "  print('decoded sentence: ', decoded_sentence)"
   ]
  }
 ],
 "metadata": {
  "accelerator": "GPU",
  "colab": {
   "collapsed_sections": [],
   "name": "Neural Machine Translation.ipynb",
   "provenance": []
  },
  "kernelspec": {
   "display_name": "Python 3 (ipykernel)",
   "language": "python",
   "name": "python3"
  },
  "language_info": {
   "codemirror_mode": {
    "name": "ipython",
    "version": 3
   },
   "file_extension": ".py",
   "mimetype": "text/x-python",
   "name": "python",
   "nbconvert_exporter": "python",
   "pygments_lexer": "ipython3",
   "version": "3.9.4"
  }
 },
 "nbformat": 4,
 "nbformat_minor": 1
}
